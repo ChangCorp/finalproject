{
  "cells": [
    {
      "cell_type": "markdown",
      "metadata": {
        "id": "view-in-github",
        "colab_type": "text"
      },
      "source": [
        "<a href=\"https://colab.research.google.com/github/ChangCorp/finalproject/blob/main/ChangCorp_Stage_2_Version_2.ipynb\" target=\"_parent\"><img src=\"https://colab.research.google.com/assets/colab-badge.svg\" alt=\"Open In Colab\"/></a>"
      ]
    },
    {
      "cell_type": "markdown",
      "metadata": {
        "id": "pO3Slpn3XJ9v"
      },
      "source": [
        "#HOMEWORK DATA PRE-PROCESSING"
      ]
    },
    {
      "cell_type": "markdown",
      "metadata": {
        "id": "P6Kbk74tR5ec"
      },
      "source": [
        "## Preparation"
      ]
    },
    {
      "cell_type": "code",
      "execution_count": 176,
      "metadata": {
        "id": "BWQO0w9EXRRy"
      },
      "outputs": [],
      "source": [
        "import pandas as pd\n",
        "import numpy as np\n",
        "\n",
        "import matplotlib\n",
        "import matplotlib.pyplot as plt\n",
        "import seaborn as sns\n",
        "from sklearn.preprocessing import LabelEncoder   \n",
        "import pickle  \n",
        "from pathlib import Path  \n",
        "\n",
        "%matplotlib inline \n",
        "matplotlib.style.use('ggplot') \n"
      ]
    },
    {
      "cell_type": "code",
      "execution_count": 177,
      "metadata": {
        "id": "qzBK5uZ4XsJl"
      },
      "outputs": [],
      "source": [
        "df_train_raw = pd.read_csv('https://raw.githubusercontent.com/ChangCorp/finalproject/main/train_delimited_comma.csv')\n",
        "df_test_raw = pd.read_csv('https://raw.githubusercontent.com/ChangCorp/finalproject/main/test_delimited_comma.csv')"
      ]
    },
    {
      "cell_type": "code",
      "execution_count": 178,
      "metadata": {
        "id": "-vo2932VcZCX"
      },
      "outputs": [],
      "source": [
        "# menyalin dataset agar tidak mengubah dataset raw\n",
        "df_train = df_train_raw.copy()\n",
        "df_test = df_test_raw.copy()"
      ]
    },
    {
      "cell_type": "code",
      "source": [
        "# mengubah nama kolom 'y' menjadi 'subscribed' untuk menghindari kebingungan saat modeling dan validation\n",
        "df_train=df_train.rename(columns = {'y':'subscribed'})\n",
        "df_test=df_test.rename(columns = {'y':'subscribed'})"
      ],
      "metadata": {
        "id": "Gpo2M2yHIrLr"
      },
      "execution_count": 179,
      "outputs": []
    },
    {
      "cell_type": "markdown",
      "metadata": {
        "id": "Q9VIq4EnXjb1"
      },
      "source": [
        "## Data Cleansing"
      ]
    },
    {
      "cell_type": "markdown",
      "metadata": {
        "id": "tAf1ut61Xj-n"
      },
      "source": [
        "### A. Handle Missing Value"
      ]
    },
    {
      "cell_type": "markdown",
      "metadata": {
        "id": "k05Ficbjem8m"
      },
      "source": [
        "#### 1. TRAIN DATA SET"
      ]
    },
    {
      "cell_type": "code",
      "execution_count": 180,
      "metadata": {
        "colab": {
          "base_uri": "https://localhost:8080/"
        },
        "id": "wQQwM039XxUv",
        "outputId": "230f0997-c2e4-4b0b-cb9a-a90953fdfecc"
      },
      "outputs": [
        {
          "output_type": "execute_result",
          "data": {
            "text/plain": [
              "age           0\n",
              "job           0\n",
              "marital       0\n",
              "education     0\n",
              "default       0\n",
              "balance       0\n",
              "housing       0\n",
              "loan          0\n",
              "contact       0\n",
              "day           0\n",
              "month         0\n",
              "duration      0\n",
              "campaign      0\n",
              "pdays         0\n",
              "previous      0\n",
              "poutcome      0\n",
              "subscribed    0\n",
              "dtype: int64"
            ]
          },
          "metadata": {},
          "execution_count": 180
        }
      ],
      "source": [
        "# mengetahui missing value\n",
        "df_train.isna().sum()"
      ]
    },
    {
      "cell_type": "markdown",
      "metadata": {
        "id": "DPIAaRoLYcSG"
      },
      "source": [
        "* Tidak ditemukan missing value namun terdapat nilai *unknown* pada kolom `job`, `education`, `contact`, dan `poutcome`. <br>\n",
        "* Kolom `job`, `education`, `contact` memikliki unknown yang relatif tidak banyak, akan diisi dengan nilai mode. <br>\n",
        "* Kolom `poutcome` memiliki *unknown* sekitar 37k records, akan di-feature encoding menjadi poutcome_success 0 1, <br>"
      ]
    },
    {
      "cell_type": "markdown",
      "metadata": {
        "id": "b5M__WICxzf_"
      },
      "source": [
        "##### Handling *Unknown* value `job`"
      ]
    },
    {
      "cell_type": "code",
      "source": [
        "df_train1=df_train.groupby(['education','job']).agg({'job':['count']})\n",
        "\n",
        "df_train1=df_train1.reset_index() #diperlukan supaya bisa ganti nama kolom\n",
        "df_train1.columns=['education','job','count']\n",
        "df_train1.head()"
      ],
      "metadata": {
        "id": "MirV-I2hpZCU",
        "colab": {
          "base_uri": "https://localhost:8080/",
          "height": 201
        },
        "outputId": "c14fbeb5-96d0-450c-e45e-359f7caf43c0"
      },
      "execution_count": 181,
      "outputs": [
        {
          "output_type": "execute_result",
          "data": {
            "text/plain": [
              "  education           job  count\n",
              "0   primary        admin.    209\n",
              "1   primary   blue-collar   3758\n",
              "2   primary  entrepreneur    183\n",
              "3   primary     housemaid    627\n",
              "4   primary    management    294"
            ],
            "text/html": [
              "\n",
              "  <div id=\"df-9fe3e9cd-c874-4583-97e7-7964cf159f33\">\n",
              "    <div class=\"colab-df-container\">\n",
              "      <div>\n",
              "<style scoped>\n",
              "    .dataframe tbody tr th:only-of-type {\n",
              "        vertical-align: middle;\n",
              "    }\n",
              "\n",
              "    .dataframe tbody tr th {\n",
              "        vertical-align: top;\n",
              "    }\n",
              "\n",
              "    .dataframe thead th {\n",
              "        text-align: right;\n",
              "    }\n",
              "</style>\n",
              "<table border=\"1\" class=\"dataframe\">\n",
              "  <thead>\n",
              "    <tr style=\"text-align: right;\">\n",
              "      <th></th>\n",
              "      <th>education</th>\n",
              "      <th>job</th>\n",
              "      <th>count</th>\n",
              "    </tr>\n",
              "  </thead>\n",
              "  <tbody>\n",
              "    <tr>\n",
              "      <th>0</th>\n",
              "      <td>primary</td>\n",
              "      <td>admin.</td>\n",
              "      <td>209</td>\n",
              "    </tr>\n",
              "    <tr>\n",
              "      <th>1</th>\n",
              "      <td>primary</td>\n",
              "      <td>blue-collar</td>\n",
              "      <td>3758</td>\n",
              "    </tr>\n",
              "    <tr>\n",
              "      <th>2</th>\n",
              "      <td>primary</td>\n",
              "      <td>entrepreneur</td>\n",
              "      <td>183</td>\n",
              "    </tr>\n",
              "    <tr>\n",
              "      <th>3</th>\n",
              "      <td>primary</td>\n",
              "      <td>housemaid</td>\n",
              "      <td>627</td>\n",
              "    </tr>\n",
              "    <tr>\n",
              "      <th>4</th>\n",
              "      <td>primary</td>\n",
              "      <td>management</td>\n",
              "      <td>294</td>\n",
              "    </tr>\n",
              "  </tbody>\n",
              "</table>\n",
              "</div>\n",
              "      <button class=\"colab-df-convert\" onclick=\"convertToInteractive('df-9fe3e9cd-c874-4583-97e7-7964cf159f33')\"\n",
              "              title=\"Convert this dataframe to an interactive table.\"\n",
              "              style=\"display:none;\">\n",
              "        \n",
              "  <svg xmlns=\"http://www.w3.org/2000/svg\" height=\"24px\"viewBox=\"0 0 24 24\"\n",
              "       width=\"24px\">\n",
              "    <path d=\"M0 0h24v24H0V0z\" fill=\"none\"/>\n",
              "    <path d=\"M18.56 5.44l.94 2.06.94-2.06 2.06-.94-2.06-.94-.94-2.06-.94 2.06-2.06.94zm-11 1L8.5 8.5l.94-2.06 2.06-.94-2.06-.94L8.5 2.5l-.94 2.06-2.06.94zm10 10l.94 2.06.94-2.06 2.06-.94-2.06-.94-.94-2.06-.94 2.06-2.06.94z\"/><path d=\"M17.41 7.96l-1.37-1.37c-.4-.4-.92-.59-1.43-.59-.52 0-1.04.2-1.43.59L10.3 9.45l-7.72 7.72c-.78.78-.78 2.05 0 2.83L4 21.41c.39.39.9.59 1.41.59.51 0 1.02-.2 1.41-.59l7.78-7.78 2.81-2.81c.8-.78.8-2.07 0-2.86zM5.41 20L4 18.59l7.72-7.72 1.47 1.35L5.41 20z\"/>\n",
              "  </svg>\n",
              "      </button>\n",
              "      \n",
              "  <style>\n",
              "    .colab-df-container {\n",
              "      display:flex;\n",
              "      flex-wrap:wrap;\n",
              "      gap: 12px;\n",
              "    }\n",
              "\n",
              "    .colab-df-convert {\n",
              "      background-color: #E8F0FE;\n",
              "      border: none;\n",
              "      border-radius: 50%;\n",
              "      cursor: pointer;\n",
              "      display: none;\n",
              "      fill: #1967D2;\n",
              "      height: 32px;\n",
              "      padding: 0 0 0 0;\n",
              "      width: 32px;\n",
              "    }\n",
              "\n",
              "    .colab-df-convert:hover {\n",
              "      background-color: #E2EBFA;\n",
              "      box-shadow: 0px 1px 2px rgba(60, 64, 67, 0.3), 0px 1px 3px 1px rgba(60, 64, 67, 0.15);\n",
              "      fill: #174EA6;\n",
              "    }\n",
              "\n",
              "    [theme=dark] .colab-df-convert {\n",
              "      background-color: #3B4455;\n",
              "      fill: #D2E3FC;\n",
              "    }\n",
              "\n",
              "    [theme=dark] .colab-df-convert:hover {\n",
              "      background-color: #434B5C;\n",
              "      box-shadow: 0px 1px 3px 1px rgba(0, 0, 0, 0.15);\n",
              "      filter: drop-shadow(0px 1px 2px rgba(0, 0, 0, 0.3));\n",
              "      fill: #FFFFFF;\n",
              "    }\n",
              "  </style>\n",
              "\n",
              "      <script>\n",
              "        const buttonEl =\n",
              "          document.querySelector('#df-9fe3e9cd-c874-4583-97e7-7964cf159f33 button.colab-df-convert');\n",
              "        buttonEl.style.display =\n",
              "          google.colab.kernel.accessAllowed ? 'block' : 'none';\n",
              "\n",
              "        async function convertToInteractive(key) {\n",
              "          const element = document.querySelector('#df-9fe3e9cd-c874-4583-97e7-7964cf159f33');\n",
              "          const dataTable =\n",
              "            await google.colab.kernel.invokeFunction('convertToInteractive',\n",
              "                                                     [key], {});\n",
              "          if (!dataTable) return;\n",
              "\n",
              "          const docLinkHtml = 'Like what you see? Visit the ' +\n",
              "            '<a target=\"_blank\" href=https://colab.research.google.com/notebooks/data_table.ipynb>data table notebook</a>'\n",
              "            + ' to learn more about interactive tables.';\n",
              "          element.innerHTML = '';\n",
              "          dataTable['output_type'] = 'display_data';\n",
              "          await google.colab.output.renderOutput(dataTable, element);\n",
              "          const docLink = document.createElement('div');\n",
              "          docLink.innerHTML = docLinkHtml;\n",
              "          element.appendChild(docLink);\n",
              "        }\n",
              "      </script>\n",
              "    </div>\n",
              "  </div>\n",
              "  "
            ]
          },
          "metadata": {},
          "execution_count": 181
        }
      ]
    },
    {
      "cell_type": "code",
      "source": [
        "# Mengambil mode job untuk tiap education\n",
        "df_train1[\"rank\"]=df_train1.groupby('education')['count'].rank(method=\"dense\", ascending=False)\n",
        "df_train1[df_train1['rank']==1].sort_values(['education'],ascending=[True])"
      ],
      "metadata": {
        "colab": {
          "base_uri": "https://localhost:8080/",
          "height": 170
        },
        "id": "mvgJH-zl7Van",
        "outputId": "50c7a5bc-5b03-4177-a416-32f3a3fa6f95"
      },
      "execution_count": 182,
      "outputs": [
        {
          "output_type": "execute_result",
          "data": {
            "text/plain": [
              "    education          job  count  rank\n",
              "1     primary  blue-collar   3758   1.0\n",
              "13  secondary  blue-collar   5371   1.0\n",
              "28   tertiary   management   7801   1.0\n",
              "37    unknown  blue-collar    454   1.0"
            ],
            "text/html": [
              "\n",
              "  <div id=\"df-2a81a68a-be1b-4cdb-a558-717f070fb557\">\n",
              "    <div class=\"colab-df-container\">\n",
              "      <div>\n",
              "<style scoped>\n",
              "    .dataframe tbody tr th:only-of-type {\n",
              "        vertical-align: middle;\n",
              "    }\n",
              "\n",
              "    .dataframe tbody tr th {\n",
              "        vertical-align: top;\n",
              "    }\n",
              "\n",
              "    .dataframe thead th {\n",
              "        text-align: right;\n",
              "    }\n",
              "</style>\n",
              "<table border=\"1\" class=\"dataframe\">\n",
              "  <thead>\n",
              "    <tr style=\"text-align: right;\">\n",
              "      <th></th>\n",
              "      <th>education</th>\n",
              "      <th>job</th>\n",
              "      <th>count</th>\n",
              "      <th>rank</th>\n",
              "    </tr>\n",
              "  </thead>\n",
              "  <tbody>\n",
              "    <tr>\n",
              "      <th>1</th>\n",
              "      <td>primary</td>\n",
              "      <td>blue-collar</td>\n",
              "      <td>3758</td>\n",
              "      <td>1.0</td>\n",
              "    </tr>\n",
              "    <tr>\n",
              "      <th>13</th>\n",
              "      <td>secondary</td>\n",
              "      <td>blue-collar</td>\n",
              "      <td>5371</td>\n",
              "      <td>1.0</td>\n",
              "    </tr>\n",
              "    <tr>\n",
              "      <th>28</th>\n",
              "      <td>tertiary</td>\n",
              "      <td>management</td>\n",
              "      <td>7801</td>\n",
              "      <td>1.0</td>\n",
              "    </tr>\n",
              "    <tr>\n",
              "      <th>37</th>\n",
              "      <td>unknown</td>\n",
              "      <td>blue-collar</td>\n",
              "      <td>454</td>\n",
              "      <td>1.0</td>\n",
              "    </tr>\n",
              "  </tbody>\n",
              "</table>\n",
              "</div>\n",
              "      <button class=\"colab-df-convert\" onclick=\"convertToInteractive('df-2a81a68a-be1b-4cdb-a558-717f070fb557')\"\n",
              "              title=\"Convert this dataframe to an interactive table.\"\n",
              "              style=\"display:none;\">\n",
              "        \n",
              "  <svg xmlns=\"http://www.w3.org/2000/svg\" height=\"24px\"viewBox=\"0 0 24 24\"\n",
              "       width=\"24px\">\n",
              "    <path d=\"M0 0h24v24H0V0z\" fill=\"none\"/>\n",
              "    <path d=\"M18.56 5.44l.94 2.06.94-2.06 2.06-.94-2.06-.94-.94-2.06-.94 2.06-2.06.94zm-11 1L8.5 8.5l.94-2.06 2.06-.94-2.06-.94L8.5 2.5l-.94 2.06-2.06.94zm10 10l.94 2.06.94-2.06 2.06-.94-2.06-.94-.94-2.06-.94 2.06-2.06.94z\"/><path d=\"M17.41 7.96l-1.37-1.37c-.4-.4-.92-.59-1.43-.59-.52 0-1.04.2-1.43.59L10.3 9.45l-7.72 7.72c-.78.78-.78 2.05 0 2.83L4 21.41c.39.39.9.59 1.41.59.51 0 1.02-.2 1.41-.59l7.78-7.78 2.81-2.81c.8-.78.8-2.07 0-2.86zM5.41 20L4 18.59l7.72-7.72 1.47 1.35L5.41 20z\"/>\n",
              "  </svg>\n",
              "      </button>\n",
              "      \n",
              "  <style>\n",
              "    .colab-df-container {\n",
              "      display:flex;\n",
              "      flex-wrap:wrap;\n",
              "      gap: 12px;\n",
              "    }\n",
              "\n",
              "    .colab-df-convert {\n",
              "      background-color: #E8F0FE;\n",
              "      border: none;\n",
              "      border-radius: 50%;\n",
              "      cursor: pointer;\n",
              "      display: none;\n",
              "      fill: #1967D2;\n",
              "      height: 32px;\n",
              "      padding: 0 0 0 0;\n",
              "      width: 32px;\n",
              "    }\n",
              "\n",
              "    .colab-df-convert:hover {\n",
              "      background-color: #E2EBFA;\n",
              "      box-shadow: 0px 1px 2px rgba(60, 64, 67, 0.3), 0px 1px 3px 1px rgba(60, 64, 67, 0.15);\n",
              "      fill: #174EA6;\n",
              "    }\n",
              "\n",
              "    [theme=dark] .colab-df-convert {\n",
              "      background-color: #3B4455;\n",
              "      fill: #D2E3FC;\n",
              "    }\n",
              "\n",
              "    [theme=dark] .colab-df-convert:hover {\n",
              "      background-color: #434B5C;\n",
              "      box-shadow: 0px 1px 3px 1px rgba(0, 0, 0, 0.15);\n",
              "      filter: drop-shadow(0px 1px 2px rgba(0, 0, 0, 0.3));\n",
              "      fill: #FFFFFF;\n",
              "    }\n",
              "  </style>\n",
              "\n",
              "      <script>\n",
              "        const buttonEl =\n",
              "          document.querySelector('#df-2a81a68a-be1b-4cdb-a558-717f070fb557 button.colab-df-convert');\n",
              "        buttonEl.style.display =\n",
              "          google.colab.kernel.accessAllowed ? 'block' : 'none';\n",
              "\n",
              "        async function convertToInteractive(key) {\n",
              "          const element = document.querySelector('#df-2a81a68a-be1b-4cdb-a558-717f070fb557');\n",
              "          const dataTable =\n",
              "            await google.colab.kernel.invokeFunction('convertToInteractive',\n",
              "                                                     [key], {});\n",
              "          if (!dataTable) return;\n",
              "\n",
              "          const docLinkHtml = 'Like what you see? Visit the ' +\n",
              "            '<a target=\"_blank\" href=https://colab.research.google.com/notebooks/data_table.ipynb>data table notebook</a>'\n",
              "            + ' to learn more about interactive tables.';\n",
              "          element.innerHTML = '';\n",
              "          dataTable['output_type'] = 'display_data';\n",
              "          await google.colab.output.renderOutput(dataTable, element);\n",
              "          const docLink = document.createElement('div');\n",
              "          docLink.innerHTML = docLinkHtml;\n",
              "          element.appendChild(docLink);\n",
              "        }\n",
              "      </script>\n",
              "    </div>\n",
              "  </div>\n",
              "  "
            ]
          },
          "metadata": {},
          "execution_count": 182
        }
      ]
    },
    {
      "cell_type": "code",
      "execution_count": 183,
      "metadata": {
        "id": "B7Xfw7btSyoF"
      },
      "outputs": [],
      "source": [
        "# Nilai unknown pada `job` berubah menyesuaikan data `education`\n",
        "\n",
        "df_train.loc[(df_train.job == \"unknown\") & (df_train.education == \"primary\"),\"job\"] = \"blue-collar\"\n",
        "df_train.loc[(df_train.job == \"unknown\") & (df_train.education == \"secondary\"),\"job\"] = \"blue-collar\"\n",
        "df_train.loc[(df_train.job == \"unknown\") & (df_train.education == \"tertiary\"),\"job\"] = \"management\"\n",
        "df_train.loc[(df_train.job == \"unknown\") & (df_train.education == \"unknown\"),\"job\"] = \"blue-collar\""
      ]
    },
    {
      "cell_type": "code",
      "execution_count": 184,
      "metadata": {
        "colab": {
          "base_uri": "https://localhost:8080/"
        },
        "id": "BSLCrPbIS7HF",
        "outputId": "a9e478b0-89b2-41ae-a412-850ac6c6b0ee"
      },
      "outputs": [
        {
          "output_type": "execute_result",
          "data": {
            "text/plain": [
              "blue-collar      9981\n",
              "management       9497\n",
              "technician       7597\n",
              "admin.           5171\n",
              "services         4154\n",
              "retired          2264\n",
              "self-employed    1579\n",
              "entrepreneur     1487\n",
              "unemployed       1303\n",
              "housemaid        1240\n",
              "student           938\n",
              "Name: job, dtype: int64"
            ]
          },
          "metadata": {},
          "execution_count": 184
        }
      ],
      "source": [
        "# Nilai unknown pada `job` berubah menyesuaikan data `education`\n",
        "df_train[\"job\"].value_counts()"
      ]
    },
    {
      "cell_type": "markdown",
      "metadata": {
        "id": "l7P6OMDy09rR"
      },
      "source": [
        "##### Handling *Unknown* value  `education`"
      ]
    },
    {
      "cell_type": "code",
      "source": [
        "# Mengambil mode education untuk tiap job\n",
        "df_train1[\"rank2\"]=df_train1.groupby('job')['count'].rank(method=\"dense\", ascending=False)\n",
        "df_train1[df_train1['rank2']==1].sort_values(['job'],ascending=[True])"
      ],
      "metadata": {
        "id": "VN1QzQ0FxBUe",
        "colab": {
          "base_uri": "https://localhost:8080/",
          "height": 414
        },
        "outputId": "2c289cc1-1753-4418-8755-0341be2f4d30"
      },
      "execution_count": 185,
      "outputs": [
        {
          "output_type": "execute_result",
          "data": {
            "text/plain": [
              "    education            job  count  rank  rank2\n",
              "12  secondary         admin.   4219   3.0    1.0\n",
              "13  secondary    blue-collar   5371   1.0    1.0\n",
              "26   tertiary   entrepreneur    686   4.0    1.0\n",
              "3     primary      housemaid    627   3.0    1.0\n",
              "28   tertiary     management   7801   1.0    1.0\n",
              "17  secondary        retired    984   6.0    1.0\n",
              "30   tertiary  self-employed    833   3.0    1.0\n",
              "19  secondary       services   3457   4.0    1.0\n",
              "20  secondary        student    508  10.0    1.0\n",
              "21  secondary     technician   5229   2.0    1.0\n",
              "22  secondary     unemployed    728   7.0    1.0\n",
              "47    unknown        unknown    127   6.0    1.0"
            ],
            "text/html": [
              "\n",
              "  <div id=\"df-b06a73df-537b-4b9e-9e4d-9c06078f5728\">\n",
              "    <div class=\"colab-df-container\">\n",
              "      <div>\n",
              "<style scoped>\n",
              "    .dataframe tbody tr th:only-of-type {\n",
              "        vertical-align: middle;\n",
              "    }\n",
              "\n",
              "    .dataframe tbody tr th {\n",
              "        vertical-align: top;\n",
              "    }\n",
              "\n",
              "    .dataframe thead th {\n",
              "        text-align: right;\n",
              "    }\n",
              "</style>\n",
              "<table border=\"1\" class=\"dataframe\">\n",
              "  <thead>\n",
              "    <tr style=\"text-align: right;\">\n",
              "      <th></th>\n",
              "      <th>education</th>\n",
              "      <th>job</th>\n",
              "      <th>count</th>\n",
              "      <th>rank</th>\n",
              "      <th>rank2</th>\n",
              "    </tr>\n",
              "  </thead>\n",
              "  <tbody>\n",
              "    <tr>\n",
              "      <th>12</th>\n",
              "      <td>secondary</td>\n",
              "      <td>admin.</td>\n",
              "      <td>4219</td>\n",
              "      <td>3.0</td>\n",
              "      <td>1.0</td>\n",
              "    </tr>\n",
              "    <tr>\n",
              "      <th>13</th>\n",
              "      <td>secondary</td>\n",
              "      <td>blue-collar</td>\n",
              "      <td>5371</td>\n",
              "      <td>1.0</td>\n",
              "      <td>1.0</td>\n",
              "    </tr>\n",
              "    <tr>\n",
              "      <th>26</th>\n",
              "      <td>tertiary</td>\n",
              "      <td>entrepreneur</td>\n",
              "      <td>686</td>\n",
              "      <td>4.0</td>\n",
              "      <td>1.0</td>\n",
              "    </tr>\n",
              "    <tr>\n",
              "      <th>3</th>\n",
              "      <td>primary</td>\n",
              "      <td>housemaid</td>\n",
              "      <td>627</td>\n",
              "      <td>3.0</td>\n",
              "      <td>1.0</td>\n",
              "    </tr>\n",
              "    <tr>\n",
              "      <th>28</th>\n",
              "      <td>tertiary</td>\n",
              "      <td>management</td>\n",
              "      <td>7801</td>\n",
              "      <td>1.0</td>\n",
              "      <td>1.0</td>\n",
              "    </tr>\n",
              "    <tr>\n",
              "      <th>17</th>\n",
              "      <td>secondary</td>\n",
              "      <td>retired</td>\n",
              "      <td>984</td>\n",
              "      <td>6.0</td>\n",
              "      <td>1.0</td>\n",
              "    </tr>\n",
              "    <tr>\n",
              "      <th>30</th>\n",
              "      <td>tertiary</td>\n",
              "      <td>self-employed</td>\n",
              "      <td>833</td>\n",
              "      <td>3.0</td>\n",
              "      <td>1.0</td>\n",
              "    </tr>\n",
              "    <tr>\n",
              "      <th>19</th>\n",
              "      <td>secondary</td>\n",
              "      <td>services</td>\n",
              "      <td>3457</td>\n",
              "      <td>4.0</td>\n",
              "      <td>1.0</td>\n",
              "    </tr>\n",
              "    <tr>\n",
              "      <th>20</th>\n",
              "      <td>secondary</td>\n",
              "      <td>student</td>\n",
              "      <td>508</td>\n",
              "      <td>10.0</td>\n",
              "      <td>1.0</td>\n",
              "    </tr>\n",
              "    <tr>\n",
              "      <th>21</th>\n",
              "      <td>secondary</td>\n",
              "      <td>technician</td>\n",
              "      <td>5229</td>\n",
              "      <td>2.0</td>\n",
              "      <td>1.0</td>\n",
              "    </tr>\n",
              "    <tr>\n",
              "      <th>22</th>\n",
              "      <td>secondary</td>\n",
              "      <td>unemployed</td>\n",
              "      <td>728</td>\n",
              "      <td>7.0</td>\n",
              "      <td>1.0</td>\n",
              "    </tr>\n",
              "    <tr>\n",
              "      <th>47</th>\n",
              "      <td>unknown</td>\n",
              "      <td>unknown</td>\n",
              "      <td>127</td>\n",
              "      <td>6.0</td>\n",
              "      <td>1.0</td>\n",
              "    </tr>\n",
              "  </tbody>\n",
              "</table>\n",
              "</div>\n",
              "      <button class=\"colab-df-convert\" onclick=\"convertToInteractive('df-b06a73df-537b-4b9e-9e4d-9c06078f5728')\"\n",
              "              title=\"Convert this dataframe to an interactive table.\"\n",
              "              style=\"display:none;\">\n",
              "        \n",
              "  <svg xmlns=\"http://www.w3.org/2000/svg\" height=\"24px\"viewBox=\"0 0 24 24\"\n",
              "       width=\"24px\">\n",
              "    <path d=\"M0 0h24v24H0V0z\" fill=\"none\"/>\n",
              "    <path d=\"M18.56 5.44l.94 2.06.94-2.06 2.06-.94-2.06-.94-.94-2.06-.94 2.06-2.06.94zm-11 1L8.5 8.5l.94-2.06 2.06-.94-2.06-.94L8.5 2.5l-.94 2.06-2.06.94zm10 10l.94 2.06.94-2.06 2.06-.94-2.06-.94-.94-2.06-.94 2.06-2.06.94z\"/><path d=\"M17.41 7.96l-1.37-1.37c-.4-.4-.92-.59-1.43-.59-.52 0-1.04.2-1.43.59L10.3 9.45l-7.72 7.72c-.78.78-.78 2.05 0 2.83L4 21.41c.39.39.9.59 1.41.59.51 0 1.02-.2 1.41-.59l7.78-7.78 2.81-2.81c.8-.78.8-2.07 0-2.86zM5.41 20L4 18.59l7.72-7.72 1.47 1.35L5.41 20z\"/>\n",
              "  </svg>\n",
              "      </button>\n",
              "      \n",
              "  <style>\n",
              "    .colab-df-container {\n",
              "      display:flex;\n",
              "      flex-wrap:wrap;\n",
              "      gap: 12px;\n",
              "    }\n",
              "\n",
              "    .colab-df-convert {\n",
              "      background-color: #E8F0FE;\n",
              "      border: none;\n",
              "      border-radius: 50%;\n",
              "      cursor: pointer;\n",
              "      display: none;\n",
              "      fill: #1967D2;\n",
              "      height: 32px;\n",
              "      padding: 0 0 0 0;\n",
              "      width: 32px;\n",
              "    }\n",
              "\n",
              "    .colab-df-convert:hover {\n",
              "      background-color: #E2EBFA;\n",
              "      box-shadow: 0px 1px 2px rgba(60, 64, 67, 0.3), 0px 1px 3px 1px rgba(60, 64, 67, 0.15);\n",
              "      fill: #174EA6;\n",
              "    }\n",
              "\n",
              "    [theme=dark] .colab-df-convert {\n",
              "      background-color: #3B4455;\n",
              "      fill: #D2E3FC;\n",
              "    }\n",
              "\n",
              "    [theme=dark] .colab-df-convert:hover {\n",
              "      background-color: #434B5C;\n",
              "      box-shadow: 0px 1px 3px 1px rgba(0, 0, 0, 0.15);\n",
              "      filter: drop-shadow(0px 1px 2px rgba(0, 0, 0, 0.3));\n",
              "      fill: #FFFFFF;\n",
              "    }\n",
              "  </style>\n",
              "\n",
              "      <script>\n",
              "        const buttonEl =\n",
              "          document.querySelector('#df-b06a73df-537b-4b9e-9e4d-9c06078f5728 button.colab-df-convert');\n",
              "        buttonEl.style.display =\n",
              "          google.colab.kernel.accessAllowed ? 'block' : 'none';\n",
              "\n",
              "        async function convertToInteractive(key) {\n",
              "          const element = document.querySelector('#df-b06a73df-537b-4b9e-9e4d-9c06078f5728');\n",
              "          const dataTable =\n",
              "            await google.colab.kernel.invokeFunction('convertToInteractive',\n",
              "                                                     [key], {});\n",
              "          if (!dataTable) return;\n",
              "\n",
              "          const docLinkHtml = 'Like what you see? Visit the ' +\n",
              "            '<a target=\"_blank\" href=https://colab.research.google.com/notebooks/data_table.ipynb>data table notebook</a>'\n",
              "            + ' to learn more about interactive tables.';\n",
              "          element.innerHTML = '';\n",
              "          dataTable['output_type'] = 'display_data';\n",
              "          await google.colab.output.renderOutput(dataTable, element);\n",
              "          const docLink = document.createElement('div');\n",
              "          docLink.innerHTML = docLinkHtml;\n",
              "          element.appendChild(docLink);\n",
              "        }\n",
              "      </script>\n",
              "    </div>\n",
              "  </div>\n",
              "  "
            ]
          },
          "metadata": {},
          "execution_count": 185
        }
      ]
    },
    {
      "cell_type": "code",
      "execution_count": 186,
      "metadata": {
        "id": "IhWS61j6Ug_E"
      },
      "outputs": [],
      "source": [
        "# Nilai unknown pada `education` berubah menyesuaikan data modus pada `job`\n",
        "\n",
        "df_train.loc[(df_train.education == \"unknown\") & (df_train.job == \"admin.\"),\"education\"] = \"secondary\"\n",
        "df_train.loc[(df_train.education == \"unknown\") & (df_train.job == \"blue-collar\"),\"education\"] = \"secondary\"\n",
        "df_train.loc[(df_train.education == \"unknown\") & (df_train.job == \"entrepreneur\"),\"education\"] = \"tertiary\"\n",
        "df_train.loc[(df_train.education == \"unknown\") & (df_train.job == \"housemaid\"),\"education\"] = \"primary\"\n",
        "df_train.loc[(df_train.education == \"unknown\") & (df_train.job == \"management\"),\"education\"] = \"tertiary\"\n",
        "df_train.loc[(df_train.education == \"unknown\") & (df_train.job == \"retired\"),\"education\"] = \"secondary\"\n",
        "df_train.loc[(df_train.education == \"unknown\") & (df_train.job == \"self-employed\"),\"education\"] = \"tertiary\"\n",
        "df_train.loc[(df_train.education == \"unknown\") & (df_train.job == \"services\"),\"education\"] = \"secondary\"\n",
        "df_train.loc[(df_train.education == \"unknown\") & (df_train.job == \"student\"),\"education\"] = \"secondary\"\n",
        "df_train.loc[(df_train.education == \"unknown\") & (df_train.job == \"technician\"),\"education\"] = \"secondary\"\n",
        "df_train.loc[(df_train.education == \"unknown\") & (df_train.job == \"unemployed\"),\"education\"] = \"secondary\"\n",
        "df_train.loc[(df_train.education == \"unknown\"),\"education\"] = \"secondary\""
      ]
    },
    {
      "cell_type": "code",
      "source": [
        "df_train['education'].value_counts()"
      ],
      "metadata": {
        "colab": {
          "base_uri": "https://localhost:8080/"
        },
        "id": "DrdOIZt04AwK",
        "outputId": "3f3d7374-75bb-44e8-bbe0-24325f6f55c2"
      },
      "execution_count": 187,
      "outputs": [
        {
          "output_type": "execute_result",
          "data": {
            "text/plain": [
              "secondary    24657\n",
              "tertiary     13658\n",
              "primary       6896\n",
              "Name: education, dtype: int64"
            ]
          },
          "metadata": {},
          "execution_count": 187
        }
      ]
    },
    {
      "cell_type": "markdown",
      "metadata": {
        "id": "kP0W90nUWA9T"
      },
      "source": [
        "##### Handling *Unknown* value  `contact`"
      ]
    },
    {
      "cell_type": "code",
      "execution_count": 188,
      "metadata": {
        "id": "mhsDh0jQVe85"
      },
      "outputs": [],
      "source": [
        "df_train[\"contact\"].replace([\"unknown\"],df_train[\"contact\"].mode(),inplace = True)"
      ]
    },
    {
      "cell_type": "code",
      "execution_count": 189,
      "metadata": {
        "colab": {
          "base_uri": "https://localhost:8080/"
        },
        "id": "wlP_GzVFWOk6",
        "outputId": "c1916159-e69a-4188-955a-92129c240b50"
      },
      "outputs": [
        {
          "output_type": "execute_result",
          "data": {
            "text/plain": [
              "cellular     42305\n",
              "telephone     2906\n",
              "Name: contact, dtype: int64"
            ]
          },
          "metadata": {},
          "execution_count": 189
        }
      ],
      "source": [
        "df_train[\"contact\"].value_counts()"
      ]
    },
    {
      "cell_type": "markdown",
      "metadata": {
        "id": "le9jMVrXU9yC"
      },
      "source": [
        "Sudah tidak ada nilai *unknown* pada kolom `education` , `job`, `contact` "
      ]
    },
    {
      "cell_type": "markdown",
      "metadata": {
        "id": "JN5EtWe6e6qt"
      },
      "source": [
        "#### 2. TEST DATA SET"
      ]
    },
    {
      "cell_type": "code",
      "execution_count": 190,
      "metadata": {
        "colab": {
          "base_uri": "https://localhost:8080/"
        },
        "id": "UOt0_IvAfIAE",
        "outputId": "181c7a31-db8d-4570-ebb2-1d3aa3bbbe87"
      },
      "outputs": [
        {
          "output_type": "execute_result",
          "data": {
            "text/plain": [
              "age           0\n",
              "job           0\n",
              "marital       0\n",
              "education     0\n",
              "default       0\n",
              "balance       0\n",
              "housing       0\n",
              "loan          0\n",
              "contact       0\n",
              "day           0\n",
              "month         0\n",
              "duration      0\n",
              "campaign      0\n",
              "pdays         0\n",
              "previous      0\n",
              "poutcome      0\n",
              "subscribed    0\n",
              "dtype: int64"
            ]
          },
          "metadata": {},
          "execution_count": 190
        }
      ],
      "source": [
        "# mengetahui missing value\n",
        "df_test.isna().sum()"
      ]
    },
    {
      "cell_type": "code",
      "execution_count": 191,
      "metadata": {
        "id": "oDe51H04y56I"
      },
      "outputs": [],
      "source": [
        "# Nilai unknown pada `job` berubah menyesuaikan data `education`, mengikuti rules dataset Train\n",
        "\n",
        "df_test.loc[(df_test.job == \"unknown\") & (df_test.education == \"primary\"),\"job\"] = \"blue-collar\"\n",
        "df_test.loc[(df_test.job == \"unknown\") & (df_test.education == \"secondary\"),\"job\"] = \"blue-collar\"\n",
        "df_test.loc[(df_test.job == \"unknown\") & (df_test.education == \"tertiary\"),\"job\"] = \"management\"\n",
        "df_test.loc[(df_test.job == \"unknown\") & (df_test.education == \"unknown\"),\"job\"] = \"blue-collar\""
      ]
    },
    {
      "cell_type": "code",
      "execution_count": 192,
      "metadata": {
        "id": "atiiZBDF0gg7"
      },
      "outputs": [],
      "source": [
        "# Nilai unknown pada `education` berubah menyesuaikan data modus pada `job`, mengikuti rules dataset Train\n",
        "\n",
        "df_test.loc[(df_test.education == \"unknown\") & (df_test.job == \"admin.\"),\"education\"] = \"secondary\"\n",
        "df_test.loc[(df_test.education == \"unknown\") & (df_test.job == \"blue-collar\"),\"education\"] = \"secondary\"\n",
        "df_test.loc[(df_test.education == \"unknown\") & (df_test.job == \"entrepreneur\"),\"education\"] = \"tertiary\"\n",
        "df_test.loc[(df_test.education == \"unknown\") & (df_test.job == \"housemaid\"),\"education\"] = \"primary\"\n",
        "df_test.loc[(df_test.education == \"unknown\") & (df_test.job == \"management\"),\"education\"] = \"tertiary\"\n",
        "df_test.loc[(df_test.education == \"unknown\") & (df_test.job == \"retired\"),\"education\"] = \"secondary\"\n",
        "df_test.loc[(df_test.education == \"unknown\") & (df_test.job == \"self-employed\"),\"education\"] = \"tertiary\"\n",
        "df_test.loc[(df_test.education == \"unknown\") & (df_test.job == \"services\"),\"education\"] = \"secondary\"\n",
        "df_test.loc[(df_test.education == \"unknown\") & (df_test.job == \"student\"),\"education\"] = \"secondary\"\n",
        "df_test.loc[(df_test.education == \"unknown\") & (df_test.job == \"technician\"),\"education\"] = \"secondary\"\n",
        "df_test.loc[(df_test.education == \"unknown\") & (df_test.job == \"unemployed\"),\"education\"] = \"secondary\"\n",
        "df_test.loc[(df_test.education == \"unknown\"),\"education\"] = \"secondary\""
      ]
    },
    {
      "cell_type": "code",
      "execution_count": 193,
      "metadata": {
        "id": "BFQFUMKL0p8a"
      },
      "outputs": [],
      "source": [
        "df_test[\"contact\"].replace([\"unknown\"],df_test[\"contact\"].mode(),inplace = True)"
      ]
    },
    {
      "cell_type": "code",
      "source": [
        "df_test['job'].value_counts()"
      ],
      "metadata": {
        "id": "0araNA-k7Ezk",
        "colab": {
          "base_uri": "https://localhost:8080/"
        },
        "outputId": "f529702d-91fe-4ad6-cdb3-93a8f1d0e6c6"
      },
      "execution_count": 194,
      "outputs": [
        {
          "output_type": "execute_result",
          "data": {
            "text/plain": [
              "management       977\n",
              "blue-collar      976\n",
              "technician       768\n",
              "admin.           478\n",
              "services         417\n",
              "retired          230\n",
              "self-employed    183\n",
              "entrepreneur     168\n",
              "unemployed       128\n",
              "housemaid        112\n",
              "student           84\n",
              "Name: job, dtype: int64"
            ]
          },
          "metadata": {},
          "execution_count": 194
        }
      ]
    },
    {
      "cell_type": "code",
      "source": [
        "df_test['education'].value_counts()"
      ],
      "metadata": {
        "colab": {
          "base_uri": "https://localhost:8080/"
        },
        "id": "5ATn2HQD7-WQ",
        "outputId": "b00779dd-bc68-4243-aea5-166da5514d3d"
      },
      "execution_count": 195,
      "outputs": [
        {
          "output_type": "execute_result",
          "data": {
            "text/plain": [
              "secondary    2446\n",
              "tertiary     1392\n",
              "primary       683\n",
              "Name: education, dtype: int64"
            ]
          },
          "metadata": {},
          "execution_count": 195
        }
      ]
    },
    {
      "cell_type": "code",
      "source": [
        "df_test['contact'].value_counts()"
      ],
      "metadata": {
        "colab": {
          "base_uri": "https://localhost:8080/"
        },
        "id": "14l9tRdG8BqC",
        "outputId": "306dc2c7-e281-4996-c695-813fcc6d3083"
      },
      "execution_count": 196,
      "outputs": [
        {
          "output_type": "execute_result",
          "data": {
            "text/plain": [
              "cellular     4220\n",
              "telephone     301\n",
              "Name: contact, dtype: int64"
            ]
          },
          "metadata": {},
          "execution_count": 196
        }
      ]
    },
    {
      "cell_type": "code",
      "source": [
        "df_test.loc[(df_test.pdays == -1),\"pdays\"] = 9999"
      ],
      "metadata": {
        "id": "hR4g9J_gPPlh"
      },
      "execution_count": 197,
      "outputs": []
    },
    {
      "cell_type": "markdown",
      "metadata": {
        "id": "3IKA062H2MKk"
      },
      "source": [
        "Sudah tidak ada nilai *unknown* pada kolom `education` , `job`, `contact"
      ]
    },
    {
      "cell_type": "markdown",
      "metadata": {
        "id": "LCQ-yUeTXkB6"
      },
      "source": [
        "### B. Handle Duplicate Data"
      ]
    },
    {
      "cell_type": "markdown",
      "metadata": {
        "id": "eOY0V84yfMCs"
      },
      "source": [
        "#### 1. TRAIN DATA SET"
      ]
    },
    {
      "cell_type": "code",
      "execution_count": 198,
      "metadata": {
        "colab": {
          "base_uri": "https://localhost:8080/"
        },
        "id": "pjo5M13Eczvf",
        "outputId": "a4e83791-e76a-4d57-ffa5-799550a6d2a1"
      },
      "outputs": [
        {
          "output_type": "stream",
          "name": "stdout",
          "text": [
            "Jumlah baris duplicate:  0\n"
          ]
        }
      ],
      "source": [
        "# mengetahui jumlah baris yang duplicated terhadap semua kolom\n",
        "print('Jumlah baris duplicate: ', df_train.duplicated().sum())"
      ]
    },
    {
      "cell_type": "markdown",
      "metadata": {
        "id": "mHLBurloYt0w"
      },
      "source": [
        "Tidak ada data yang duplikat sehingga tidak dilakukan drop duplicates"
      ]
    },
    {
      "cell_type": "markdown",
      "metadata": {
        "id": "mqjIZNUnfUWs"
      },
      "source": [
        "#### 2. TEST DATA SET"
      ]
    },
    {
      "cell_type": "code",
      "execution_count": 199,
      "metadata": {
        "colab": {
          "base_uri": "https://localhost:8080/"
        },
        "id": "l7rOcGQe2X6R",
        "outputId": "6c605885-37c6-4259-99da-37852b88870e"
      },
      "outputs": [
        {
          "output_type": "stream",
          "name": "stdout",
          "text": [
            "Jumlah baris duplicate:  0\n"
          ]
        }
      ],
      "source": [
        "# mengetahui jumlah baris yang duplicated terhadap semua kolom\n",
        "print('Jumlah baris duplicate: ', df_test.duplicated().sum())"
      ]
    },
    {
      "cell_type": "markdown",
      "metadata": {
        "id": "wALEWeDI2b3d"
      },
      "source": [
        "Tidak ada data yang duplikat sehingga tidak dilakukan drop duplicates"
      ]
    },
    {
      "cell_type": "markdown",
      "metadata": {
        "id": "WUzJABD7XkFb"
      },
      "source": [
        "### C. Preprocess Numerical Data"
      ]
    },
    {
      "cell_type": "markdown",
      "source": [
        "#### Balance\n"
      ],
      "metadata": {
        "id": "iBQkcfvRnFEv"
      }
    },
    {
      "cell_type": "markdown",
      "source": [
        "h`balance` has outliers. Investigating highest 50 data, it seems outliers happen naturally (no sudden jump, balance increase gradually). We also tried several things to handle this feature:\n",
        "* Removing outlier using upper and lower limit --> loss around 5k records  \n",
        "* Log transformation --> this feature has zero and negative values (around 7k for both), using log will result in inf and error. Negative and zero balance are likely to happen naturally, so we will not remove them\n",
        "* Square root transformation --> resulting in multimodal distribution\n",
        "* Encoding Zero and Negative values as 1, then doing log transformation --> resulting in bimodal distribution (at 0 and 6)\n",
        "<br>\n",
        "<br>\n",
        "After consideration, for `balance` we will:\n",
        "* not remove outlier\n",
        "* hard code negative values as 0\n",
        "* feature engineer negative balance as 'overdraft_debt' (0 1) --> debt occured due to withdrawing or paying amount greater than available balance (bank allowed it)\n",
        "* use Feature Transformation - MinMax Scaler so algorithm will treat all features fairly"
      ],
      "metadata": {
        "id": "_wXuxuLCn8iA"
      }
    },
    {
      "cell_type": "code",
      "source": [
        "df_train.balance.sort_values().tail(20) # Outlier terjadi secara natural (tidak ada sudden jump)"
      ],
      "metadata": {
        "colab": {
          "base_uri": "https://localhost:8080/"
        },
        "id": "yq7BxPh7V9d-",
        "outputId": "265b7ae5-3e58-4993-bdb1-606fa35bea01"
      },
      "execution_count": 200,
      "outputs": [
        {
          "output_type": "execute_result",
          "data": {
            "text/plain": [
              "446       45248\n",
              "15869     45789\n",
              "13154     51439\n",
              "9536      52499\n",
              "22091     52527\n",
              "40763     52587\n",
              "43053     52587\n",
              "3197      56831\n",
              "27390     57435\n",
              "920       58544\n",
              "12926     58932\n",
              "41374     59649\n",
              "19420     64343\n",
              "21192     66653\n",
              "19785     66721\n",
              "41693     71188\n",
              "42558     81204\n",
              "43393     81204\n",
              "26227     98417\n",
              "39989    102127\n",
              "Name: balance, dtype: int64"
            ]
          },
          "metadata": {},
          "execution_count": 200
        }
      ]
    },
    {
      "cell_type": "code",
      "source": [
        "Q1 = df_train['balance'].quantile(0.25)\n",
        "Q3 = df_train['balance'].quantile(0.75)\n",
        "IQR = Q3-Q1\n",
        "low_limit = Q1 - 1.5*IQR\n",
        "high_limit = Q3 + 1.5*IQR\n",
        "df_train['balance'][(df_train['balance'] < low_limit) | (df_train['balance'] > high_limit)].describe()"
      ],
      "metadata": {
        "colab": {
          "base_uri": "https://localhost:8080/"
        },
        "id": "I7KXYl5N2Y_t",
        "outputId": "5414cf87-da56-4745-cc04-50ac1fc3210a"
      },
      "execution_count": 201,
      "outputs": [
        {
          "output_type": "execute_result",
          "data": {
            "text/plain": [
              "count      4729.000000\n",
              "mean       7539.743286\n",
              "std        6317.738249\n",
              "min       -8019.000000\n",
              "25%        4323.000000\n",
              "50%        5608.000000\n",
              "75%        8266.000000\n",
              "max      102127.000000\n",
              "Name: balance, dtype: float64"
            ]
          },
          "metadata": {},
          "execution_count": 201
        }
      ]
    },
    {
      "cell_type": "code",
      "source": [
        "# Encoding value (saved as pp_balance)\n",
        "df_train.loc[(df_train.balance <= 0),\"pp_balance\"] = 0\n",
        "df_train.loc[(df_train.balance > 0),\"pp_balance\"] = df_train['balance']\n",
        "\n",
        "df_test.loc[(df_test.balance <= 0),\"pp_balance\"] = 0\n",
        "df_test.loc[(df_test.balance > 0),\"pp_balance\"] = df_test['balance']"
      ],
      "metadata": {
        "id": "0knoiUuTnEZs"
      },
      "execution_count": 202,
      "outputs": []
    },
    {
      "cell_type": "code",
      "source": [
        "# Feature Engineering - overdraft_debt \n",
        "def segment(x) : \n",
        "    if x['balance'] < 0 : \n",
        "        hasil = 1\n",
        "    elif x['balance'] >= 0  : \n",
        "        hasil = 0\n",
        "    return hasil\n",
        "\n",
        "df_train['overdraft_debt'] = df_train.apply(lambda x : segment(x), axis=1)\n",
        "df_test['overdraft_debt'] = df_test.apply(lambda x : segment(x), axis=1)"
      ],
      "metadata": {
        "id": "mO1J8v2Ot1Bd"
      },
      "execution_count": 203,
      "outputs": []
    },
    {
      "cell_type": "code",
      "source": [
        "# MinMax Scaler for Normalization df_train\n",
        "from sklearn.preprocessing import MinMaxScaler, StandardScaler\n",
        "df_train['pp_balance_norm'] = MinMaxScaler().fit_transform(df_train['pp_balance'].values.reshape(len(df_train),1))\n",
        "# df_train['balance_std'] = StandardScaler().fit_transform(df_train['balance'].values.reshape(len(df_train),1))\n",
        "print(df_train[['pp_balance','pp_balance_norm']].describe())\n",
        "print('')"
      ],
      "metadata": {
        "colab": {
          "base_uri": "https://localhost:8080/"
        },
        "id": "oGs547t6_KEH",
        "outputId": "404bed45-1938-4f2b-e004-a9791df9f5f6"
      },
      "execution_count": 204,
      "outputs": [
        {
          "output_type": "stream",
          "name": "stdout",
          "text": [
            "          pp_balance  pp_balance_norm\n",
            "count   45211.000000     45211.000000\n",
            "mean     1388.734069         0.013598\n",
            "std      3029.530442         0.029664\n",
            "min         0.000000         0.000000\n",
            "25%        72.000000         0.000705\n",
            "50%       448.000000         0.004387\n",
            "75%      1428.000000         0.013983\n",
            "max    102127.000000         1.000000\n",
            "\n"
          ]
        }
      ]
    },
    {
      "cell_type": "code",
      "source": [
        "# MinMax Scaler for Normalization df_test\n",
        "fit = MinMaxScaler().fit(df_train['pp_balance'].values.reshape(len(df_train),1)) # fit using parameters from df_train\n",
        "df_test['pp_balance_norm'] = fit.transform(df_test['pp_balance'].values.reshape(len(df_test),1))\n",
        "print(df_test[['pp_balance','pp_balance_norm']].describe())\n",
        "print('')"
      ],
      "metadata": {
        "colab": {
          "base_uri": "https://localhost:8080/"
        },
        "id": "mADzBDekvyT-",
        "outputId": "564dc692-83c3-4b92-d3eb-a9c6a9357305"
      },
      "execution_count": 205,
      "outputs": [
        {
          "output_type": "stream",
          "name": "stdout",
          "text": [
            "         pp_balance  pp_balance_norm\n",
            "count   4521.000000      4521.000000\n",
            "mean    1449.333997         0.014191\n",
            "std     2993.725866         0.029314\n",
            "min        0.000000         0.000000\n",
            "25%       69.000000         0.000676\n",
            "50%      444.000000         0.004348\n",
            "75%     1480.000000         0.014492\n",
            "max    71188.000000         0.697054\n",
            "\n"
          ]
        }
      ]
    },
    {
      "cell_type": "code",
      "source": [
        "4789/102127 # sampling"
      ],
      "metadata": {
        "colab": {
          "base_uri": "https://localhost:8080/"
        },
        "id": "3xKA1-k2yO-0",
        "outputId": "548b0aab-1059-4117-f3ad-c6b215618927"
      },
      "execution_count": 206,
      "outputs": [
        {
          "output_type": "execute_result",
          "data": {
            "text/plain": [
              "0.046892594514672904"
            ]
          },
          "metadata": {},
          "execution_count": 206
        }
      ]
    },
    {
      "cell_type": "code",
      "source": [
        "df_test[['pp_balance','pp_balance_norm']]"
      ],
      "metadata": {
        "colab": {
          "base_uri": "https://localhost:8080/",
          "height": 476
        },
        "id": "EIaB9Qq9xRIE",
        "outputId": "937bfcba-d669-477a-8280-990628458fc8"
      },
      "execution_count": 207,
      "outputs": [
        {
          "output_type": "execute_result",
          "data": {
            "text/plain": [
              "      pp_balance  pp_balance_norm\n",
              "0         1787.0         0.017498\n",
              "1         4789.0         0.046893\n",
              "2         1350.0         0.013219\n",
              "3         1476.0         0.014453\n",
              "4            0.0         0.000000\n",
              "...          ...              ...\n",
              "4516         0.0         0.000000\n",
              "4517         0.0         0.000000\n",
              "4518       295.0         0.002889\n",
              "4519      1137.0         0.011133\n",
              "4520      1136.0         0.011123\n",
              "\n",
              "[4521 rows x 2 columns]"
            ],
            "text/html": [
              "\n",
              "  <div id=\"df-371d08ba-17c6-4518-90de-a0d5f6b593c9\">\n",
              "    <div class=\"colab-df-container\">\n",
              "      <div>\n",
              "<style scoped>\n",
              "    .dataframe tbody tr th:only-of-type {\n",
              "        vertical-align: middle;\n",
              "    }\n",
              "\n",
              "    .dataframe tbody tr th {\n",
              "        vertical-align: top;\n",
              "    }\n",
              "\n",
              "    .dataframe thead th {\n",
              "        text-align: right;\n",
              "    }\n",
              "</style>\n",
              "<table border=\"1\" class=\"dataframe\">\n",
              "  <thead>\n",
              "    <tr style=\"text-align: right;\">\n",
              "      <th></th>\n",
              "      <th>pp_balance</th>\n",
              "      <th>pp_balance_norm</th>\n",
              "    </tr>\n",
              "  </thead>\n",
              "  <tbody>\n",
              "    <tr>\n",
              "      <th>0</th>\n",
              "      <td>1787.0</td>\n",
              "      <td>0.017498</td>\n",
              "    </tr>\n",
              "    <tr>\n",
              "      <th>1</th>\n",
              "      <td>4789.0</td>\n",
              "      <td>0.046893</td>\n",
              "    </tr>\n",
              "    <tr>\n",
              "      <th>2</th>\n",
              "      <td>1350.0</td>\n",
              "      <td>0.013219</td>\n",
              "    </tr>\n",
              "    <tr>\n",
              "      <th>3</th>\n",
              "      <td>1476.0</td>\n",
              "      <td>0.014453</td>\n",
              "    </tr>\n",
              "    <tr>\n",
              "      <th>4</th>\n",
              "      <td>0.0</td>\n",
              "      <td>0.000000</td>\n",
              "    </tr>\n",
              "    <tr>\n",
              "      <th>...</th>\n",
              "      <td>...</td>\n",
              "      <td>...</td>\n",
              "    </tr>\n",
              "    <tr>\n",
              "      <th>4516</th>\n",
              "      <td>0.0</td>\n",
              "      <td>0.000000</td>\n",
              "    </tr>\n",
              "    <tr>\n",
              "      <th>4517</th>\n",
              "      <td>0.0</td>\n",
              "      <td>0.000000</td>\n",
              "    </tr>\n",
              "    <tr>\n",
              "      <th>4518</th>\n",
              "      <td>295.0</td>\n",
              "      <td>0.002889</td>\n",
              "    </tr>\n",
              "    <tr>\n",
              "      <th>4519</th>\n",
              "      <td>1137.0</td>\n",
              "      <td>0.011133</td>\n",
              "    </tr>\n",
              "    <tr>\n",
              "      <th>4520</th>\n",
              "      <td>1136.0</td>\n",
              "      <td>0.011123</td>\n",
              "    </tr>\n",
              "  </tbody>\n",
              "</table>\n",
              "<p>4521 rows × 2 columns</p>\n",
              "</div>\n",
              "      <button class=\"colab-df-convert\" onclick=\"convertToInteractive('df-371d08ba-17c6-4518-90de-a0d5f6b593c9')\"\n",
              "              title=\"Convert this dataframe to an interactive table.\"\n",
              "              style=\"display:none;\">\n",
              "        \n",
              "  <svg xmlns=\"http://www.w3.org/2000/svg\" height=\"24px\"viewBox=\"0 0 24 24\"\n",
              "       width=\"24px\">\n",
              "    <path d=\"M0 0h24v24H0V0z\" fill=\"none\"/>\n",
              "    <path d=\"M18.56 5.44l.94 2.06.94-2.06 2.06-.94-2.06-.94-.94-2.06-.94 2.06-2.06.94zm-11 1L8.5 8.5l.94-2.06 2.06-.94-2.06-.94L8.5 2.5l-.94 2.06-2.06.94zm10 10l.94 2.06.94-2.06 2.06-.94-2.06-.94-.94-2.06-.94 2.06-2.06.94z\"/><path d=\"M17.41 7.96l-1.37-1.37c-.4-.4-.92-.59-1.43-.59-.52 0-1.04.2-1.43.59L10.3 9.45l-7.72 7.72c-.78.78-.78 2.05 0 2.83L4 21.41c.39.39.9.59 1.41.59.51 0 1.02-.2 1.41-.59l7.78-7.78 2.81-2.81c.8-.78.8-2.07 0-2.86zM5.41 20L4 18.59l7.72-7.72 1.47 1.35L5.41 20z\"/>\n",
              "  </svg>\n",
              "      </button>\n",
              "      \n",
              "  <style>\n",
              "    .colab-df-container {\n",
              "      display:flex;\n",
              "      flex-wrap:wrap;\n",
              "      gap: 12px;\n",
              "    }\n",
              "\n",
              "    .colab-df-convert {\n",
              "      background-color: #E8F0FE;\n",
              "      border: none;\n",
              "      border-radius: 50%;\n",
              "      cursor: pointer;\n",
              "      display: none;\n",
              "      fill: #1967D2;\n",
              "      height: 32px;\n",
              "      padding: 0 0 0 0;\n",
              "      width: 32px;\n",
              "    }\n",
              "\n",
              "    .colab-df-convert:hover {\n",
              "      background-color: #E2EBFA;\n",
              "      box-shadow: 0px 1px 2px rgba(60, 64, 67, 0.3), 0px 1px 3px 1px rgba(60, 64, 67, 0.15);\n",
              "      fill: #174EA6;\n",
              "    }\n",
              "\n",
              "    [theme=dark] .colab-df-convert {\n",
              "      background-color: #3B4455;\n",
              "      fill: #D2E3FC;\n",
              "    }\n",
              "\n",
              "    [theme=dark] .colab-df-convert:hover {\n",
              "      background-color: #434B5C;\n",
              "      box-shadow: 0px 1px 3px 1px rgba(0, 0, 0, 0.15);\n",
              "      filter: drop-shadow(0px 1px 2px rgba(0, 0, 0, 0.3));\n",
              "      fill: #FFFFFF;\n",
              "    }\n",
              "  </style>\n",
              "\n",
              "      <script>\n",
              "        const buttonEl =\n",
              "          document.querySelector('#df-371d08ba-17c6-4518-90de-a0d5f6b593c9 button.colab-df-convert');\n",
              "        buttonEl.style.display =\n",
              "          google.colab.kernel.accessAllowed ? 'block' : 'none';\n",
              "\n",
              "        async function convertToInteractive(key) {\n",
              "          const element = document.querySelector('#df-371d08ba-17c6-4518-90de-a0d5f6b593c9');\n",
              "          const dataTable =\n",
              "            await google.colab.kernel.invokeFunction('convertToInteractive',\n",
              "                                                     [key], {});\n",
              "          if (!dataTable) return;\n",
              "\n",
              "          const docLinkHtml = 'Like what you see? Visit the ' +\n",
              "            '<a target=\"_blank\" href=https://colab.research.google.com/notebooks/data_table.ipynb>data table notebook</a>'\n",
              "            + ' to learn more about interactive tables.';\n",
              "          element.innerHTML = '';\n",
              "          dataTable['output_type'] = 'display_data';\n",
              "          await google.colab.output.renderOutput(dataTable, element);\n",
              "          const docLink = document.createElement('div');\n",
              "          docLink.innerHTML = docLinkHtml;\n",
              "          element.appendChild(docLink);\n",
              "        }\n",
              "      </script>\n",
              "    </div>\n",
              "  </div>\n",
              "  "
            ]
          },
          "metadata": {},
          "execution_count": 207
        }
      ]
    },
    {
      "cell_type": "code",
      "source": [
        "df_train.head()"
      ],
      "metadata": {
        "colab": {
          "base_uri": "https://localhost:8080/",
          "height": 264
        },
        "id": "f445eACCujGa",
        "outputId": "503570d4-b6bd-4f72-f807-793a44d32fae"
      },
      "execution_count": 208,
      "outputs": [
        {
          "output_type": "execute_result",
          "data": {
            "text/plain": [
              "   age           job  marital  education default  balance housing loan  \\\n",
              "0   58    management  married   tertiary      no     2143     yes   no   \n",
              "1   44    technician   single  secondary      no       29     yes   no   \n",
              "2   33  entrepreneur  married  secondary      no        2     yes  yes   \n",
              "3   47   blue-collar  married  secondary      no     1506     yes   no   \n",
              "4   33   blue-collar   single  secondary      no        1      no   no   \n",
              "\n",
              "    contact  day month  duration  campaign  pdays  previous poutcome  \\\n",
              "0  cellular    5   may       261         1     -1         0  unknown   \n",
              "1  cellular    5   may       151         1     -1         0  unknown   \n",
              "2  cellular    5   may        76         1     -1         0  unknown   \n",
              "3  cellular    5   may        92         1     -1         0  unknown   \n",
              "4  cellular    5   may       198         1     -1         0  unknown   \n",
              "\n",
              "  subscribed  pp_balance  overdraft_debt  pp_balance_norm  \n",
              "0         no      2143.0               0         0.020984  \n",
              "1         no        29.0               0         0.000284  \n",
              "2         no         2.0               0         0.000020  \n",
              "3         no      1506.0               0         0.014746  \n",
              "4         no         1.0               0         0.000010  "
            ],
            "text/html": [
              "\n",
              "  <div id=\"df-c6b333d9-2335-4c14-b062-2bab2ade5896\">\n",
              "    <div class=\"colab-df-container\">\n",
              "      <div>\n",
              "<style scoped>\n",
              "    .dataframe tbody tr th:only-of-type {\n",
              "        vertical-align: middle;\n",
              "    }\n",
              "\n",
              "    .dataframe tbody tr th {\n",
              "        vertical-align: top;\n",
              "    }\n",
              "\n",
              "    .dataframe thead th {\n",
              "        text-align: right;\n",
              "    }\n",
              "</style>\n",
              "<table border=\"1\" class=\"dataframe\">\n",
              "  <thead>\n",
              "    <tr style=\"text-align: right;\">\n",
              "      <th></th>\n",
              "      <th>age</th>\n",
              "      <th>job</th>\n",
              "      <th>marital</th>\n",
              "      <th>education</th>\n",
              "      <th>default</th>\n",
              "      <th>balance</th>\n",
              "      <th>housing</th>\n",
              "      <th>loan</th>\n",
              "      <th>contact</th>\n",
              "      <th>day</th>\n",
              "      <th>month</th>\n",
              "      <th>duration</th>\n",
              "      <th>campaign</th>\n",
              "      <th>pdays</th>\n",
              "      <th>previous</th>\n",
              "      <th>poutcome</th>\n",
              "      <th>subscribed</th>\n",
              "      <th>pp_balance</th>\n",
              "      <th>overdraft_debt</th>\n",
              "      <th>pp_balance_norm</th>\n",
              "    </tr>\n",
              "  </thead>\n",
              "  <tbody>\n",
              "    <tr>\n",
              "      <th>0</th>\n",
              "      <td>58</td>\n",
              "      <td>management</td>\n",
              "      <td>married</td>\n",
              "      <td>tertiary</td>\n",
              "      <td>no</td>\n",
              "      <td>2143</td>\n",
              "      <td>yes</td>\n",
              "      <td>no</td>\n",
              "      <td>cellular</td>\n",
              "      <td>5</td>\n",
              "      <td>may</td>\n",
              "      <td>261</td>\n",
              "      <td>1</td>\n",
              "      <td>-1</td>\n",
              "      <td>0</td>\n",
              "      <td>unknown</td>\n",
              "      <td>no</td>\n",
              "      <td>2143.0</td>\n",
              "      <td>0</td>\n",
              "      <td>0.020984</td>\n",
              "    </tr>\n",
              "    <tr>\n",
              "      <th>1</th>\n",
              "      <td>44</td>\n",
              "      <td>technician</td>\n",
              "      <td>single</td>\n",
              "      <td>secondary</td>\n",
              "      <td>no</td>\n",
              "      <td>29</td>\n",
              "      <td>yes</td>\n",
              "      <td>no</td>\n",
              "      <td>cellular</td>\n",
              "      <td>5</td>\n",
              "      <td>may</td>\n",
              "      <td>151</td>\n",
              "      <td>1</td>\n",
              "      <td>-1</td>\n",
              "      <td>0</td>\n",
              "      <td>unknown</td>\n",
              "      <td>no</td>\n",
              "      <td>29.0</td>\n",
              "      <td>0</td>\n",
              "      <td>0.000284</td>\n",
              "    </tr>\n",
              "    <tr>\n",
              "      <th>2</th>\n",
              "      <td>33</td>\n",
              "      <td>entrepreneur</td>\n",
              "      <td>married</td>\n",
              "      <td>secondary</td>\n",
              "      <td>no</td>\n",
              "      <td>2</td>\n",
              "      <td>yes</td>\n",
              "      <td>yes</td>\n",
              "      <td>cellular</td>\n",
              "      <td>5</td>\n",
              "      <td>may</td>\n",
              "      <td>76</td>\n",
              "      <td>1</td>\n",
              "      <td>-1</td>\n",
              "      <td>0</td>\n",
              "      <td>unknown</td>\n",
              "      <td>no</td>\n",
              "      <td>2.0</td>\n",
              "      <td>0</td>\n",
              "      <td>0.000020</td>\n",
              "    </tr>\n",
              "    <tr>\n",
              "      <th>3</th>\n",
              "      <td>47</td>\n",
              "      <td>blue-collar</td>\n",
              "      <td>married</td>\n",
              "      <td>secondary</td>\n",
              "      <td>no</td>\n",
              "      <td>1506</td>\n",
              "      <td>yes</td>\n",
              "      <td>no</td>\n",
              "      <td>cellular</td>\n",
              "      <td>5</td>\n",
              "      <td>may</td>\n",
              "      <td>92</td>\n",
              "      <td>1</td>\n",
              "      <td>-1</td>\n",
              "      <td>0</td>\n",
              "      <td>unknown</td>\n",
              "      <td>no</td>\n",
              "      <td>1506.0</td>\n",
              "      <td>0</td>\n",
              "      <td>0.014746</td>\n",
              "    </tr>\n",
              "    <tr>\n",
              "      <th>4</th>\n",
              "      <td>33</td>\n",
              "      <td>blue-collar</td>\n",
              "      <td>single</td>\n",
              "      <td>secondary</td>\n",
              "      <td>no</td>\n",
              "      <td>1</td>\n",
              "      <td>no</td>\n",
              "      <td>no</td>\n",
              "      <td>cellular</td>\n",
              "      <td>5</td>\n",
              "      <td>may</td>\n",
              "      <td>198</td>\n",
              "      <td>1</td>\n",
              "      <td>-1</td>\n",
              "      <td>0</td>\n",
              "      <td>unknown</td>\n",
              "      <td>no</td>\n",
              "      <td>1.0</td>\n",
              "      <td>0</td>\n",
              "      <td>0.000010</td>\n",
              "    </tr>\n",
              "  </tbody>\n",
              "</table>\n",
              "</div>\n",
              "      <button class=\"colab-df-convert\" onclick=\"convertToInteractive('df-c6b333d9-2335-4c14-b062-2bab2ade5896')\"\n",
              "              title=\"Convert this dataframe to an interactive table.\"\n",
              "              style=\"display:none;\">\n",
              "        \n",
              "  <svg xmlns=\"http://www.w3.org/2000/svg\" height=\"24px\"viewBox=\"0 0 24 24\"\n",
              "       width=\"24px\">\n",
              "    <path d=\"M0 0h24v24H0V0z\" fill=\"none\"/>\n",
              "    <path d=\"M18.56 5.44l.94 2.06.94-2.06 2.06-.94-2.06-.94-.94-2.06-.94 2.06-2.06.94zm-11 1L8.5 8.5l.94-2.06 2.06-.94-2.06-.94L8.5 2.5l-.94 2.06-2.06.94zm10 10l.94 2.06.94-2.06 2.06-.94-2.06-.94-.94-2.06-.94 2.06-2.06.94z\"/><path d=\"M17.41 7.96l-1.37-1.37c-.4-.4-.92-.59-1.43-.59-.52 0-1.04.2-1.43.59L10.3 9.45l-7.72 7.72c-.78.78-.78 2.05 0 2.83L4 21.41c.39.39.9.59 1.41.59.51 0 1.02-.2 1.41-.59l7.78-7.78 2.81-2.81c.8-.78.8-2.07 0-2.86zM5.41 20L4 18.59l7.72-7.72 1.47 1.35L5.41 20z\"/>\n",
              "  </svg>\n",
              "      </button>\n",
              "      \n",
              "  <style>\n",
              "    .colab-df-container {\n",
              "      display:flex;\n",
              "      flex-wrap:wrap;\n",
              "      gap: 12px;\n",
              "    }\n",
              "\n",
              "    .colab-df-convert {\n",
              "      background-color: #E8F0FE;\n",
              "      border: none;\n",
              "      border-radius: 50%;\n",
              "      cursor: pointer;\n",
              "      display: none;\n",
              "      fill: #1967D2;\n",
              "      height: 32px;\n",
              "      padding: 0 0 0 0;\n",
              "      width: 32px;\n",
              "    }\n",
              "\n",
              "    .colab-df-convert:hover {\n",
              "      background-color: #E2EBFA;\n",
              "      box-shadow: 0px 1px 2px rgba(60, 64, 67, 0.3), 0px 1px 3px 1px rgba(60, 64, 67, 0.15);\n",
              "      fill: #174EA6;\n",
              "    }\n",
              "\n",
              "    [theme=dark] .colab-df-convert {\n",
              "      background-color: #3B4455;\n",
              "      fill: #D2E3FC;\n",
              "    }\n",
              "\n",
              "    [theme=dark] .colab-df-convert:hover {\n",
              "      background-color: #434B5C;\n",
              "      box-shadow: 0px 1px 3px 1px rgba(0, 0, 0, 0.15);\n",
              "      filter: drop-shadow(0px 1px 2px rgba(0, 0, 0, 0.3));\n",
              "      fill: #FFFFFF;\n",
              "    }\n",
              "  </style>\n",
              "\n",
              "      <script>\n",
              "        const buttonEl =\n",
              "          document.querySelector('#df-c6b333d9-2335-4c14-b062-2bab2ade5896 button.colab-df-convert');\n",
              "        buttonEl.style.display =\n",
              "          google.colab.kernel.accessAllowed ? 'block' : 'none';\n",
              "\n",
              "        async function convertToInteractive(key) {\n",
              "          const element = document.querySelector('#df-c6b333d9-2335-4c14-b062-2bab2ade5896');\n",
              "          const dataTable =\n",
              "            await google.colab.kernel.invokeFunction('convertToInteractive',\n",
              "                                                     [key], {});\n",
              "          if (!dataTable) return;\n",
              "\n",
              "          const docLinkHtml = 'Like what you see? Visit the ' +\n",
              "            '<a target=\"_blank\" href=https://colab.research.google.com/notebooks/data_table.ipynb>data table notebook</a>'\n",
              "            + ' to learn more about interactive tables.';\n",
              "          element.innerHTML = '';\n",
              "          dataTable['output_type'] = 'display_data';\n",
              "          await google.colab.output.renderOutput(dataTable, element);\n",
              "          const docLink = document.createElement('div');\n",
              "          docLink.innerHTML = docLinkHtml;\n",
              "          element.appendChild(docLink);\n",
              "        }\n",
              "      </script>\n",
              "    </div>\n",
              "  </div>\n",
              "  "
            ]
          },
          "metadata": {},
          "execution_count": 208
        }
      ]
    },
    {
      "cell_type": "markdown",
      "source": [
        "#### Age"
      ],
      "metadata": {
        "id": "BV5aD5x0y5U4"
      }
    },
    {
      "cell_type": "markdown",
      "source": [
        "`age` has outliers. Investigating highest 50 data, it seems outliers happen naturally (no sudden jump, balance increase gradually). Number of outlier ~ 500 records \n",
        "<br>\n",
        "<br>\n",
        "After consideration, for `age` we will:\n",
        "* not remove outlier, as it occurs naturally (it's possible to reach age 95)\n",
        "* use Feature Transformation - MinMax Scaler so algorithm will treat all features fairly"
      ],
      "metadata": {
        "id": "Lru8_F0azSFO"
      }
    },
    {
      "cell_type": "code",
      "source": [
        "df_train.age.sort_values().tail(50) # Outlier terjadi secara natural (tidak ada sudden jump)"
      ],
      "metadata": {
        "colab": {
          "base_uri": "https://localhost:8080/"
        },
        "id": "SMRxsikUzCeu",
        "outputId": "1170ab5c-57b0-4c53-d30c-bf88eda6f5a9"
      },
      "execution_count": 209,
      "outputs": [
        {
          "output_type": "execute_result",
          "data": {
            "text/plain": [
              "41406    83\n",
              "31365    83\n",
              "31395    83\n",
              "41843    83\n",
              "44356    83\n",
              "31051    83\n",
              "29322    83\n",
              "44767    83\n",
              "31261    83\n",
              "42074    84\n",
              "42932    84\n",
              "41654    84\n",
              "41290    84\n",
              "44701    84\n",
              "44746    84\n",
              "43393    84\n",
              "43745    84\n",
              "42558    84\n",
              "42690    85\n",
              "31055    85\n",
              "34128    85\n",
              "42619    85\n",
              "31130    85\n",
              "32105    86\n",
              "45010    86\n",
              "42460    86\n",
              "43394    86\n",
              "43315    86\n",
              "43332    86\n",
              "41470    86\n",
              "44173    86\n",
              "41291    86\n",
              "42494    87\n",
              "42635    87\n",
              "42081    87\n",
              "41923    87\n",
              "44669    88\n",
              "44794    88\n",
              "44892    89\n",
              "41162    89\n",
              "42574    89\n",
              "43194    90\n",
              "31069    90\n",
              "41934    92\n",
              "42727    92\n",
              "44420    93\n",
              "44262    93\n",
              "31233    94\n",
              "41663    95\n",
              "33699    95\n",
              "Name: age, dtype: int64"
            ]
          },
          "metadata": {},
          "execution_count": 209
        }
      ]
    },
    {
      "cell_type": "code",
      "source": [
        "Q1 = df_train['age'].quantile(0.25)\n",
        "Q3 = df_train['age'].quantile(0.75)\n",
        "IQR = Q3-Q1\n",
        "low_limit = Q1 - 1.5*IQR\n",
        "high_limit = Q3 + 1.5*IQR\n",
        "df_train['age'][(df_train['age'] < low_limit) | (df_train['age'] > high_limit)].describe()"
      ],
      "metadata": {
        "colab": {
          "base_uri": "https://localhost:8080/"
        },
        "id": "6M88uDWbzb3I",
        "outputId": "b18015cc-5b00-4324-8f1e-0b52a81bd817"
      },
      "execution_count": 210,
      "outputs": [
        {
          "output_type": "execute_result",
          "data": {
            "text/plain": [
              "count    487.000000\n",
              "mean      76.815195\n",
              "std        4.800842\n",
              "min       71.000000\n",
              "25%       73.000000\n",
              "50%       76.000000\n",
              "75%       80.000000\n",
              "max       95.000000\n",
              "Name: age, dtype: float64"
            ]
          },
          "metadata": {},
          "execution_count": 210
        }
      ]
    },
    {
      "cell_type": "code",
      "source": [
        "sns.kdeplot(df_train['age'])"
      ],
      "metadata": {
        "colab": {
          "base_uri": "https://localhost:8080/",
          "height": 135
        },
        "id": "w7AzK3lrz1-z",
        "outputId": "e38c3126-500f-4e18-cfad-977ed87584b1"
      },
      "execution_count": 211,
      "outputs": [
        {
          "output_type": "execute_result",
          "data": {
            "text/plain": [
              "<matplotlib.axes._subplots.AxesSubplot at 0x7f8f3fb4ae50>"
            ]
          },
          "metadata": {},
          "execution_count": 211
        },
        {
          "output_type": "display_data",
          "data": {
            "text/plain": [
              "<Figure size 432x288 with 1 Axes>"
            ],
            "image/png": "[encoded data removed]"
          },
          "metadata": {}
        }
      ]
    },
    {
      "cell_type": "code",
      "source": [
        "# MinMax Scaler for Normalization df_train\n",
        "from sklearn.preprocessing import MinMaxScaler, StandardScaler\n",
        "df_train['pp_age_norm'] = MinMaxScaler().fit_transform(df_train['age'].values.reshape(len(df_train),1))\n",
        "print(df_train[['age','pp_age_norm']].describe())\n",
        "print('')"
      ],
      "metadata": {
        "colab": {
          "base_uri": "https://localhost:8080/"
        },
        "id": "7Tn6V_Ib0inx",
        "outputId": "e8832eee-9779-4fb1-c22f-a4b43c1861d7"
      },
      "execution_count": 212,
      "outputs": [
        {
          "output_type": "stream",
          "name": "stdout",
          "text": [
            "                age   pp_age_norm\n",
            "count  45211.000000  45211.000000\n",
            "mean      40.936210      0.297873\n",
            "std       10.618762      0.137906\n",
            "min       18.000000      0.000000\n",
            "25%       33.000000      0.194805\n",
            "50%       39.000000      0.272727\n",
            "75%       48.000000      0.389610\n",
            "max       95.000000      1.000000\n",
            "\n"
          ]
        }
      ]
    },
    {
      "cell_type": "code",
      "source": [
        "# MinMax Scaler for Normalization df_test\n",
        "fit = MinMaxScaler().fit(df_train['age'].values.reshape(len(df_train),1)) # fit using parameters from df_train\n",
        "df_test['pp_age_norm'] = fit.transform(df_test['age'].values.reshape(len(df_test),1))\n",
        "print(df_test[['age','pp_age_norm']].describe())\n",
        "print('')"
      ],
      "metadata": {
        "colab": {
          "base_uri": "https://localhost:8080/"
        },
        "id": "XCnciUKF01u-",
        "outputId": "97bc87db-74a5-49c7-cbc7-4ccbf83a02d9"
      },
      "execution_count": 213,
      "outputs": [
        {
          "output_type": "stream",
          "name": "stdout",
          "text": [
            "               age  pp_age_norm\n",
            "count  4521.000000  4521.000000\n",
            "mean     41.170095     0.300910\n",
            "std      10.576211     0.137353\n",
            "min      19.000000     0.012987\n",
            "25%      33.000000     0.194805\n",
            "50%      39.000000     0.272727\n",
            "75%      49.000000     0.402597\n",
            "max      87.000000     0.896104\n",
            "\n"
          ]
        }
      ]
    },
    {
      "cell_type": "markdown",
      "source": [
        "#### Campaign"
      ],
      "metadata": {
        "id": "PYs-wm011gSw"
      }
    },
    {
      "cell_type": "markdown",
      "source": [
        "`campaign` has outliers. Investigating highest 50 data, it seems outliers happen naturally (no sudden jump, balance increase gradually). Number of outlier ~ 3K records \n",
        "<br>\n",
        "<br>\n",
        "After consideration, for `campaign` we will:\n",
        "* not remove outlier, as it can occur naturally \n",
        "* use Feature Transformation - MinMax Scaler so algorithm will treat all features fairly"
      ],
      "metadata": {
        "id": "Q0Y-qLSk1wBf"
      }
    },
    {
      "cell_type": "code",
      "source": [
        "df_train.campaign.sort_values().tail(50) # Outlier terjadi secara natural (tidak ada sudden jump)"
      ],
      "metadata": {
        "colab": {
          "base_uri": "https://localhost:8080/"
        },
        "id": "Zjy7FcsX11cv",
        "outputId": "282775aa-a60e-4d1c-cf87-50e5c6f6c948"
      },
      "execution_count": 214,
      "outputs": [
        {
          "output_type": "execute_result",
          "data": {
            "text/plain": [
              "18430    31\n",
              "15869    31\n",
              "17354    31\n",
              "3331     32\n",
              "18782    32\n",
              "23567    32\n",
              "3483     32\n",
              "8547     32\n",
              "8238     32\n",
              "18661    32\n",
              "4020     32\n",
              "3529     32\n",
              "17843    33\n",
              "12155    33\n",
              "17971    33\n",
              "12936    33\n",
              "18592    33\n",
              "18645    33\n",
              "18394    34\n",
              "23182    34\n",
              "18667    34\n",
              "18615    34\n",
              "18788    34\n",
              "18749    35\n",
              "17739    35\n",
              "13311    35\n",
              "23559    35\n",
              "18603    36\n",
              "18675    36\n",
              "18696    36\n",
              "18513    36\n",
              "11884    37\n",
              "9964     37\n",
              "18704    38\n",
              "23062    38\n",
              "5721     38\n",
              "18616    39\n",
              "11301    41\n",
              "4334     41\n",
              "13675    43\n",
              "18660    43\n",
              "4275     43\n",
              "18744    44\n",
              "10697    46\n",
              "18713    50\n",
              "5459     50\n",
              "4299     51\n",
              "5073     55\n",
              "11914    58\n",
              "4330     63\n",
              "Name: campaign, dtype: int64"
            ]
          },
          "metadata": {},
          "execution_count": 214
        }
      ]
    },
    {
      "cell_type": "code",
      "source": [
        "Q1 = df_train['campaign'].quantile(0.25)\n",
        "Q3 = df_train['campaign'].quantile(0.75)\n",
        "IQR = Q3-Q1\n",
        "low_limit = Q1 - 1.5*IQR\n",
        "high_limit = Q3 + 1.5*IQR\n",
        "df_train['campaign'][(df_train['campaign'] < low_limit) | (df_train['campaign'] > high_limit)].describe()"
      ],
      "metadata": {
        "colab": {
          "base_uri": "https://localhost:8080/"
        },
        "id": "5gnO9OjZ2Cky",
        "outputId": "4ffe0a5f-3808-4807-eb62-9441d4767fd9"
      },
      "execution_count": 215,
      "outputs": [
        {
          "output_type": "execute_result",
          "data": {
            "text/plain": [
              "count    3064.000000\n",
              "mean       11.483355\n",
              "std         6.021215\n",
              "min         7.000000\n",
              "25%         8.000000\n",
              "50%         9.000000\n",
              "75%        13.000000\n",
              "max        63.000000\n",
              "Name: campaign, dtype: float64"
            ]
          },
          "metadata": {},
          "execution_count": 215
        }
      ]
    },
    {
      "cell_type": "code",
      "source": [
        "df_train['campaign'].describe()"
      ],
      "metadata": {
        "colab": {
          "base_uri": "https://localhost:8080/"
        },
        "id": "ORaircOz-VQW",
        "outputId": "98007136-447c-474f-bc70-73930e2d9bb7"
      },
      "execution_count": 216,
      "outputs": [
        {
          "output_type": "execute_result",
          "data": {
            "text/plain": [
              "count    45211.000000\n",
              "mean         2.763841\n",
              "std          3.098021\n",
              "min          1.000000\n",
              "25%          1.000000\n",
              "50%          2.000000\n",
              "75%          3.000000\n",
              "max         63.000000\n",
              "Name: campaign, dtype: float64"
            ]
          },
          "metadata": {},
          "execution_count": 216
        }
      ]
    },
    {
      "cell_type": "code",
      "source": [
        "# MinMax Scaler for Normalization df_train\n",
        "from sklearn.preprocessing import MinMaxScaler, StandardScaler\n",
        "df_train['pp_campaign_norm'] = MinMaxScaler().fit_transform(df_train['campaign'].values.reshape(len(df_train),1))\n",
        "print(df_train[['campaign','pp_campaign_norm']].describe())\n",
        "print('')"
      ],
      "metadata": {
        "colab": {
          "base_uri": "https://localhost:8080/"
        },
        "id": "Q2Z6Novl-7Aa",
        "outputId": "c7b44d4d-ae4d-488a-d1a8-01595b1cbddb"
      },
      "execution_count": 217,
      "outputs": [
        {
          "output_type": "stream",
          "name": "stdout",
          "text": [
            "           campaign  pp_campaign_norm\n",
            "count  45211.000000      45211.000000\n",
            "mean       2.763841          0.028449\n",
            "std        3.098021          0.049968\n",
            "min        1.000000          0.000000\n",
            "25%        1.000000          0.000000\n",
            "50%        2.000000          0.016129\n",
            "75%        3.000000          0.032258\n",
            "max       63.000000          1.000000\n",
            "\n"
          ]
        }
      ]
    },
    {
      "cell_type": "code",
      "source": [
        "# MinMax Scaler for Normalization df_test\n",
        "fit = MinMaxScaler().fit(df_train['campaign'].values.reshape(len(df_train),1)) # fit using parameters from df_train\n",
        "df_test['pp_campaign_norm'] = fit.transform(df_test['campaign'].values.reshape(len(df_test),1))\n",
        "print(df_test[['campaign','pp_campaign_norm']].describe())\n",
        "print('')"
      ],
      "metadata": {
        "colab": {
          "base_uri": "https://localhost:8080/"
        },
        "id": "h0Xs_wiUBN9k",
        "outputId": "2a9f690b-178c-47dd-c80c-eebc368b4a7f"
      },
      "execution_count": 218,
      "outputs": [
        {
          "output_type": "stream",
          "name": "stdout",
          "text": [
            "          campaign  pp_campaign_norm\n",
            "count  4521.000000       4521.000000\n",
            "mean      2.793630          0.028930\n",
            "std       3.109807          0.050158\n",
            "min       1.000000          0.000000\n",
            "25%       1.000000          0.000000\n",
            "50%       2.000000          0.016129\n",
            "75%       3.000000          0.032258\n",
            "max      50.000000          0.790323\n",
            "\n"
          ]
        }
      ]
    },
    {
      "cell_type": "markdown",
      "source": [
        "#### Pdays"
      ],
      "metadata": {
        "id": "T_gR2EBs5Y_j"
      }
    },
    {
      "cell_type": "markdown",
      "source": [
        "`pdays` will be engineered to represent recency. Before doing so, we changed -1 value to 999. Not contacted client (was -1), will be assumed to have been contacted 999 days ago"
      ],
      "metadata": {
        "id": "NzTTka975z9I"
      }
    },
    {
      "cell_type": "code",
      "source": [
        "df_train.loc[(df_train.pdays == -1),\"pdays\"] = 999\n",
        "df_train['pdays'][df_train['pdays']!=999].describe()"
      ],
      "metadata": {
        "colab": {
          "base_uri": "https://localhost:8080/"
        },
        "id": "3oD-wOuk4fJC",
        "outputId": "b477618e-9c10-4787-8224-8a8640fee203"
      },
      "execution_count": 219,
      "outputs": [
        {
          "output_type": "execute_result",
          "data": {
            "text/plain": [
              "count    8257.000000\n",
              "mean      224.577692\n",
              "std       115.344035\n",
              "min         1.000000\n",
              "25%       133.000000\n",
              "50%       194.000000\n",
              "75%       327.000000\n",
              "max       871.000000\n",
              "Name: pdays, dtype: float64"
            ]
          },
          "metadata": {},
          "execution_count": 219
        }
      ]
    },
    {
      "cell_type": "code",
      "source": [
        "def segment(x) : \n",
        "    if x['pdays'] <= 133 : \n",
        "        hasil = 3\n",
        "    elif x['pdays'] <= 194 : \n",
        "        hasil = 2\n",
        "    elif x['pdays'] <= 327 : \n",
        "        hasil = 1\n",
        "    else:\n",
        "        hasil = 0\n",
        "    return hasil\n",
        "\n",
        "df_train['recency_pdays'] = df_train.apply(lambda x : segment(x), axis=1)\n",
        "df_test['recency_pdays'] = df_test.apply(lambda x : segment(x), axis=1)"
      ],
      "metadata": {
        "id": "CWw34ExE7NS5"
      },
      "execution_count": 220,
      "outputs": []
    },
    {
      "cell_type": "code",
      "source": [
        "df_train['recency_pdays'].value_counts()"
      ],
      "metadata": {
        "colab": {
          "base_uri": "https://localhost:8080/"
        },
        "id": "1IVn29CF8Q9o",
        "outputId": "502500e9-071f-45e9-8ee5-f3a43a1f1b09"
      },
      "execution_count": 221,
      "outputs": [
        {
          "output_type": "execute_result",
          "data": {
            "text/plain": [
              "0    39014\n",
              "3     2084\n",
              "1     2068\n",
              "2     2045\n",
              "Name: recency_pdays, dtype: int64"
            ]
          },
          "metadata": {},
          "execution_count": 221
        }
      ]
    },
    {
      "cell_type": "code",
      "source": [
        "df_test['recency_pdays'].value_counts()"
      ],
      "metadata": {
        "colab": {
          "base_uri": "https://localhost:8080/"
        },
        "id": "3jhmK5pp83yl",
        "outputId": "308e6ac5-5e05-401e-b54d-0b6e64ee5244"
      },
      "execution_count": 222,
      "outputs": [
        {
          "output_type": "execute_result",
          "data": {
            "text/plain": [
              "0    3911\n",
              "2     220\n",
              "3     201\n",
              "1     189\n",
              "Name: recency_pdays, dtype: int64"
            ]
          },
          "metadata": {},
          "execution_count": 222
        }
      ]
    },
    {
      "cell_type": "markdown",
      "source": [
        "#### Previous"
      ],
      "metadata": {
        "id": "6FewYvrM8rhN"
      }
    },
    {
      "cell_type": "markdown",
      "source": [
        "* `previous` will be used to generate feature `ever_contacted` (before), with `previous` > 0 resulting in `ever_contacted` = 1\n",
        "* this feature has 1 outlier (value = 275), will be encoded to second highest value\n",
        "* this feature will then undergo Feature Transformation - MinMax Scaler so algorithm will treat all features fairly"
      ],
      "metadata": {
        "id": "WY78q9VIB0QV"
      }
    },
    {
      "cell_type": "code",
      "source": [
        "df_train[df_train['pdays']==999]['previous'].value_counts()"
      ],
      "metadata": {
        "colab": {
          "base_uri": "https://localhost:8080/"
        },
        "id": "keG5NCoH9Kur",
        "outputId": "997bb5a0-39f2-4d4d-f43a-caea0ce09a22"
      },
      "execution_count": 223,
      "outputs": [
        {
          "output_type": "execute_result",
          "data": {
            "text/plain": [
              "0    36954\n",
              "Name: previous, dtype: int64"
            ]
          },
          "metadata": {},
          "execution_count": 223
        }
      ]
    },
    {
      "cell_type": "code",
      "source": [
        "df_train[df_train['previous']==0]['pdays'].value_counts()"
      ],
      "metadata": {
        "colab": {
          "base_uri": "https://localhost:8080/"
        },
        "id": "coOk2xOP9Wqh",
        "outputId": "2b694832-dfae-430e-ab64-b04595e36e14"
      },
      "execution_count": 224,
      "outputs": [
        {
          "output_type": "execute_result",
          "data": {
            "text/plain": [
              "999    36954\n",
              "Name: pdays, dtype: int64"
            ]
          },
          "metadata": {},
          "execution_count": 224
        }
      ]
    },
    {
      "cell_type": "code",
      "source": [
        "df_train[df_train['previous']!=0]['pdays'].describe()"
      ],
      "metadata": {
        "colab": {
          "base_uri": "https://localhost:8080/"
        },
        "id": "_ZcW57V29frN",
        "outputId": "ee596fb3-f777-423a-b805-70b61e95c305"
      },
      "execution_count": 225,
      "outputs": [
        {
          "output_type": "execute_result",
          "data": {
            "text/plain": [
              "count    8257.000000\n",
              "mean      224.577692\n",
              "std       115.344035\n",
              "min         1.000000\n",
              "25%       133.000000\n",
              "50%       194.000000\n",
              "75%       327.000000\n",
              "max       871.000000\n",
              "Name: pdays, dtype: float64"
            ]
          },
          "metadata": {},
          "execution_count": 225
        }
      ]
    },
    {
      "cell_type": "code",
      "source": [
        "df_train[df_train['previous']!=275]['previous'].max()"
      ],
      "metadata": {
        "colab": {
          "base_uri": "https://localhost:8080/"
        },
        "id": "VE_JRzOJCZ0D",
        "outputId": "2f8b75fd-27ba-435b-ef0c-d1dfac9729a3"
      },
      "execution_count": 226,
      "outputs": [
        {
          "output_type": "execute_result",
          "data": {
            "text/plain": [
              "58"
            ]
          },
          "metadata": {},
          "execution_count": 226
        }
      ]
    },
    {
      "cell_type": "code",
      "source": [
        "df_train.previous.sort_values().tail(50) # terdapat outlier '275', sudden jump"
      ],
      "metadata": {
        "colab": {
          "base_uri": "https://localhost:8080/"
        },
        "id": "3-cwNVf5DR4e",
        "outputId": "d94e6c36-3581-4076-9dee-1dc4f7038426"
      },
      "execution_count": 227,
      "outputs": [
        {
          "output_type": "execute_result",
          "data": {
            "text/plain": [
              "36834     22\n",
              "37003     22\n",
              "31727     22\n",
              "44147     22\n",
              "37151     22\n",
              "44367     23\n",
              "37248     23\n",
              "34944     23\n",
              "28386     23\n",
              "44438     23\n",
              "38043     23\n",
              "29481     23\n",
              "34691     23\n",
              "37236     24\n",
              "38573     24\n",
              "30033     24\n",
              "32610     24\n",
              "28591     24\n",
              "28651     25\n",
              "26939     25\n",
              "31773     25\n",
              "38802     25\n",
              "40643     26\n",
              "26657     26\n",
              "30597     27\n",
              "27639     27\n",
              "30492     27\n",
              "28191     27\n",
              "38068     27\n",
              "38851     28\n",
              "43342     28\n",
              "28584     29\n",
              "38172     29\n",
              "30324     29\n",
              "36120     29\n",
              "35566     30\n",
              "36712     30\n",
              "43979     30\n",
              "39141     32\n",
              "44484     35\n",
              "42422     37\n",
              "26668     37\n",
              "37567     38\n",
              "28498     38\n",
              "42611     40\n",
              "44822     41\n",
              "28886     51\n",
              "44089     55\n",
              "38326     58\n",
              "29182    275\n",
              "Name: previous, dtype: int64"
            ]
          },
          "metadata": {},
          "execution_count": 227
        }
      ]
    },
    {
      "cell_type": "code",
      "source": [
        "def segment(x) : \n",
        "    if x['previous'] == 0 : \n",
        "        hasil = 0\n",
        "    elif x['previous'] > 0  : \n",
        "        hasil = 1\n",
        "    return hasil\n",
        "\n",
        "df_train['ever_contacted'] = df_train.apply(lambda x : segment(x), axis=1)\n",
        "df_test['ever_contacted'] = df_test.apply(lambda x : segment(x), axis=1)"
      ],
      "metadata": {
        "id": "MTWxKpA48wDW"
      },
      "execution_count": 228,
      "outputs": []
    },
    {
      "cell_type": "code",
      "source": [
        "# Hard code handling outlier hanya untuk df_train (df_test jangan dihandling outlier)\n",
        "df_train.loc[(df_train.previous == 275),\"previous\"] = 58"
      ],
      "metadata": {
        "id": "ps3ifOQPC_AH"
      },
      "execution_count": 229,
      "outputs": []
    },
    {
      "cell_type": "code",
      "source": [
        "# MinMax Scaler for Normalization df_train\n",
        "from sklearn.preprocessing import MinMaxScaler, StandardScaler\n",
        "df_train['pp_previous_norm'] = MinMaxScaler().fit_transform(df_train['previous'].values.reshape(len(df_train),1))\n",
        "print(df_train[['previous','pp_previous_norm']].describe())\n",
        "print('')"
      ],
      "metadata": {
        "colab": {
          "base_uri": "https://localhost:8080/"
        },
        "id": "TYH5YWZAAcq4",
        "outputId": "89987630-cace-4698-ac1c-3323c4e6ba83"
      },
      "execution_count": 230,
      "outputs": [
        {
          "output_type": "stream",
          "name": "stdout",
          "text": [
            "           previous  pp_previous_norm\n",
            "count  45211.000000      45211.000000\n",
            "mean       0.575524          0.009923\n",
            "std        1.926927          0.033223\n",
            "min        0.000000          0.000000\n",
            "25%        0.000000          0.000000\n",
            "50%        0.000000          0.000000\n",
            "75%        0.000000          0.000000\n",
            "max       58.000000          1.000000\n",
            "\n"
          ]
        }
      ]
    },
    {
      "cell_type": "code",
      "source": [
        "# MinMax Scaler for Normalization df_test\n",
        "fit = MinMaxScaler().fit(df_train['previous'].values.reshape(len(df_train),1)) # fit using parameters from df_train\n",
        "df_test['pp_previous_norm'] = fit.transform(df_test['previous'].values.reshape(len(df_test),1))\n",
        "print(df_test[['previous','pp_previous_norm']].describe())\n",
        "print('')"
      ],
      "metadata": {
        "colab": {
          "base_uri": "https://localhost:8080/"
        },
        "id": "EyG09aKjDxhG",
        "outputId": "ff49ef3e-b0f9-47f2-b690-0cfe8a30887e"
      },
      "execution_count": 231,
      "outputs": [
        {
          "output_type": "stream",
          "name": "stdout",
          "text": [
            "          previous  pp_previous_norm\n",
            "count  4521.000000       4521.000000\n",
            "mean      0.542579          0.009355\n",
            "std       1.693562          0.029199\n",
            "min       0.000000          0.000000\n",
            "25%       0.000000          0.000000\n",
            "50%       0.000000          0.000000\n",
            "75%       0.000000          0.000000\n",
            "max      25.000000          0.431034\n",
            "\n"
          ]
        }
      ]
    },
    {
      "cell_type": "markdown",
      "metadata": {
        "id": "PO2AFMldK0pe"
      },
      "source": [
        "\n",
        "### D. Preprocess Categorical Data"
      ]
    },
    {
      "cell_type": "markdown",
      "source": [
        "#### Label Encoding"
      ],
      "metadata": {
        "id": "v0k15pxyTaYo"
      }
    },
    {
      "cell_type": "code",
      "source": [
        "# Label Encoding - df_train (untuk feature dengan distinct values 2, atau tipe ordinal)\n",
        "\n",
        "# Encoding - Education (Tipe ordinal - punya urutan)\n",
        "df_train.loc[(df_train.education == \"tertiary\"),\"education\"] = 2\n",
        "df_train.loc[(df_train.education == \"secondary\") ,\"education\"] = 1\n",
        "df_train.loc[(df_train.education == \"primary\"),\"education\"] = 0\n",
        "\n",
        "# Encoding - Default\n",
        "df_train.loc[(df_train.default == \"yes\"),\"default\"] = 1\n",
        "df_train.loc[(df_train.default == \"no\") ,\"default\"] = 0\n",
        "\n",
        "# Encoding - Housing\n",
        "df_train.loc[(df_train.housing == \"yes\"),\"housing\"] = 1\n",
        "df_train.loc[(df_train.housing == \"no\") ,\"housing\"] = 0\n",
        "\n",
        "# Encoding - Loan\n",
        "df_train.loc[(df_train.loan == \"yes\"),\"loan\"] = 1\n",
        "df_train.loc[(df_train.loan == \"no\") ,\"loan\"] = 0\n",
        "\n",
        "# Encoding - Contact\n",
        "df_train.loc[(df_train.contact == \"telephone\"),\"contact\"] = 1 \n",
        "df_train.loc[(df_train.contact == \"cellular\") ,\"contact\"] = 0\n",
        "\n",
        "# Encoding - Poutcome\n",
        "df_train.loc[(df_train.poutcome == \"success\"),\"poutcome_success\"] = 1 \n",
        "df_train.loc[(df_train.poutcome == \"unknown\") ,\"poutcome_success\"] = 0\n",
        "df_train.loc[(df_train.poutcome == \"failure\") ,\"poutcome_success\"] = 0\n",
        "df_train.loc[(df_train.poutcome == \"other\") ,\"poutcome_success\"] = 0\n",
        "\n",
        "# Encoding - Subscribed\n",
        "df_train.loc[(df_train.subscribed == \"yes\"),\"subscribed\"] = 1 \n",
        "df_train.loc[(df_train.subscribed == \"no\") ,\"subscribed\"] = 0\n",
        "\n",
        "# Adjusting data type\n",
        "df_train.education = df_train.education.astype(int)\n",
        "df_train.default = df_train.default.astype(int)\n",
        "df_train.housing = df_train.housing.astype(int)\n",
        "df_train.loan = df_train.loan.astype(int)\n",
        "df_train.contact = df_train.contact.astype(int)\n",
        "df_train.poutcome_success = df_train.poutcome_success.astype(int)\n",
        "df_train.subscribed = df_train.subscribed.astype(int)"
      ],
      "metadata": {
        "id": "m8jtusKqFr_4"
      },
      "execution_count": 232,
      "outputs": []
    },
    {
      "cell_type": "code",
      "source": [
        "# Label Encoding - df_test (untuk feature dengan distinct values 2, atau tipe ordinal)\n",
        "\n",
        "# Encoding - Education (Tipe ordinal - punya urutan)\n",
        "df_test.loc[(df_test.education == \"tertiary\"),\"education\"] = 2\n",
        "df_test.loc[(df_test.education == \"secondary\") ,\"education\"] = 1\n",
        "df_test.loc[(df_test.education == \"primary\"),\"education\"] = 0\n",
        "\n",
        "# Encoding - Default\n",
        "df_test.loc[(df_test.default == \"yes\"),\"default\"] = 1\n",
        "df_test.loc[(df_test.default == \"no\") ,\"default\"] = 0\n",
        "\n",
        "# Encoding - Housing\n",
        "df_test.loc[(df_test.housing == \"yes\"),\"housing\"] = 1 \n",
        "df_test.loc[(df_test.housing == \"no\") ,\"housing\"] = 0\n",
        "\n",
        "# Encoding - Loan\n",
        "df_test.loc[(df_test.loan == \"yes\"),\"loan\"] = 1\n",
        "df_test.loc[(df_test.loan == \"no\") ,\"loan\"] = 0\n",
        "\n",
        "# Encoding - Contact\n",
        "df_test.loc[(df_test.contact == \"telephone\"),\"contact\"] = 1 \n",
        "df_test.loc[(df_test.contact == \"cellular\") ,\"contact\"] = 0\n",
        "\n",
        "# Encoding - Poutcome\n",
        "df_test.loc[(df_test.poutcome == \"success\"),\"poutcome_success\"] = 1 \n",
        "df_test.loc[(df_test.poutcome == \"unknown\") ,\"poutcome_success\"] = 0\n",
        "df_test.loc[(df_test.poutcome == \"failure\") ,\"poutcome_success\"] = 0\n",
        "df_test.loc[(df_test.poutcome == \"other\") ,\"poutcome_success\"] = 0\n",
        "\n",
        "# Encoding - Subscribed\n",
        "df_test.loc[(df_test.subscribed == \"yes\"),\"subscribed\"] = 1 \n",
        "df_test.loc[(df_test.subscribed == \"no\") ,\"subscribed\"] = 0\n",
        "\n",
        "# Adjusting Data Type\n",
        "df_test.education = df_test.education.astype(int)\n",
        "df_test.default = df_test.default.astype(int)\n",
        "df_test.housing = df_test.housing.astype(int)\n",
        "df_test.loan = df_test.loan.astype(int)\n",
        "df_test.contact = df_test.contact.astype(int)\n",
        "df_test.poutcome_success = df_test.poutcome_success.astype(int)\n",
        "df_test.subscribed = df_test.subscribed.astype(int)"
      ],
      "metadata": {
        "id": "aFG6MqBCE6pg"
      },
      "execution_count": 233,
      "outputs": []
    },
    {
      "cell_type": "code",
      "source": [
        "df_test['contact'].value_counts()"
      ],
      "metadata": {
        "colab": {
          "base_uri": "https://localhost:8080/"
        },
        "id": "vbcfXssFPpSu",
        "outputId": "6b05126f-8467-4be3-b5fd-9a8b5478c460"
      },
      "execution_count": 234,
      "outputs": [
        {
          "output_type": "execute_result",
          "data": {
            "text/plain": [
              "0    4220\n",
              "1     301\n",
              "Name: contact, dtype: int64"
            ]
          },
          "metadata": {},
          "execution_count": 234
        }
      ]
    },
    {
      "cell_type": "markdown",
      "source": [
        "#### One Hot Encoding"
      ],
      "metadata": {
        "id": "6cbpgqoRTh1b"
      }
    },
    {
      "cell_type": "code",
      "source": [
        "# Marital Status\n",
        "\n",
        "df_train[['marital_divorced','marital_married','marital_single']] = pd.get_dummies(df_train['marital'],prefix='marital')\n",
        "df_test[['marital_divorced','marital_married','marital_single']] = pd.get_dummies(df_test['marital'],prefix='marital')"
      ],
      "metadata": {
        "id": "n0H9RpZ9TYzY"
      },
      "execution_count": 235,
      "outputs": []
    },
    {
      "cell_type": "code",
      "source": [
        "# Job - df_train\n",
        "\n",
        "# Job Group (Feature Extraction - Job Group first to reduce distinct values, some jobs are similar)\n",
        "df_train.loc[df_train['job']=='blue-collar', 'job_group'] = 'blue_collar'\n",
        "df_train.loc[df_train['job']=='technician', 'job_group'] = 'blue_collar'\n",
        "df_train.loc[df_train['job']=='admin.', 'job_group'] = 'blue_collar'\n",
        "df_train.loc[df_train['job']=='services', 'job_group'] = 'blue_collar'\n",
        "df_train.loc[df_train['job']=='housemaid', 'job_group'] = 'blue_collar'\n",
        "df_train.loc[df_train['job']=='management', 'job_group'] = 'management'\n",
        "df_train.loc[df_train['job']=='self-employed', 'job_group'] = 'entrepreneur'\n",
        "df_train.loc[df_train['job']=='entrepreneur', 'job_group'] = 'entrepreneur'\n",
        "df_train.loc[df_train['job']=='unemployed', 'job_group'] = 'unemployed'\n",
        "df_train.loc[df_train['job']=='student', 'job_group'] = 'student'\n",
        "df_train.loc[df_train['job']=='retired', 'job_group'] = 'retired'\n",
        "\n",
        "# OHE\n",
        "df_train[['job_blue_collar','job_entrepreneur','job_management','job_retired','job_student','job_unemployed']] = pd.get_dummies(df_train['job_group'],prefix='job')"
      ],
      "metadata": {
        "id": "MkwTXPRvF7gg"
      },
      "execution_count": 236,
      "outputs": []
    },
    {
      "cell_type": "code",
      "source": [
        "# Job - df_test\n",
        "\n",
        "# Job Group (Feature Extraction - Job Group first to reduce distinct values, some jobs are similar)\n",
        "df_test.loc[df_test['job']=='blue-collar', 'job_group'] = 'blue_collar'\n",
        "df_test.loc[df_test['job']=='technician', 'job_group'] = 'blue_collar'\n",
        "df_test.loc[df_test['job']=='admin.', 'job_group'] = 'blue_collar'\n",
        "df_test.loc[df_test['job']=='services', 'job_group'] = 'blue_collar'\n",
        "df_test.loc[df_test['job']=='housemaid', 'job_group'] = 'blue_collar'\n",
        "df_test.loc[df_test['job']=='management', 'job_group'] = 'management'\n",
        "df_test.loc[df_test['job']=='self-employed', 'job_group'] = 'entrepreneur'\n",
        "df_test.loc[df_test['job']=='entrepreneur', 'job_group'] = 'entrepreneur'\n",
        "df_test.loc[df_test['job']=='unemployed', 'job_group'] = 'unemployed'\n",
        "df_test.loc[df_test['job']=='student', 'job_group'] = 'student'\n",
        "df_test.loc[df_test['job']=='retired', 'job_group'] = 'retired'\n",
        "\n",
        "# OHE\n",
        "df_test[['job_blue_collar','job_entrepreneur','job_management','job_retired','job_student','job_unemployed']] = pd.get_dummies(df_test['job_group'],prefix='job')"
      ],
      "metadata": {
        "id": "srElVM1LFYHj"
      },
      "execution_count": 237,
      "outputs": []
    },
    {
      "cell_type": "code",
      "source": [
        "df_train['job_group'].value_counts()"
      ],
      "metadata": {
        "colab": {
          "base_uri": "https://localhost:8080/"
        },
        "id": "Kwu6I4v0SgjQ",
        "outputId": "10b457d7-a86f-4aa5-deb0-999e5e5bf0c9"
      },
      "execution_count": 238,
      "outputs": [
        {
          "output_type": "execute_result",
          "data": {
            "text/plain": [
              "blue_collar     28143\n",
              "management       9497\n",
              "entrepreneur     3066\n",
              "retired          2264\n",
              "unemployed       1303\n",
              "student           938\n",
              "Name: job_group, dtype: int64"
            ]
          },
          "metadata": {},
          "execution_count": 238
        }
      ]
    },
    {
      "cell_type": "code",
      "source": [
        "df_train.info()"
      ],
      "metadata": {
        "colab": {
          "base_uri": "https://localhost:8080/"
        },
        "id": "Qq9lCMfrUpLH",
        "outputId": "64eb03c5-6032-4b52-b029-6ceaca6c5084"
      },
      "execution_count": 239,
      "outputs": [
        {
          "output_type": "stream",
          "name": "stdout",
          "text": [
            "<class 'pandas.core.frame.DataFrame'>\n",
            "RangeIndex: 45211 entries, 0 to 45210\n",
            "Data columns (total 36 columns):\n",
            " #   Column            Non-Null Count  Dtype  \n",
            "---  ------            --------------  -----  \n",
            " 0   age               45211 non-null  int64  \n",
            " 1   job               45211 non-null  object \n",
            " 2   marital           45211 non-null  object \n",
            " 3   education         45211 non-null  int64  \n",
            " 4   default           45211 non-null  int64  \n",
            " 5   balance           45211 non-null  int64  \n",
            " 6   housing           45211 non-null  int64  \n",
            " 7   loan              45211 non-null  int64  \n",
            " 8   contact           45211 non-null  int64  \n",
            " 9   day               45211 non-null  int64  \n",
            " 10  month             45211 non-null  object \n",
            " 11  duration          45211 non-null  int64  \n",
            " 12  campaign          45211 non-null  int64  \n",
            " 13  pdays             45211 non-null  int64  \n",
            " 14  previous          45211 non-null  int64  \n",
            " 15  poutcome          45211 non-null  object \n",
            " 16  subscribed        45211 non-null  int64  \n",
            " 17  pp_balance        45211 non-null  float64\n",
            " 18  overdraft_debt    45211 non-null  int64  \n",
            " 19  pp_balance_norm   45211 non-null  float64\n",
            " 20  pp_age_norm       45211 non-null  float64\n",
            " 21  pp_campaign_norm  45211 non-null  float64\n",
            " 22  recency_pdays     45211 non-null  int64  \n",
            " 23  ever_contacted    45211 non-null  int64  \n",
            " 24  pp_previous_norm  45211 non-null  float64\n",
            " 25  poutcome_success  45211 non-null  int64  \n",
            " 26  marital_divorced  45211 non-null  uint8  \n",
            " 27  marital_married   45211 non-null  uint8  \n",
            " 28  marital_single    45211 non-null  uint8  \n",
            " 29  job_group         45211 non-null  object \n",
            " 30  job_blue_collar   45211 non-null  uint8  \n",
            " 31  job_entrepreneur  45211 non-null  uint8  \n",
            " 32  job_management    45211 non-null  uint8  \n",
            " 33  job_retired       45211 non-null  uint8  \n",
            " 34  job_student       45211 non-null  uint8  \n",
            " 35  job_unemployed    45211 non-null  uint8  \n",
            "dtypes: float64(5), int64(17), object(5), uint8(9)\n",
            "memory usage: 9.7+ MB\n"
          ]
        }
      ]
    },
    {
      "cell_type": "code",
      "source": [
        "df_test.info()"
      ],
      "metadata": {
        "colab": {
          "base_uri": "https://localhost:8080/"
        },
        "id": "PYV58ClbFbOZ",
        "outputId": "968ef453-919f-4ec0-d6d8-68598944767f"
      },
      "execution_count": 240,
      "outputs": [
        {
          "output_type": "stream",
          "name": "stdout",
          "text": [
            "<class 'pandas.core.frame.DataFrame'>\n",
            "RangeIndex: 4521 entries, 0 to 4520\n",
            "Data columns (total 36 columns):\n",
            " #   Column            Non-Null Count  Dtype  \n",
            "---  ------            --------------  -----  \n",
            " 0   age               4521 non-null   int64  \n",
            " 1   job               4521 non-null   object \n",
            " 2   marital           4521 non-null   object \n",
            " 3   education         4521 non-null   int64  \n",
            " 4   default           4521 non-null   int64  \n",
            " 5   balance           4521 non-null   int64  \n",
            " 6   housing           4521 non-null   int64  \n",
            " 7   loan              4521 non-null   int64  \n",
            " 8   contact           4521 non-null   int64  \n",
            " 9   day               4521 non-null   int64  \n",
            " 10  month             4521 non-null   object \n",
            " 11  duration          4521 non-null   int64  \n",
            " 12  campaign          4521 non-null   int64  \n",
            " 13  pdays             4521 non-null   int64  \n",
            " 14  previous          4521 non-null   int64  \n",
            " 15  poutcome          4521 non-null   object \n",
            " 16  subscribed        4521 non-null   int64  \n",
            " 17  pp_balance        4521 non-null   float64\n",
            " 18  overdraft_debt    4521 non-null   int64  \n",
            " 19  pp_balance_norm   4521 non-null   float64\n",
            " 20  pp_age_norm       4521 non-null   float64\n",
            " 21  pp_campaign_norm  4521 non-null   float64\n",
            " 22  recency_pdays     4521 non-null   int64  \n",
            " 23  ever_contacted    4521 non-null   int64  \n",
            " 24  pp_previous_norm  4521 non-null   float64\n",
            " 25  poutcome_success  4521 non-null   int64  \n",
            " 26  marital_divorced  4521 non-null   uint8  \n",
            " 27  marital_married   4521 non-null   uint8  \n",
            " 28  marital_single    4521 non-null   uint8  \n",
            " 29  job_group         4521 non-null   object \n",
            " 30  job_blue_collar   4521 non-null   uint8  \n",
            " 31  job_entrepreneur  4521 non-null   uint8  \n",
            " 32  job_management    4521 non-null   uint8  \n",
            " 33  job_retired       4521 non-null   uint8  \n",
            " 34  job_student       4521 non-null   uint8  \n",
            " 35  job_unemployed    4521 non-null   uint8  \n",
            "dtypes: float64(5), int64(17), object(5), uint8(9)\n",
            "memory usage: 993.5+ KB\n"
          ]
        }
      ]
    },
    {
      "cell_type": "markdown",
      "source": [
        "### E. Feature Selection"
      ],
      "metadata": {
        "id": "lwlIkRSoLCrK"
      }
    },
    {
      "cell_type": "code",
      "source": [
        "# df_train.drop(columns = [[\"duration\",]],inplace = True)"
      ],
      "metadata": {
        "id": "hARBDEp8K6bl"
      },
      "execution_count": 241,
      "outputs": []
    },
    {
      "cell_type": "code",
      "source": [
        "# First Iteration, dropping original features\n",
        "df_train_fin1 = df_train[['education', \n",
        "                         'default', \n",
        "                         'housing', \n",
        "                         'loan',\n",
        "                         'contact',\n",
        "                         'poutcome_success',\n",
        "                         'subscribed',\n",
        "                         'pp_balance_norm',\n",
        "                         'overdraft_debt',\n",
        "                         'pp_age_norm',\n",
        "                         'pp_campaign_norm', \n",
        "                         'recency_pdays', \n",
        "                         'ever_contacted', \n",
        "                         'pp_previous_norm', \n",
        "                         'marital_divorced', \n",
        "                         'marital_married', \n",
        "                         'marital_single',\n",
        "                         'job_blue_collar', \n",
        "                         'job_entrepreneur', \n",
        "                         'job_management', \n",
        "                         'job_retired', \n",
        "                         'job_student', \n",
        "                         'job_unemployed'\n",
        "]]"
      ],
      "metadata": {
        "id": "O8meFx7DL5mL"
      },
      "execution_count": 242,
      "outputs": []
    },
    {
      "cell_type": "code",
      "source": [
        "# Features Correlation Heatmap\n",
        "sns.set (rc = {'figure.figsize':(20, 20)})\n",
        "sns.heatmap(df_train_fin1.corr(), cmap='YlGnBu', annot=True, fmt='.2f')"
      ],
      "metadata": {
        "colab": {
          "base_uri": "https://localhost:8080/",
          "height": 1000
        },
        "id": "E3zI7GQjyGOm",
        "outputId": "bc8a0bfd-246c-4e47-bf1b-2df92a1605b9"
      },
      "execution_count": 243,
      "outputs": [
        {
          "output_type": "execute_result",
          "data": {
            "text/plain": [
              "<matplotlib.axes._subplots.AxesSubplot at 0x7f8f3f76a610>"
            ]
          },
          "metadata": {},
          "execution_count": 243
        },
        {
          "output_type": "display_data",
          "data": {
            "text/plain": [
              "<Figure size 1440x1440 with 2 Axes>"
            ],
            "image/png": "[encoded data removed]"
          },
          "metadata": {}
        }
      ]
    },
    {
      "cell_type": "markdown",
      "source": [
        "Insights First Iteration: \n",
        "* Strong positive correlation (0.51-0.77) between `ever_contacted`, `recency_pdays` and `pp_previous_norm`. Precursor of these features showed mild correlation during EDA stage. Since `ever_contacted` is less modified and pretty straightforward, it will be retained. `recency_pdays` and `pp_previous_norm` to be dropped\n",
        "* Strong negative correlation (-0.77) between `marital_married` and `marital_single`, 3 marital status features will be changed to `is_married`\n",
        "* Strong negative correlation (-0.66) between `marital_married` and `marital_single`, will be kept as is because their correlations with `subscribed` differs in magnitude and direction"
      ],
      "metadata": {
        "id": "xSwBncQW3JQG"
      }
    },
    {
      "cell_type": "code",
      "source": [
        "# Second Iteration, dropping original features\n",
        "\n",
        "# Label Encoding for Marital\n",
        "df_train.loc[(df_train.marital == \"married\"),\"is_married\"] = 1\n",
        "df_train.loc[(df_train.marital == \"single\") ,\"is_married\"] = 0\n",
        "df_train.loc[(df_train.marital == \"divorced\"),\"is_married\"] = 0\n",
        "\n",
        "df_train.is_married = df_train.is_married.astype(int)\n",
        "\n",
        "df_train_fin2 = df_train[['education', \n",
        "                         'default', \n",
        "                         'housing', \n",
        "                         'loan',\n",
        "                         'contact',\n",
        "                         'poutcome_success',\n",
        "                         'subscribed',\n",
        "                         'pp_balance_norm',\n",
        "                         'overdraft_debt',\n",
        "                         'pp_age_norm',\n",
        "                         'pp_campaign_norm', \n",
        "                        #  'recency_pdays', \n",
        "                         'ever_contacted', \n",
        "                        #  'pp_previous_norm', \n",
        "                        #  'marital_divorced', \n",
        "                        #  'marital_married', \n",
        "                        #  'marital_single',\n",
        "                         'is_married',\n",
        "                         'job_blue_collar', \n",
        "                         'job_entrepreneur', \n",
        "                         'job_management', \n",
        "                         'job_retired', \n",
        "                         'job_student', \n",
        "                         'job_unemployed'\n",
        "]]"
      ],
      "metadata": {
        "id": "lit3IAlc5kso"
      },
      "execution_count": 244,
      "outputs": []
    },
    {
      "cell_type": "code",
      "source": [
        "# Features Correlation Heatmap\n",
        "sns.set (rc = {'figure.figsize':(20, 20)})\n",
        "sns.heatmap(df_train_fin2.corr(), cmap='YlGnBu', annot=True, fmt='.2f')"
      ],
      "metadata": {
        "colab": {
          "base_uri": "https://localhost:8080/",
          "height": 1000
        },
        "id": "IxTcqE0b6bii",
        "outputId": "3e5f12d4-2e1b-4c1c-9ff2-23442ebc8ba6"
      },
      "execution_count": 245,
      "outputs": [
        {
          "output_type": "execute_result",
          "data": {
            "text/plain": [
              "<matplotlib.axes._subplots.AxesSubplot at 0x7f8f3fea8460>"
            ]
          },
          "metadata": {},
          "execution_count": 245
        },
        {
          "output_type": "display_data",
          "data": {
            "text/plain": [
              "<Figure size 1440x1440 with 2 Axes>"
            ],
            "image/png": "[encoded data removed]"
          },
          "metadata": {}
        }
      ]
    },
    {
      "cell_type": "markdown",
      "source": [
        "Insights Heatmap Second Iteration: No highly correlated features that can be simplified anymore. Will proceed using this dataset for modeling"
      ],
      "metadata": {
        "id": "w0N1ners6xKI"
      }
    },
    {
      "cell_type": "code",
      "source": [
        "# Creating df_train_final\n",
        "df_train_fin = df_train_fin2"
      ],
      "metadata": {
        "id": "zjCiZ6Dl7dZB"
      },
      "execution_count": 246,
      "outputs": []
    },
    {
      "cell_type": "code",
      "source": [
        "# Creating df_test_final\n",
        "\n",
        "# Label Encoding for Marital\n",
        "df_test.loc[(df_test.marital == \"married\"),\"is_married\"] = 1\n",
        "df_test.loc[(df_test.marital == \"single\") ,\"is_married\"] = 0\n",
        "df_test.loc[(df_test.marital == \"divorced\"),\"is_married\"] = 0\n",
        "\n",
        "df_test.is_married = df_test.is_married.astype(int)\n",
        "\n",
        "df_test_fin = df_test[['education', \n",
        "                         'default', \n",
        "                         'housing', \n",
        "                         'loan',\n",
        "                         'contact',\n",
        "                         'poutcome_success',\n",
        "                         'subscribed',\n",
        "                         'pp_balance_norm',\n",
        "                         'overdraft_debt',\n",
        "                         'pp_age_norm',\n",
        "                         'pp_campaign_norm', \n",
        "                        #  'recency_pdays', \n",
        "                         'ever_contacted', \n",
        "                        #  'pp_previous_norm', \n",
        "                        #  'marital_divorced', \n",
        "                        #  'marital_married', \n",
        "                        #  'marital_single',\n",
        "                         'is_married',\n",
        "                         'job_blue_collar', \n",
        "                         'job_entrepreneur', \n",
        "                         'job_management', \n",
        "                         'job_retired', \n",
        "                         'job_student', \n",
        "                         'job_unemployed'\n",
        "]]"
      ],
      "metadata": {
        "id": "0icxWd6rQEW7"
      },
      "execution_count": 247,
      "outputs": []
    },
    {
      "cell_type": "code",
      "source": [
        "print(df_train_fin.shape, df_test_fin.shape)"
      ],
      "metadata": {
        "colab": {
          "base_uri": "https://localhost:8080/"
        },
        "id": "bSfDmJaWPSCm",
        "outputId": "50fca8a9-2c7b-49b4-bd73-1a93f8e597aa"
      },
      "execution_count": 248,
      "outputs": [
        {
          "output_type": "stream",
          "name": "stdout",
          "text": [
            "(45211, 19) (4521, 19)\n"
          ]
        }
      ]
    },
    {
      "cell_type": "code",
      "source": [
        "df_train_fin.head()"
      ],
      "metadata": {
        "colab": {
          "base_uri": "https://localhost:8080/",
          "height": 264
        },
        "id": "z30ZrRyZVpfn",
        "outputId": "ad7c57b1-9d4c-4238-bb0b-b2e9967e0c66"
      },
      "execution_count": 249,
      "outputs": [
        {
          "output_type": "execute_result",
          "data": {
            "text/plain": [
              "   education  default  housing  loan  contact  poutcome_success  subscribed  \\\n",
              "0          2        0        1     0        0                 0           0   \n",
              "1          1        0        1     0        0                 0           0   \n",
              "2          1        0        1     1        0                 0           0   \n",
              "3          1        0        1     0        0                 0           0   \n",
              "4          1        0        0     0        0                 0           0   \n",
              "\n",
              "   pp_balance_norm  overdraft_debt  pp_age_norm  pp_campaign_norm  \\\n",
              "0         0.020984               0     0.519481               0.0   \n",
              "1         0.000284               0     0.337662               0.0   \n",
              "2         0.000020               0     0.194805               0.0   \n",
              "3         0.014746               0     0.376623               0.0   \n",
              "4         0.000010               0     0.194805               0.0   \n",
              "\n",
              "   ever_contacted  is_married  job_blue_collar  job_entrepreneur  \\\n",
              "0               0           1                0                 0   \n",
              "1               0           0                1                 0   \n",
              "2               0           1                0                 1   \n",
              "3               0           1                1                 0   \n",
              "4               0           0                1                 0   \n",
              "\n",
              "   job_management  job_retired  job_student  job_unemployed  \n",
              "0               1            0            0               0  \n",
              "1               0            0            0               0  \n",
              "2               0            0            0               0  \n",
              "3               0            0            0               0  \n",
              "4               0            0            0               0  "
            ],
            "text/html": [
              "\n",
              "  <div id=\"df-acc59d08-6d33-4dab-bd25-8b0d32a87977\">\n",
              "    <div class=\"colab-df-container\">\n",
              "      <div>\n",
              "<style scoped>\n",
              "    .dataframe tbody tr th:only-of-type {\n",
              "        vertical-align: middle;\n",
              "    }\n",
              "\n",
              "    .dataframe tbody tr th {\n",
              "        vertical-align: top;\n",
              "    }\n",
              "\n",
              "    .dataframe thead th {\n",
              "        text-align: right;\n",
              "    }\n",
              "</style>\n",
              "<table border=\"1\" class=\"dataframe\">\n",
              "  <thead>\n",
              "    <tr style=\"text-align: right;\">\n",
              "      <th></th>\n",
              "      <th>education</th>\n",
              "      <th>default</th>\n",
              "      <th>housing</th>\n",
              "      <th>loan</th>\n",
              "      <th>contact</th>\n",
              "      <th>poutcome_success</th>\n",
              "      <th>subscribed</th>\n",
              "      <th>pp_balance_norm</th>\n",
              "      <th>overdraft_debt</th>\n",
              "      <th>pp_age_norm</th>\n",
              "      <th>pp_campaign_norm</th>\n",
              "      <th>ever_contacted</th>\n",
              "      <th>is_married</th>\n",
              "      <th>job_blue_collar</th>\n",
              "      <th>job_entrepreneur</th>\n",
              "      <th>job_management</th>\n",
              "      <th>job_retired</th>\n",
              "      <th>job_student</th>\n",
              "      <th>job_unemployed</th>\n",
              "    </tr>\n",
              "  </thead>\n",
              "  <tbody>\n",
              "    <tr>\n",
              "      <th>0</th>\n",
              "      <td>2</td>\n",
              "      <td>0</td>\n",
              "      <td>1</td>\n",
              "      <td>0</td>\n",
              "      <td>0</td>\n",
              "      <td>0</td>\n",
              "      <td>0</td>\n",
              "      <td>0.020984</td>\n",
              "      <td>0</td>\n",
              "      <td>0.519481</td>\n",
              "      <td>0.0</td>\n",
              "      <td>0</td>\n",
              "      <td>1</td>\n",
              "      <td>0</td>\n",
              "      <td>0</td>\n",
              "      <td>1</td>\n",
              "      <td>0</td>\n",
              "      <td>0</td>\n",
              "      <td>0</td>\n",
              "    </tr>\n",
              "    <tr>\n",
              "      <th>1</th>\n",
              "      <td>1</td>\n",
              "      <td>0</td>\n",
              "      <td>1</td>\n",
              "      <td>0</td>\n",
              "      <td>0</td>\n",
              "      <td>0</td>\n",
              "      <td>0</td>\n",
              "      <td>0.000284</td>\n",
              "      <td>0</td>\n",
              "      <td>0.337662</td>\n",
              "      <td>0.0</td>\n",
              "      <td>0</td>\n",
              "      <td>0</td>\n",
              "      <td>1</td>\n",
              "      <td>0</td>\n",
              "      <td>0</td>\n",
              "      <td>0</td>\n",
              "      <td>0</td>\n",
              "      <td>0</td>\n",
              "    </tr>\n",
              "    <tr>\n",
              "      <th>2</th>\n",
              "      <td>1</td>\n",
              "      <td>0</td>\n",
              "      <td>1</td>\n",
              "      <td>1</td>\n",
              "      <td>0</td>\n",
              "      <td>0</td>\n",
              "      <td>0</td>\n",
              "      <td>0.000020</td>\n",
              "      <td>0</td>\n",
              "      <td>0.194805</td>\n",
              "      <td>0.0</td>\n",
              "      <td>0</td>\n",
              "      <td>1</td>\n",
              "      <td>0</td>\n",
              "      <td>1</td>\n",
              "      <td>0</td>\n",
              "      <td>0</td>\n",
              "      <td>0</td>\n",
              "      <td>0</td>\n",
              "    </tr>\n",
              "    <tr>\n",
              "      <th>3</th>\n",
              "      <td>1</td>\n",
              "      <td>0</td>\n",
              "      <td>1</td>\n",
              "      <td>0</td>\n",
              "      <td>0</td>\n",
              "      <td>0</td>\n",
              "      <td>0</td>\n",
              "      <td>0.014746</td>\n",
              "      <td>0</td>\n",
              "      <td>0.376623</td>\n",
              "      <td>0.0</td>\n",
              "      <td>0</td>\n",
              "      <td>1</td>\n",
              "      <td>1</td>\n",
              "      <td>0</td>\n",
              "      <td>0</td>\n",
              "      <td>0</td>\n",
              "      <td>0</td>\n",
              "      <td>0</td>\n",
              "    </tr>\n",
              "    <tr>\n",
              "      <th>4</th>\n",
              "      <td>1</td>\n",
              "      <td>0</td>\n",
              "      <td>0</td>\n",
              "      <td>0</td>\n",
              "      <td>0</td>\n",
              "      <td>0</td>\n",
              "      <td>0</td>\n",
              "      <td>0.000010</td>\n",
              "      <td>0</td>\n",
              "      <td>0.194805</td>\n",
              "      <td>0.0</td>\n",
              "      <td>0</td>\n",
              "      <td>0</td>\n",
              "      <td>1</td>\n",
              "      <td>0</td>\n",
              "      <td>0</td>\n",
              "      <td>0</td>\n",
              "      <td>0</td>\n",
              "      <td>0</td>\n",
              "    </tr>\n",
              "  </tbody>\n",
              "</table>\n",
              "</div>\n",
              "      <button class=\"colab-df-convert\" onclick=\"convertToInteractive('df-acc59d08-6d33-4dab-bd25-8b0d32a87977')\"\n",
              "              title=\"Convert this dataframe to an interactive table.\"\n",
              "              style=\"display:none;\">\n",
              "        \n",
              "  <svg xmlns=\"http://www.w3.org/2000/svg\" height=\"24px\"viewBox=\"0 0 24 24\"\n",
              "       width=\"24px\">\n",
              "    <path d=\"M0 0h24v24H0V0z\" fill=\"none\"/>\n",
              "    <path d=\"M18.56 5.44l.94 2.06.94-2.06 2.06-.94-2.06-.94-.94-2.06-.94 2.06-2.06.94zm-11 1L8.5 8.5l.94-2.06 2.06-.94-2.06-.94L8.5 2.5l-.94 2.06-2.06.94zm10 10l.94 2.06.94-2.06 2.06-.94-2.06-.94-.94-2.06-.94 2.06-2.06.94z\"/><path d=\"M17.41 7.96l-1.37-1.37c-.4-.4-.92-.59-1.43-.59-.52 0-1.04.2-1.43.59L10.3 9.45l-7.72 7.72c-.78.78-.78 2.05 0 2.83L4 21.41c.39.39.9.59 1.41.59.51 0 1.02-.2 1.41-.59l7.78-7.78 2.81-2.81c.8-.78.8-2.07 0-2.86zM5.41 20L4 18.59l7.72-7.72 1.47 1.35L5.41 20z\"/>\n",
              "  </svg>\n",
              "      </button>\n",
              "      \n",
              "  <style>\n",
              "    .colab-df-container {\n",
              "      display:flex;\n",
              "      flex-wrap:wrap;\n",
              "      gap: 12px;\n",
              "    }\n",
              "\n",
              "    .colab-df-convert {\n",
              "      background-color: #E8F0FE;\n",
              "      border: none;\n",
              "      border-radius: 50%;\n",
              "      cursor: pointer;\n",
              "      display: none;\n",
              "      fill: #1967D2;\n",
              "      height: 32px;\n",
              "      padding: 0 0 0 0;\n",
              "      width: 32px;\n",
              "    }\n",
              "\n",
              "    .colab-df-convert:hover {\n",
              "      background-color: #E2EBFA;\n",
              "      box-shadow: 0px 1px 2px rgba(60, 64, 67, 0.3), 0px 1px 3px 1px rgba(60, 64, 67, 0.15);\n",
              "      fill: #174EA6;\n",
              "    }\n",
              "\n",
              "    [theme=dark] .colab-df-convert {\n",
              "      background-color: #3B4455;\n",
              "      fill: #D2E3FC;\n",
              "    }\n",
              "\n",
              "    [theme=dark] .colab-df-convert:hover {\n",
              "      background-color: #434B5C;\n",
              "      box-shadow: 0px 1px 3px 1px rgba(0, 0, 0, 0.15);\n",
              "      filter: drop-shadow(0px 1px 2px rgba(0, 0, 0, 0.3));\n",
              "      fill: #FFFFFF;\n",
              "    }\n",
              "  </style>\n",
              "\n",
              "      <script>\n",
              "        const buttonEl =\n",
              "          document.querySelector('#df-acc59d08-6d33-4dab-bd25-8b0d32a87977 button.colab-df-convert');\n",
              "        buttonEl.style.display =\n",
              "          google.colab.kernel.accessAllowed ? 'block' : 'none';\n",
              "\n",
              "        async function convertToInteractive(key) {\n",
              "          const element = document.querySelector('#df-acc59d08-6d33-4dab-bd25-8b0d32a87977');\n",
              "          const dataTable =\n",
              "            await google.colab.kernel.invokeFunction('convertToInteractive',\n",
              "                                                     [key], {});\n",
              "          if (!dataTable) return;\n",
              "\n",
              "          const docLinkHtml = 'Like what you see? Visit the ' +\n",
              "            '<a target=\"_blank\" href=https://colab.research.google.com/notebooks/data_table.ipynb>data table notebook</a>'\n",
              "            + ' to learn more about interactive tables.';\n",
              "          element.innerHTML = '';\n",
              "          dataTable['output_type'] = 'display_data';\n",
              "          await google.colab.output.renderOutput(dataTable, element);\n",
              "          const docLink = document.createElement('div');\n",
              "          docLink.innerHTML = docLinkHtml;\n",
              "          element.appendChild(docLink);\n",
              "        }\n",
              "      </script>\n",
              "    </div>\n",
              "  </div>\n",
              "  "
            ]
          },
          "metadata": {},
          "execution_count": 249
        }
      ]
    },
    {
      "cell_type": "code",
      "source": [
        "df_train_fin.info()"
      ],
      "metadata": {
        "colab": {
          "base_uri": "https://localhost:8080/"
        },
        "id": "IBcnqF7daxXI",
        "outputId": "e22eb911-fd89-4193-fafa-edf0e713222f"
      },
      "execution_count": 250,
      "outputs": [
        {
          "output_type": "stream",
          "name": "stdout",
          "text": [
            "<class 'pandas.core.frame.DataFrame'>\n",
            "RangeIndex: 45211 entries, 0 to 45210\n",
            "Data columns (total 19 columns):\n",
            " #   Column            Non-Null Count  Dtype  \n",
            "---  ------            --------------  -----  \n",
            " 0   education         45211 non-null  int64  \n",
            " 1   default           45211 non-null  int64  \n",
            " 2   housing           45211 non-null  int64  \n",
            " 3   loan              45211 non-null  int64  \n",
            " 4   contact           45211 non-null  int64  \n",
            " 5   poutcome_success  45211 non-null  int64  \n",
            " 6   subscribed        45211 non-null  int64  \n",
            " 7   pp_balance_norm   45211 non-null  float64\n",
            " 8   overdraft_debt    45211 non-null  int64  \n",
            " 9   pp_age_norm       45211 non-null  float64\n",
            " 10  pp_campaign_norm  45211 non-null  float64\n",
            " 11  ever_contacted    45211 non-null  int64  \n",
            " 12  is_married        45211 non-null  int64  \n",
            " 13  job_blue_collar   45211 non-null  uint8  \n",
            " 14  job_entrepreneur  45211 non-null  uint8  \n",
            " 15  job_management    45211 non-null  uint8  \n",
            " 16  job_retired       45211 non-null  uint8  \n",
            " 17  job_student       45211 non-null  uint8  \n",
            " 18  job_unemployed    45211 non-null  uint8  \n",
            "dtypes: float64(3), int64(10), uint8(6)\n",
            "memory usage: 4.7 MB\n"
          ]
        }
      ]
    },
    {
      "cell_type": "code",
      "source": [
        "df_test_fin.info()"
      ],
      "metadata": {
        "colab": {
          "base_uri": "https://localhost:8080/"
        },
        "id": "QdTjkI318cGe",
        "outputId": "a89b3250-369d-46b6-cfcd-5f90c523a278"
      },
      "execution_count": 251,
      "outputs": [
        {
          "output_type": "stream",
          "name": "stdout",
          "text": [
            "<class 'pandas.core.frame.DataFrame'>\n",
            "RangeIndex: 4521 entries, 0 to 4520\n",
            "Data columns (total 19 columns):\n",
            " #   Column            Non-Null Count  Dtype  \n",
            "---  ------            --------------  -----  \n",
            " 0   education         4521 non-null   int64  \n",
            " 1   default           4521 non-null   int64  \n",
            " 2   housing           4521 non-null   int64  \n",
            " 3   loan              4521 non-null   int64  \n",
            " 4   contact           4521 non-null   int64  \n",
            " 5   poutcome_success  4521 non-null   int64  \n",
            " 6   subscribed        4521 non-null   int64  \n",
            " 7   pp_balance_norm   4521 non-null   float64\n",
            " 8   overdraft_debt    4521 non-null   int64  \n",
            " 9   pp_age_norm       4521 non-null   float64\n",
            " 10  pp_campaign_norm  4521 non-null   float64\n",
            " 11  ever_contacted    4521 non-null   int64  \n",
            " 12  is_married        4521 non-null   int64  \n",
            " 13  job_blue_collar   4521 non-null   uint8  \n",
            " 14  job_entrepreneur  4521 non-null   uint8  \n",
            " 15  job_management    4521 non-null   uint8  \n",
            " 16  job_retired       4521 non-null   uint8  \n",
            " 17  job_student       4521 non-null   uint8  \n",
            " 18  job_unemployed    4521 non-null   uint8  \n",
            "dtypes: float64(3), int64(10), uint8(6)\n",
            "memory usage: 485.8 KB\n"
          ]
        }
      ]
    },
    {
      "cell_type": "markdown",
      "source": [
        "### F. Handle Class Imbalance"
      ],
      "metadata": {
        "id": "tc2jrNZqI7n-"
      }
    },
    {
      "cell_type": "markdown",
      "source": [],
      "metadata": {
        "id": "yaaklhC2J2yq"
      }
    },
    {
      "cell_type": "code",
      "source": [
        "from imblearn import under_sampling, over_sampling"
      ],
      "metadata": {
        "id": "u1TA3fnwKDmb"
      },
      "execution_count": 252,
      "outputs": []
    },
    {
      "cell_type": "code",
      "source": [
        "# pembuatan binary label target\n",
        "# Terdapat class_imbalance dengan degree moderate (1-20%)\n",
        "df_train_fin['y_class'] = df_train_fin['subscribed'] > 0\n",
        "df_train_fin['y_class'].value_counts(normalize=True)"
      ],
      "metadata": {
        "colab": {
          "base_uri": "https://localhost:8080/"
        },
        "id": "n3nbX7aSRn37",
        "outputId": "787297ca-adb3-41fa-dec2-fe29bebda090"
      },
      "execution_count": 253,
      "outputs": [
        {
          "output_type": "stream",
          "name": "stderr",
          "text": [
            "<ipython-input-253-e7535908c4c3>:3: SettingWithCopyWarning: \n",
            "A value is trying to be set on a copy of a slice from a DataFrame.\n",
            "Try using .loc[row_indexer,col_indexer] = value instead\n",
            "\n",
            "See the caveats in the documentation: https://pandas.pydata.org/pandas-docs/stable/user_guide/indexing.html#returning-a-view-versus-a-copy\n",
            "  df_train_fin['y_class'] = df_train_fin['subscribed'] > 0\n"
          ]
        },
        {
          "output_type": "execute_result",
          "data": {
            "text/plain": [
              "False    0.883015\n",
              "True     0.116985\n",
              "Name: y_class, dtype: float64"
            ]
          },
          "metadata": {},
          "execution_count": 253
        }
      ]
    },
    {
      "cell_type": "code",
      "source": [
        "X = df_train_fin[[col for col in df_train_fin.columns if col not in ['y_class','subscribed']]].values\n",
        "y = df_train_fin['y_class'].values\n",
        "\n",
        "print(X.shape)\n",
        "print(y.shape)"
      ],
      "metadata": {
        "colab": {
          "base_uri": "https://localhost:8080/"
        },
        "id": "8UDTx6OHKILU",
        "outputId": "680b497a-af23-4ed5-a6e0-afc12e8f969c"
      },
      "execution_count": 254,
      "outputs": [
        {
          "output_type": "stream",
          "name": "stdout",
          "text": [
            "(45211, 18)\n",
            "(45211,)\n"
          ]
        }
      ]
    },
    {
      "cell_type": "code",
      "source": [
        "from imblearn import under_sampling, over_sampling\n",
        "X_under, y_under = under_sampling.RandomUnderSampler().fit_resample(X, y)\n",
        "X_over, y_over = over_sampling.RandomOverSampler().fit_resample(X, y)\n",
        "X_over_SMOTE, y_over_SMOTE = over_sampling.SMOTE().fit_resample(X, y)"
      ],
      "metadata": {
        "id": "nY52oAcSKpPY"
      },
      "execution_count": 255,
      "outputs": []
    },
    {
      "cell_type": "code",
      "source": [
        "print('Original')\n",
        "print(pd.Series(y).value_counts())\n",
        "print('\\n')\n",
        "print('UNDERSAMPLING')\n",
        "print(pd.Series(y_under).value_counts())\n",
        "print('\\n')\n",
        "print('OVERSAMPLING')\n",
        "print(pd.Series(y_over).value_counts())\n",
        "print('\\n')\n",
        "print('SMOTE')\n",
        "print(pd.Series(y_over_SMOTE).value_counts())"
      ],
      "metadata": {
        "colab": {
          "base_uri": "https://localhost:8080/"
        },
        "id": "fUhxrZjUSiLf",
        "outputId": "b3ee9fae-912f-4f6e-a7e5-d084c8536317"
      },
      "execution_count": 256,
      "outputs": [
        {
          "output_type": "stream",
          "name": "stdout",
          "text": [
            "Original\n",
            "False    39922\n",
            "True      5289\n",
            "dtype: int64\n",
            "\n",
            "\n",
            "UNDERSAMPLING\n",
            "False    5289\n",
            "True     5289\n",
            "dtype: int64\n",
            "\n",
            "\n",
            "OVERSAMPLING\n",
            "False    39922\n",
            "True     39922\n",
            "dtype: int64\n",
            "\n",
            "\n",
            "SMOTE\n",
            "False    39922\n",
            "True     39922\n",
            "dtype: int64\n"
          ]
        }
      ]
    }
  ],
  "metadata": {
    "accelerator": "GPU",
    "colab": {
      "provenance": [],
      "toc_visible": true,
      "collapsed_sections": [
        "JN5EtWe6e6qt",
        "eOY0V84yfMCs",
        "mqjIZNUnfUWs",
        "iBQkcfvRnFEv",
        "BV5aD5x0y5U4",
        "PYs-wm011gSw",
        "T_gR2EBs5Y_j",
        "6cbpgqoRTh1b"
      ],
      "include_colab_link": true
    },
    "gpuClass": "standard",
    "kernelspec": {
      "display_name": "Python 3",
      "name": "python3"
    },
    "language_info": {
      "name": "python"
    }
  },
  "nbformat": 4,
  "nbformat_minor": 0
}