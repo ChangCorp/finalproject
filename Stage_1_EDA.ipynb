{
  "nbformat": 4,
  "nbformat_minor": 0,
  "metadata": {
    "colab": {
      "provenance": [],
      "toc_visible": true,
      "authorship_tag": "ABX9TyPXzJ1FcimSXACsukMFpKDV",
      "include_colab_link": true
    },
    "kernelspec": {
      "name": "python3",
      "display_name": "Python 3"
    },
    "language_info": {
      "name": "python"
    }
  },
  "cells": [
    {
      "cell_type": "markdown",
      "metadata": {
        "id": "view-in-github",
        "colab_type": "text"
      },
      "source": [
        "<a href=\"https://colab.research.google.com/github/ChangCorp/finalproject/blob/main/Stage_1_EDA.ipynb\" target=\"_parent\"><img src=\"https://colab.research.google.com/assets/colab-badge.svg\" alt=\"Open In Colab\"/></a>"
      ]
    },
    {
      "cell_type": "code",
      "execution_count": 4,
      "metadata": {
        "id": "mfA1NzRI9Cf0"
      },
      "outputs": [],
      "source": [
        "import pandas as pd\n",
        "import openpyxl\n",
        "import numpy as np\n",
        "import matplotlib\n",
        "import matplotlib.pyplot as plt\n",
        "import seaborn as sns\n",
        "from sklearn.preprocessing import LabelEncoder   \n",
        "import pickle  \n",
        "from pathlib import Path  \n",
        "\n",
        "%matplotlib inline \n",
        "matplotlib.style.use('ggplot') "
      ]
    },
    {
      "cell_type": "code",
      "source": [
        "df = pd.read_csv('https://raw.githubusercontent.com/ChangCorp/finalproject/main/train_delimited_comma.csv')"
      ],
      "metadata": {
        "id": "LMihJ1iM9H6X"
      },
      "execution_count": 5,
      "outputs": []
    },
    {
      "cell_type": "code",
      "source": [
        "df.head()"
      ],
      "metadata": {
        "colab": {
          "base_uri": "https://localhost:8080/",
          "height": 206
        },
        "id": "mZW__hEW0aC6",
        "outputId": "ee6e615a-5e77-4a20-9136-f26bf7bd182a"
      },
      "execution_count": 6,
      "outputs": [
        {
          "output_type": "execute_result",
          "data": {
            "text/plain": [
              "   age           job  marital  education default  balance housing loan  \\\n",
              "0   58    management  married   tertiary      no     2143     yes   no   \n",
              "1   44    technician   single  secondary      no       29     yes   no   \n",
              "2   33  entrepreneur  married  secondary      no        2     yes  yes   \n",
              "3   47   blue-collar  married    unknown      no     1506     yes   no   \n",
              "4   33       unknown   single    unknown      no        1      no   no   \n",
              "\n",
              "   contact  day month  duration  campaign  pdays  previous poutcome   y  \n",
              "0  unknown    5   may       261         1     -1         0  unknown  no  \n",
              "1  unknown    5   may       151         1     -1         0  unknown  no  \n",
              "2  unknown    5   may        76         1     -1         0  unknown  no  \n",
              "3  unknown    5   may        92         1     -1         0  unknown  no  \n",
              "4  unknown    5   may       198         1     -1         0  unknown  no  "
            ],
            "text/html": [
              "\n",
              "  <div id=\"df-9e76d05d-5239-4934-9787-86c92757ca10\">\n",
              "    <div class=\"colab-df-container\">\n",
              "      <div>\n",
              "<style scoped>\n",
              "    .dataframe tbody tr th:only-of-type {\n",
              "        vertical-align: middle;\n",
              "    }\n",
              "\n",
              "    .dataframe tbody tr th {\n",
              "        vertical-align: top;\n",
              "    }\n",
              "\n",
              "    .dataframe thead th {\n",
              "        text-align: right;\n",
              "    }\n",
              "</style>\n",
              "<table border=\"1\" class=\"dataframe\">\n",
              "  <thead>\n",
              "    <tr style=\"text-align: right;\">\n",
              "      <th></th>\n",
              "      <th>age</th>\n",
              "      <th>job</th>\n",
              "      <th>marital</th>\n",
              "      <th>education</th>\n",
              "      <th>default</th>\n",
              "      <th>balance</th>\n",
              "      <th>housing</th>\n",
              "      <th>loan</th>\n",
              "      <th>contact</th>\n",
              "      <th>day</th>\n",
              "      <th>month</th>\n",
              "      <th>duration</th>\n",
              "      <th>campaign</th>\n",
              "      <th>pdays</th>\n",
              "      <th>previous</th>\n",
              "      <th>poutcome</th>\n",
              "      <th>y</th>\n",
              "    </tr>\n",
              "  </thead>\n",
              "  <tbody>\n",
              "    <tr>\n",
              "      <th>0</th>\n",
              "      <td>58</td>\n",
              "      <td>management</td>\n",
              "      <td>married</td>\n",
              "      <td>tertiary</td>\n",
              "      <td>no</td>\n",
              "      <td>2143</td>\n",
              "      <td>yes</td>\n",
              "      <td>no</td>\n",
              "      <td>unknown</td>\n",
              "      <td>5</td>\n",
              "      <td>may</td>\n",
              "      <td>261</td>\n",
              "      <td>1</td>\n",
              "      <td>-1</td>\n",
              "      <td>0</td>\n",
              "      <td>unknown</td>\n",
              "      <td>no</td>\n",
              "    </tr>\n",
              "    <tr>\n",
              "      <th>1</th>\n",
              "      <td>44</td>\n",
              "      <td>technician</td>\n",
              "      <td>single</td>\n",
              "      <td>secondary</td>\n",
              "      <td>no</td>\n",
              "      <td>29</td>\n",
              "      <td>yes</td>\n",
              "      <td>no</td>\n",
              "      <td>unknown</td>\n",
              "      <td>5</td>\n",
              "      <td>may</td>\n",
              "      <td>151</td>\n",
              "      <td>1</td>\n",
              "      <td>-1</td>\n",
              "      <td>0</td>\n",
              "      <td>unknown</td>\n",
              "      <td>no</td>\n",
              "    </tr>\n",
              "    <tr>\n",
              "      <th>2</th>\n",
              "      <td>33</td>\n",
              "      <td>entrepreneur</td>\n",
              "      <td>married</td>\n",
              "      <td>secondary</td>\n",
              "      <td>no</td>\n",
              "      <td>2</td>\n",
              "      <td>yes</td>\n",
              "      <td>yes</td>\n",
              "      <td>unknown</td>\n",
              "      <td>5</td>\n",
              "      <td>may</td>\n",
              "      <td>76</td>\n",
              "      <td>1</td>\n",
              "      <td>-1</td>\n",
              "      <td>0</td>\n",
              "      <td>unknown</td>\n",
              "      <td>no</td>\n",
              "    </tr>\n",
              "    <tr>\n",
              "      <th>3</th>\n",
              "      <td>47</td>\n",
              "      <td>blue-collar</td>\n",
              "      <td>married</td>\n",
              "      <td>unknown</td>\n",
              "      <td>no</td>\n",
              "      <td>1506</td>\n",
              "      <td>yes</td>\n",
              "      <td>no</td>\n",
              "      <td>unknown</td>\n",
              "      <td>5</td>\n",
              "      <td>may</td>\n",
              "      <td>92</td>\n",
              "      <td>1</td>\n",
              "      <td>-1</td>\n",
              "      <td>0</td>\n",
              "      <td>unknown</td>\n",
              "      <td>no</td>\n",
              "    </tr>\n",
              "    <tr>\n",
              "      <th>4</th>\n",
              "      <td>33</td>\n",
              "      <td>unknown</td>\n",
              "      <td>single</td>\n",
              "      <td>unknown</td>\n",
              "      <td>no</td>\n",
              "      <td>1</td>\n",
              "      <td>no</td>\n",
              "      <td>no</td>\n",
              "      <td>unknown</td>\n",
              "      <td>5</td>\n",
              "      <td>may</td>\n",
              "      <td>198</td>\n",
              "      <td>1</td>\n",
              "      <td>-1</td>\n",
              "      <td>0</td>\n",
              "      <td>unknown</td>\n",
              "      <td>no</td>\n",
              "    </tr>\n",
              "  </tbody>\n",
              "</table>\n",
              "</div>\n",
              "      <button class=\"colab-df-convert\" onclick=\"convertToInteractive('df-9e76d05d-5239-4934-9787-86c92757ca10')\"\n",
              "              title=\"Convert this dataframe to an interactive table.\"\n",
              "              style=\"display:none;\">\n",
              "        \n",
              "  <svg xmlns=\"http://www.w3.org/2000/svg\" height=\"24px\"viewBox=\"0 0 24 24\"\n",
              "       width=\"24px\">\n",
              "    <path d=\"M0 0h24v24H0V0z\" fill=\"none\"/>\n",
              "    <path d=\"M18.56 5.44l.94 2.06.94-2.06 2.06-.94-2.06-.94-.94-2.06-.94 2.06-2.06.94zm-11 1L8.5 8.5l.94-2.06 2.06-.94-2.06-.94L8.5 2.5l-.94 2.06-2.06.94zm10 10l.94 2.06.94-2.06 2.06-.94-2.06-.94-.94-2.06-.94 2.06-2.06.94z\"/><path d=\"M17.41 7.96l-1.37-1.37c-.4-.4-.92-.59-1.43-.59-.52 0-1.04.2-1.43.59L10.3 9.45l-7.72 7.72c-.78.78-.78 2.05 0 2.83L4 21.41c.39.39.9.59 1.41.59.51 0 1.02-.2 1.41-.59l7.78-7.78 2.81-2.81c.8-.78.8-2.07 0-2.86zM5.41 20L4 18.59l7.72-7.72 1.47 1.35L5.41 20z\"/>\n",
              "  </svg>\n",
              "      </button>\n",
              "      \n",
              "  <style>\n",
              "    .colab-df-container {\n",
              "      display:flex;\n",
              "      flex-wrap:wrap;\n",
              "      gap: 12px;\n",
              "    }\n",
              "\n",
              "    .colab-df-convert {\n",
              "      background-color: #E8F0FE;\n",
              "      border: none;\n",
              "      border-radius: 50%;\n",
              "      cursor: pointer;\n",
              "      display: none;\n",
              "      fill: #1967D2;\n",
              "      height: 32px;\n",
              "      padding: 0 0 0 0;\n",
              "      width: 32px;\n",
              "    }\n",
              "\n",
              "    .colab-df-convert:hover {\n",
              "      background-color: #E2EBFA;\n",
              "      box-shadow: 0px 1px 2px rgba(60, 64, 67, 0.3), 0px 1px 3px 1px rgba(60, 64, 67, 0.15);\n",
              "      fill: #174EA6;\n",
              "    }\n",
              "\n",
              "    [theme=dark] .colab-df-convert {\n",
              "      background-color: #3B4455;\n",
              "      fill: #D2E3FC;\n",
              "    }\n",
              "\n",
              "    [theme=dark] .colab-df-convert:hover {\n",
              "      background-color: #434B5C;\n",
              "      box-shadow: 0px 1px 3px 1px rgba(0, 0, 0, 0.15);\n",
              "      filter: drop-shadow(0px 1px 2px rgba(0, 0, 0, 0.3));\n",
              "      fill: #FFFFFF;\n",
              "    }\n",
              "  </style>\n",
              "\n",
              "      <script>\n",
              "        const buttonEl =\n",
              "          document.querySelector('#df-9e76d05d-5239-4934-9787-86c92757ca10 button.colab-df-convert');\n",
              "        buttonEl.style.display =\n",
              "          google.colab.kernel.accessAllowed ? 'block' : 'none';\n",
              "\n",
              "        async function convertToInteractive(key) {\n",
              "          const element = document.querySelector('#df-9e76d05d-5239-4934-9787-86c92757ca10');\n",
              "          const dataTable =\n",
              "            await google.colab.kernel.invokeFunction('convertToInteractive',\n",
              "                                                     [key], {});\n",
              "          if (!dataTable) return;\n",
              "\n",
              "          const docLinkHtml = 'Like what you see? Visit the ' +\n",
              "            '<a target=\"_blank\" href=https://colab.research.google.com/notebooks/data_table.ipynb>data table notebook</a>'\n",
              "            + ' to learn more about interactive tables.';\n",
              "          element.innerHTML = '';\n",
              "          dataTable['output_type'] = 'display_data';\n",
              "          await google.colab.output.renderOutput(dataTable, element);\n",
              "          const docLink = document.createElement('div');\n",
              "          docLink.innerHTML = docLinkHtml;\n",
              "          element.appendChild(docLink);\n",
              "        }\n",
              "      </script>\n",
              "    </div>\n",
              "  </div>\n",
              "  "
            ]
          },
          "metadata": {},
          "execution_count": 6
        }
      ]
    },
    {
      "cell_type": "markdown",
      "source": [
        "# 1. Descriptive Statistics"
      ],
      "metadata": {
        "id": "qDqYpuo20U9p"
      }
    },
    {
      "cell_type": "code",
      "source": [
        "df.info()"
      ],
      "metadata": {
        "colab": {
          "base_uri": "https://localhost:8080/"
        },
        "id": "7OSLLSk50yRY",
        "outputId": "43b3bf29-bc08-43a7-afe4-4d16dd009ad2"
      },
      "execution_count": 7,
      "outputs": [
        {
          "output_type": "stream",
          "name": "stdout",
          "text": [
            "<class 'pandas.core.frame.DataFrame'>\n",
            "RangeIndex: 45211 entries, 0 to 45210\n",
            "Data columns (total 17 columns):\n",
            " #   Column     Non-Null Count  Dtype \n",
            "---  ------     --------------  ----- \n",
            " 0   age        45211 non-null  int64 \n",
            " 1   job        45211 non-null  object\n",
            " 2   marital    45211 non-null  object\n",
            " 3   education  45211 non-null  object\n",
            " 4   default    45211 non-null  object\n",
            " 5   balance    45211 non-null  int64 \n",
            " 6   housing    45211 non-null  object\n",
            " 7   loan       45211 non-null  object\n",
            " 8   contact    45211 non-null  object\n",
            " 9   day        45211 non-null  int64 \n",
            " 10  month      45211 non-null  object\n",
            " 11  duration   45211 non-null  int64 \n",
            " 12  campaign   45211 non-null  int64 \n",
            " 13  pdays      45211 non-null  int64 \n",
            " 14  previous   45211 non-null  int64 \n",
            " 15  poutcome   45211 non-null  object\n",
            " 16  y          45211 non-null  object\n",
            "dtypes: int64(7), object(10)\n",
            "memory usage: 5.9+ MB\n"
          ]
        }
      ]
    },
    {
      "cell_type": "code",
      "source": [
        "# Checking for missing values\n",
        "df.isna().sum()"
      ],
      "metadata": {
        "colab": {
          "base_uri": "https://localhost:8080/"
        },
        "id": "ZVakddHj03_5",
        "outputId": "4224ea33-0d16-4047-f14c-4d9b8060f269"
      },
      "execution_count": 8,
      "outputs": [
        {
          "output_type": "execute_result",
          "data": {
            "text/plain": [
              "age          0\n",
              "job          0\n",
              "marital      0\n",
              "education    0\n",
              "default      0\n",
              "balance      0\n",
              "housing      0\n",
              "loan         0\n",
              "contact      0\n",
              "day          0\n",
              "month        0\n",
              "duration     0\n",
              "campaign     0\n",
              "pdays        0\n",
              "previous     0\n",
              "poutcome     0\n",
              "y            0\n",
              "dtype: int64"
            ]
          },
          "metadata": {},
          "execution_count": 8
        }
      ]
    },
    {
      "cell_type": "code",
      "source": [
        "# Checking duplicate record\n",
        "df.duplicated().sum() "
      ],
      "metadata": {
        "colab": {
          "base_uri": "https://localhost:8080/"
        },
        "id": "ndeQIQtF1CSH",
        "outputId": "9cc9471b-f8f3-42f7-8b73-dc8eb13163e5"
      },
      "execution_count": 9,
      "outputs": [
        {
          "output_type": "execute_result",
          "data": {
            "text/plain": [
              "0"
            ]
          },
          "metadata": {},
          "execution_count": 9
        }
      ]
    },
    {
      "cell_type": "code",
      "source": [
        "cats = ['job', 'marital', 'education', 'default', 'housing', 'loan', 'contact', 'month', 'poutcome', 'y']\n",
        "nums = ['age', 'balance', 'day', 'duration', 'campaign', 'pdays', 'previous']\n",
        "df[nums].describe()"
      ],
      "metadata": {
        "colab": {
          "base_uri": "https://localhost:8080/",
          "height": 301
        },
        "id": "n9dzW9He1HtY",
        "outputId": "8064786e-51c2-4476-eee5-0237d1564ed3"
      },
      "execution_count": 10,
      "outputs": [
        {
          "output_type": "execute_result",
          "data": {
            "text/plain": [
              "                age        balance           day      duration      campaign  \\\n",
              "count  45211.000000   45211.000000  45211.000000  45211.000000  45211.000000   \n",
              "mean      40.936210    1362.272058     15.806419    258.163080      2.763841   \n",
              "std       10.618762    3044.765829      8.322476    257.527812      3.098021   \n",
              "min       18.000000   -8019.000000      1.000000      0.000000      1.000000   \n",
              "25%       33.000000      72.000000      8.000000    103.000000      1.000000   \n",
              "50%       39.000000     448.000000     16.000000    180.000000      2.000000   \n",
              "75%       48.000000    1428.000000     21.000000    319.000000      3.000000   \n",
              "max       95.000000  102127.000000     31.000000   4918.000000     63.000000   \n",
              "\n",
              "              pdays      previous  \n",
              "count  45211.000000  45211.000000  \n",
              "mean      40.197828      0.580323  \n",
              "std      100.128746      2.303441  \n",
              "min       -1.000000      0.000000  \n",
              "25%       -1.000000      0.000000  \n",
              "50%       -1.000000      0.000000  \n",
              "75%       -1.000000      0.000000  \n",
              "max      871.000000    275.000000  "
            ],
            "text/html": [
              "\n",
              "  <div id=\"df-54cdbb65-fc3f-4bc5-bc5e-290f618e13bd\">\n",
              "    <div class=\"colab-df-container\">\n",
              "      <div>\n",
              "<style scoped>\n",
              "    .dataframe tbody tr th:only-of-type {\n",
              "        vertical-align: middle;\n",
              "    }\n",
              "\n",
              "    .dataframe tbody tr th {\n",
              "        vertical-align: top;\n",
              "    }\n",
              "\n",
              "    .dataframe thead th {\n",
              "        text-align: right;\n",
              "    }\n",
              "</style>\n",
              "<table border=\"1\" class=\"dataframe\">\n",
              "  <thead>\n",
              "    <tr style=\"text-align: right;\">\n",
              "      <th></th>\n",
              "      <th>age</th>\n",
              "      <th>balance</th>\n",
              "      <th>day</th>\n",
              "      <th>duration</th>\n",
              "      <th>campaign</th>\n",
              "      <th>pdays</th>\n",
              "      <th>previous</th>\n",
              "    </tr>\n",
              "  </thead>\n",
              "  <tbody>\n",
              "    <tr>\n",
              "      <th>count</th>\n",
              "      <td>45211.000000</td>\n",
              "      <td>45211.000000</td>\n",
              "      <td>45211.000000</td>\n",
              "      <td>45211.000000</td>\n",
              "      <td>45211.000000</td>\n",
              "      <td>45211.000000</td>\n",
              "      <td>45211.000000</td>\n",
              "    </tr>\n",
              "    <tr>\n",
              "      <th>mean</th>\n",
              "      <td>40.936210</td>\n",
              "      <td>1362.272058</td>\n",
              "      <td>15.806419</td>\n",
              "      <td>258.163080</td>\n",
              "      <td>2.763841</td>\n",
              "      <td>40.197828</td>\n",
              "      <td>0.580323</td>\n",
              "    </tr>\n",
              "    <tr>\n",
              "      <th>std</th>\n",
              "      <td>10.618762</td>\n",
              "      <td>3044.765829</td>\n",
              "      <td>8.322476</td>\n",
              "      <td>257.527812</td>\n",
              "      <td>3.098021</td>\n",
              "      <td>100.128746</td>\n",
              "      <td>2.303441</td>\n",
              "    </tr>\n",
              "    <tr>\n",
              "      <th>min</th>\n",
              "      <td>18.000000</td>\n",
              "      <td>-8019.000000</td>\n",
              "      <td>1.000000</td>\n",
              "      <td>0.000000</td>\n",
              "      <td>1.000000</td>\n",
              "      <td>-1.000000</td>\n",
              "      <td>0.000000</td>\n",
              "    </tr>\n",
              "    <tr>\n",
              "      <th>25%</th>\n",
              "      <td>33.000000</td>\n",
              "      <td>72.000000</td>\n",
              "      <td>8.000000</td>\n",
              "      <td>103.000000</td>\n",
              "      <td>1.000000</td>\n",
              "      <td>-1.000000</td>\n",
              "      <td>0.000000</td>\n",
              "    </tr>\n",
              "    <tr>\n",
              "      <th>50%</th>\n",
              "      <td>39.000000</td>\n",
              "      <td>448.000000</td>\n",
              "      <td>16.000000</td>\n",
              "      <td>180.000000</td>\n",
              "      <td>2.000000</td>\n",
              "      <td>-1.000000</td>\n",
              "      <td>0.000000</td>\n",
              "    </tr>\n",
              "    <tr>\n",
              "      <th>75%</th>\n",
              "      <td>48.000000</td>\n",
              "      <td>1428.000000</td>\n",
              "      <td>21.000000</td>\n",
              "      <td>319.000000</td>\n",
              "      <td>3.000000</td>\n",
              "      <td>-1.000000</td>\n",
              "      <td>0.000000</td>\n",
              "    </tr>\n",
              "    <tr>\n",
              "      <th>max</th>\n",
              "      <td>95.000000</td>\n",
              "      <td>102127.000000</td>\n",
              "      <td>31.000000</td>\n",
              "      <td>4918.000000</td>\n",
              "      <td>63.000000</td>\n",
              "      <td>871.000000</td>\n",
              "      <td>275.000000</td>\n",
              "    </tr>\n",
              "  </tbody>\n",
              "</table>\n",
              "</div>\n",
              "      <button class=\"colab-df-convert\" onclick=\"convertToInteractive('df-54cdbb65-fc3f-4bc5-bc5e-290f618e13bd')\"\n",
              "              title=\"Convert this dataframe to an interactive table.\"\n",
              "              style=\"display:none;\">\n",
              "        \n",
              "  <svg xmlns=\"http://www.w3.org/2000/svg\" height=\"24px\"viewBox=\"0 0 24 24\"\n",
              "       width=\"24px\">\n",
              "    <path d=\"M0 0h24v24H0V0z\" fill=\"none\"/>\n",
              "    <path d=\"M18.56 5.44l.94 2.06.94-2.06 2.06-.94-2.06-.94-.94-2.06-.94 2.06-2.06.94zm-11 1L8.5 8.5l.94-2.06 2.06-.94-2.06-.94L8.5 2.5l-.94 2.06-2.06.94zm10 10l.94 2.06.94-2.06 2.06-.94-2.06-.94-.94-2.06-.94 2.06-2.06.94z\"/><path d=\"M17.41 7.96l-1.37-1.37c-.4-.4-.92-.59-1.43-.59-.52 0-1.04.2-1.43.59L10.3 9.45l-7.72 7.72c-.78.78-.78 2.05 0 2.83L4 21.41c.39.39.9.59 1.41.59.51 0 1.02-.2 1.41-.59l7.78-7.78 2.81-2.81c.8-.78.8-2.07 0-2.86zM5.41 20L4 18.59l7.72-7.72 1.47 1.35L5.41 20z\"/>\n",
              "  </svg>\n",
              "      </button>\n",
              "      \n",
              "  <style>\n",
              "    .colab-df-container {\n",
              "      display:flex;\n",
              "      flex-wrap:wrap;\n",
              "      gap: 12px;\n",
              "    }\n",
              "\n",
              "    .colab-df-convert {\n",
              "      background-color: #E8F0FE;\n",
              "      border: none;\n",
              "      border-radius: 50%;\n",
              "      cursor: pointer;\n",
              "      display: none;\n",
              "      fill: #1967D2;\n",
              "      height: 32px;\n",
              "      padding: 0 0 0 0;\n",
              "      width: 32px;\n",
              "    }\n",
              "\n",
              "    .colab-df-convert:hover {\n",
              "      background-color: #E2EBFA;\n",
              "      box-shadow: 0px 1px 2px rgba(60, 64, 67, 0.3), 0px 1px 3px 1px rgba(60, 64, 67, 0.15);\n",
              "      fill: #174EA6;\n",
              "    }\n",
              "\n",
              "    [theme=dark] .colab-df-convert {\n",
              "      background-color: #3B4455;\n",
              "      fill: #D2E3FC;\n",
              "    }\n",
              "\n",
              "    [theme=dark] .colab-df-convert:hover {\n",
              "      background-color: #434B5C;\n",
              "      box-shadow: 0px 1px 3px 1px rgba(0, 0, 0, 0.15);\n",
              "      filter: drop-shadow(0px 1px 2px rgba(0, 0, 0, 0.3));\n",
              "      fill: #FFFFFF;\n",
              "    }\n",
              "  </style>\n",
              "\n",
              "      <script>\n",
              "        const buttonEl =\n",
              "          document.querySelector('#df-54cdbb65-fc3f-4bc5-bc5e-290f618e13bd button.colab-df-convert');\n",
              "        buttonEl.style.display =\n",
              "          google.colab.kernel.accessAllowed ? 'block' : 'none';\n",
              "\n",
              "        async function convertToInteractive(key) {\n",
              "          const element = document.querySelector('#df-54cdbb65-fc3f-4bc5-bc5e-290f618e13bd');\n",
              "          const dataTable =\n",
              "            await google.colab.kernel.invokeFunction('convertToInteractive',\n",
              "                                                     [key], {});\n",
              "          if (!dataTable) return;\n",
              "\n",
              "          const docLinkHtml = 'Like what you see? Visit the ' +\n",
              "            '<a target=\"_blank\" href=https://colab.research.google.com/notebooks/data_table.ipynb>data table notebook</a>'\n",
              "            + ' to learn more about interactive tables.';\n",
              "          element.innerHTML = '';\n",
              "          dataTable['output_type'] = 'display_data';\n",
              "          await google.colab.output.renderOutput(dataTable, element);\n",
              "          const docLink = document.createElement('div');\n",
              "          docLink.innerHTML = docLinkHtml;\n",
              "          element.appendChild(docLink);\n",
              "        }\n",
              "      </script>\n",
              "    </div>\n",
              "  </div>\n",
              "  "
            ]
          },
          "metadata": {},
          "execution_count": 10
        }
      ]
    },
    {
      "cell_type": "code",
      "source": [
        "df[cats].describe()"
      ],
      "metadata": {
        "colab": {
          "base_uri": "https://localhost:8080/",
          "height": 175
        },
        "id": "rh163cx_1PSd",
        "outputId": "6ed38113-7812-4ca7-97e7-6d0052dae340"
      },
      "execution_count": 11,
      "outputs": [
        {
          "output_type": "execute_result",
          "data": {
            "text/plain": [
              "                job  marital  education default housing   loan   contact  \\\n",
              "count         45211    45211      45211   45211   45211  45211     45211   \n",
              "unique           12        3          4       2       2      2         3   \n",
              "top     blue-collar  married  secondary      no     yes     no  cellular   \n",
              "freq           9732    27214      23202   44396   25130  37967     29285   \n",
              "\n",
              "        month poutcome      y  \n",
              "count   45211    45211  45211  \n",
              "unique     12        4      2  \n",
              "top       may  unknown     no  \n",
              "freq    13766    36959  39922  "
            ],
            "text/html": [
              "\n",
              "  <div id=\"df-b2273d89-cbf1-4e6f-ae92-860ed9bfc034\">\n",
              "    <div class=\"colab-df-container\">\n",
              "      <div>\n",
              "<style scoped>\n",
              "    .dataframe tbody tr th:only-of-type {\n",
              "        vertical-align: middle;\n",
              "    }\n",
              "\n",
              "    .dataframe tbody tr th {\n",
              "        vertical-align: top;\n",
              "    }\n",
              "\n",
              "    .dataframe thead th {\n",
              "        text-align: right;\n",
              "    }\n",
              "</style>\n",
              "<table border=\"1\" class=\"dataframe\">\n",
              "  <thead>\n",
              "    <tr style=\"text-align: right;\">\n",
              "      <th></th>\n",
              "      <th>job</th>\n",
              "      <th>marital</th>\n",
              "      <th>education</th>\n",
              "      <th>default</th>\n",
              "      <th>housing</th>\n",
              "      <th>loan</th>\n",
              "      <th>contact</th>\n",
              "      <th>month</th>\n",
              "      <th>poutcome</th>\n",
              "      <th>y</th>\n",
              "    </tr>\n",
              "  </thead>\n",
              "  <tbody>\n",
              "    <tr>\n",
              "      <th>count</th>\n",
              "      <td>45211</td>\n",
              "      <td>45211</td>\n",
              "      <td>45211</td>\n",
              "      <td>45211</td>\n",
              "      <td>45211</td>\n",
              "      <td>45211</td>\n",
              "      <td>45211</td>\n",
              "      <td>45211</td>\n",
              "      <td>45211</td>\n",
              "      <td>45211</td>\n",
              "    </tr>\n",
              "    <tr>\n",
              "      <th>unique</th>\n",
              "      <td>12</td>\n",
              "      <td>3</td>\n",
              "      <td>4</td>\n",
              "      <td>2</td>\n",
              "      <td>2</td>\n",
              "      <td>2</td>\n",
              "      <td>3</td>\n",
              "      <td>12</td>\n",
              "      <td>4</td>\n",
              "      <td>2</td>\n",
              "    </tr>\n",
              "    <tr>\n",
              "      <th>top</th>\n",
              "      <td>blue-collar</td>\n",
              "      <td>married</td>\n",
              "      <td>secondary</td>\n",
              "      <td>no</td>\n",
              "      <td>yes</td>\n",
              "      <td>no</td>\n",
              "      <td>cellular</td>\n",
              "      <td>may</td>\n",
              "      <td>unknown</td>\n",
              "      <td>no</td>\n",
              "    </tr>\n",
              "    <tr>\n",
              "      <th>freq</th>\n",
              "      <td>9732</td>\n",
              "      <td>27214</td>\n",
              "      <td>23202</td>\n",
              "      <td>44396</td>\n",
              "      <td>25130</td>\n",
              "      <td>37967</td>\n",
              "      <td>29285</td>\n",
              "      <td>13766</td>\n",
              "      <td>36959</td>\n",
              "      <td>39922</td>\n",
              "    </tr>\n",
              "  </tbody>\n",
              "</table>\n",
              "</div>\n",
              "      <button class=\"colab-df-convert\" onclick=\"convertToInteractive('df-b2273d89-cbf1-4e6f-ae92-860ed9bfc034')\"\n",
              "              title=\"Convert this dataframe to an interactive table.\"\n",
              "              style=\"display:none;\">\n",
              "        \n",
              "  <svg xmlns=\"http://www.w3.org/2000/svg\" height=\"24px\"viewBox=\"0 0 24 24\"\n",
              "       width=\"24px\">\n",
              "    <path d=\"M0 0h24v24H0V0z\" fill=\"none\"/>\n",
              "    <path d=\"M18.56 5.44l.94 2.06.94-2.06 2.06-.94-2.06-.94-.94-2.06-.94 2.06-2.06.94zm-11 1L8.5 8.5l.94-2.06 2.06-.94-2.06-.94L8.5 2.5l-.94 2.06-2.06.94zm10 10l.94 2.06.94-2.06 2.06-.94-2.06-.94-.94-2.06-.94 2.06-2.06.94z\"/><path d=\"M17.41 7.96l-1.37-1.37c-.4-.4-.92-.59-1.43-.59-.52 0-1.04.2-1.43.59L10.3 9.45l-7.72 7.72c-.78.78-.78 2.05 0 2.83L4 21.41c.39.39.9.59 1.41.59.51 0 1.02-.2 1.41-.59l7.78-7.78 2.81-2.81c.8-.78.8-2.07 0-2.86zM5.41 20L4 18.59l7.72-7.72 1.47 1.35L5.41 20z\"/>\n",
              "  </svg>\n",
              "      </button>\n",
              "      \n",
              "  <style>\n",
              "    .colab-df-container {\n",
              "      display:flex;\n",
              "      flex-wrap:wrap;\n",
              "      gap: 12px;\n",
              "    }\n",
              "\n",
              "    .colab-df-convert {\n",
              "      background-color: #E8F0FE;\n",
              "      border: none;\n",
              "      border-radius: 50%;\n",
              "      cursor: pointer;\n",
              "      display: none;\n",
              "      fill: #1967D2;\n",
              "      height: 32px;\n",
              "      padding: 0 0 0 0;\n",
              "      width: 32px;\n",
              "    }\n",
              "\n",
              "    .colab-df-convert:hover {\n",
              "      background-color: #E2EBFA;\n",
              "      box-shadow: 0px 1px 2px rgba(60, 64, 67, 0.3), 0px 1px 3px 1px rgba(60, 64, 67, 0.15);\n",
              "      fill: #174EA6;\n",
              "    }\n",
              "\n",
              "    [theme=dark] .colab-df-convert {\n",
              "      background-color: #3B4455;\n",
              "      fill: #D2E3FC;\n",
              "    }\n",
              "\n",
              "    [theme=dark] .colab-df-convert:hover {\n",
              "      background-color: #434B5C;\n",
              "      box-shadow: 0px 1px 3px 1px rgba(0, 0, 0, 0.15);\n",
              "      filter: drop-shadow(0px 1px 2px rgba(0, 0, 0, 0.3));\n",
              "      fill: #FFFFFF;\n",
              "    }\n",
              "  </style>\n",
              "\n",
              "      <script>\n",
              "        const buttonEl =\n",
              "          document.querySelector('#df-b2273d89-cbf1-4e6f-ae92-860ed9bfc034 button.colab-df-convert');\n",
              "        buttonEl.style.display =\n",
              "          google.colab.kernel.accessAllowed ? 'block' : 'none';\n",
              "\n",
              "        async function convertToInteractive(key) {\n",
              "          const element = document.querySelector('#df-b2273d89-cbf1-4e6f-ae92-860ed9bfc034');\n",
              "          const dataTable =\n",
              "            await google.colab.kernel.invokeFunction('convertToInteractive',\n",
              "                                                     [key], {});\n",
              "          if (!dataTable) return;\n",
              "\n",
              "          const docLinkHtml = 'Like what you see? Visit the ' +\n",
              "            '<a target=\"_blank\" href=https://colab.research.google.com/notebooks/data_table.ipynb>data table notebook</a>'\n",
              "            + ' to learn more about interactive tables.';\n",
              "          element.innerHTML = '';\n",
              "          dataTable['output_type'] = 'display_data';\n",
              "          await google.colab.output.renderOutput(dataTable, element);\n",
              "          const docLink = document.createElement('div');\n",
              "          docLink.innerHTML = docLinkHtml;\n",
              "          element.appendChild(docLink);\n",
              "        }\n",
              "      </script>\n",
              "    </div>\n",
              "  </div>\n",
              "  "
            ]
          },
          "metadata": {},
          "execution_count": 11
        }
      ]
    },
    {
      "cell_type": "code",
      "source": [
        "df.groupby('pdays').agg({'pdays':['count']}).head()"
      ],
      "metadata": {
        "colab": {
          "base_uri": "https://localhost:8080/",
          "height": 269
        },
        "id": "ChGWFmKT1yYH",
        "outputId": "8b1b881f-8fd5-4e0a-86fb-53154bbffa6f"
      },
      "execution_count": 12,
      "outputs": [
        {
          "output_type": "execute_result",
          "data": {
            "text/plain": [
              "       pdays\n",
              "       count\n",
              "pdays       \n",
              "-1     36954\n",
              " 1        15\n",
              " 2        37\n",
              " 3         1\n",
              " 4         2"
            ],
            "text/html": [
              "\n",
              "  <div id=\"df-a06c59a4-4dc4-4127-a256-a7b4cac65a18\">\n",
              "    <div class=\"colab-df-container\">\n",
              "      <div>\n",
              "<style scoped>\n",
              "    .dataframe tbody tr th:only-of-type {\n",
              "        vertical-align: middle;\n",
              "    }\n",
              "\n",
              "    .dataframe tbody tr th {\n",
              "        vertical-align: top;\n",
              "    }\n",
              "\n",
              "    .dataframe thead tr th {\n",
              "        text-align: left;\n",
              "    }\n",
              "\n",
              "    .dataframe thead tr:last-of-type th {\n",
              "        text-align: right;\n",
              "    }\n",
              "</style>\n",
              "<table border=\"1\" class=\"dataframe\">\n",
              "  <thead>\n",
              "    <tr>\n",
              "      <th></th>\n",
              "      <th>pdays</th>\n",
              "    </tr>\n",
              "    <tr>\n",
              "      <th></th>\n",
              "      <th>count</th>\n",
              "    </tr>\n",
              "    <tr>\n",
              "      <th>pdays</th>\n",
              "      <th></th>\n",
              "    </tr>\n",
              "  </thead>\n",
              "  <tbody>\n",
              "    <tr>\n",
              "      <th>-1</th>\n",
              "      <td>36954</td>\n",
              "    </tr>\n",
              "    <tr>\n",
              "      <th>1</th>\n",
              "      <td>15</td>\n",
              "    </tr>\n",
              "    <tr>\n",
              "      <th>2</th>\n",
              "      <td>37</td>\n",
              "    </tr>\n",
              "    <tr>\n",
              "      <th>3</th>\n",
              "      <td>1</td>\n",
              "    </tr>\n",
              "    <tr>\n",
              "      <th>4</th>\n",
              "      <td>2</td>\n",
              "    </tr>\n",
              "  </tbody>\n",
              "</table>\n",
              "</div>\n",
              "      <button class=\"colab-df-convert\" onclick=\"convertToInteractive('df-a06c59a4-4dc4-4127-a256-a7b4cac65a18')\"\n",
              "              title=\"Convert this dataframe to an interactive table.\"\n",
              "              style=\"display:none;\">\n",
              "        \n",
              "  <svg xmlns=\"http://www.w3.org/2000/svg\" height=\"24px\"viewBox=\"0 0 24 24\"\n",
              "       width=\"24px\">\n",
              "    <path d=\"M0 0h24v24H0V0z\" fill=\"none\"/>\n",
              "    <path d=\"M18.56 5.44l.94 2.06.94-2.06 2.06-.94-2.06-.94-.94-2.06-.94 2.06-2.06.94zm-11 1L8.5 8.5l.94-2.06 2.06-.94-2.06-.94L8.5 2.5l-.94 2.06-2.06.94zm10 10l.94 2.06.94-2.06 2.06-.94-2.06-.94-.94-2.06-.94 2.06-2.06.94z\"/><path d=\"M17.41 7.96l-1.37-1.37c-.4-.4-.92-.59-1.43-.59-.52 0-1.04.2-1.43.59L10.3 9.45l-7.72 7.72c-.78.78-.78 2.05 0 2.83L4 21.41c.39.39.9.59 1.41.59.51 0 1.02-.2 1.41-.59l7.78-7.78 2.81-2.81c.8-.78.8-2.07 0-2.86zM5.41 20L4 18.59l7.72-7.72 1.47 1.35L5.41 20z\"/>\n",
              "  </svg>\n",
              "      </button>\n",
              "      \n",
              "  <style>\n",
              "    .colab-df-container {\n",
              "      display:flex;\n",
              "      flex-wrap:wrap;\n",
              "      gap: 12px;\n",
              "    }\n",
              "\n",
              "    .colab-df-convert {\n",
              "      background-color: #E8F0FE;\n",
              "      border: none;\n",
              "      border-radius: 50%;\n",
              "      cursor: pointer;\n",
              "      display: none;\n",
              "      fill: #1967D2;\n",
              "      height: 32px;\n",
              "      padding: 0 0 0 0;\n",
              "      width: 32px;\n",
              "    }\n",
              "\n",
              "    .colab-df-convert:hover {\n",
              "      background-color: #E2EBFA;\n",
              "      box-shadow: 0px 1px 2px rgba(60, 64, 67, 0.3), 0px 1px 3px 1px rgba(60, 64, 67, 0.15);\n",
              "      fill: #174EA6;\n",
              "    }\n",
              "\n",
              "    [theme=dark] .colab-df-convert {\n",
              "      background-color: #3B4455;\n",
              "      fill: #D2E3FC;\n",
              "    }\n",
              "\n",
              "    [theme=dark] .colab-df-convert:hover {\n",
              "      background-color: #434B5C;\n",
              "      box-shadow: 0px 1px 3px 1px rgba(0, 0, 0, 0.15);\n",
              "      filter: drop-shadow(0px 1px 2px rgba(0, 0, 0, 0.3));\n",
              "      fill: #FFFFFF;\n",
              "    }\n",
              "  </style>\n",
              "\n",
              "      <script>\n",
              "        const buttonEl =\n",
              "          document.querySelector('#df-a06c59a4-4dc4-4127-a256-a7b4cac65a18 button.colab-df-convert');\n",
              "        buttonEl.style.display =\n",
              "          google.colab.kernel.accessAllowed ? 'block' : 'none';\n",
              "\n",
              "        async function convertToInteractive(key) {\n",
              "          const element = document.querySelector('#df-a06c59a4-4dc4-4127-a256-a7b4cac65a18');\n",
              "          const dataTable =\n",
              "            await google.colab.kernel.invokeFunction('convertToInteractive',\n",
              "                                                     [key], {});\n",
              "          if (!dataTable) return;\n",
              "\n",
              "          const docLinkHtml = 'Like what you see? Visit the ' +\n",
              "            '<a target=\"_blank\" href=https://colab.research.google.com/notebooks/data_table.ipynb>data table notebook</a>'\n",
              "            + ' to learn more about interactive tables.';\n",
              "          element.innerHTML = '';\n",
              "          dataTable['output_type'] = 'display_data';\n",
              "          await google.colab.output.renderOutput(dataTable, element);\n",
              "          const docLink = document.createElement('div');\n",
              "          docLink.innerHTML = docLinkHtml;\n",
              "          element.appendChild(docLink);\n",
              "        }\n",
              "      </script>\n",
              "    </div>\n",
              "  </div>\n",
              "  "
            ]
          },
          "metadata": {},
          "execution_count": 12
        }
      ]
    },
    {
      "cell_type": "code",
      "source": [
        "df.groupby('previous').agg({'pdays':['count']}).head()"
      ],
      "metadata": {
        "colab": {
          "base_uri": "https://localhost:8080/",
          "height": 269
        },
        "id": "s9Hc-L8t6YqH",
        "outputId": "57184e15-38b6-41bb-fc19-4b11983748c1"
      },
      "execution_count": 13,
      "outputs": [
        {
          "output_type": "execute_result",
          "data": {
            "text/plain": [
              "          pdays\n",
              "          count\n",
              "previous       \n",
              "0         36954\n",
              "1          2772\n",
              "2          2106\n",
              "3          1142\n",
              "4           714"
            ],
            "text/html": [
              "\n",
              "  <div id=\"df-9e2b9690-aa8a-4982-9633-4b8f55349df6\">\n",
              "    <div class=\"colab-df-container\">\n",
              "      <div>\n",
              "<style scoped>\n",
              "    .dataframe tbody tr th:only-of-type {\n",
              "        vertical-align: middle;\n",
              "    }\n",
              "\n",
              "    .dataframe tbody tr th {\n",
              "        vertical-align: top;\n",
              "    }\n",
              "\n",
              "    .dataframe thead tr th {\n",
              "        text-align: left;\n",
              "    }\n",
              "\n",
              "    .dataframe thead tr:last-of-type th {\n",
              "        text-align: right;\n",
              "    }\n",
              "</style>\n",
              "<table border=\"1\" class=\"dataframe\">\n",
              "  <thead>\n",
              "    <tr>\n",
              "      <th></th>\n",
              "      <th>pdays</th>\n",
              "    </tr>\n",
              "    <tr>\n",
              "      <th></th>\n",
              "      <th>count</th>\n",
              "    </tr>\n",
              "    <tr>\n",
              "      <th>previous</th>\n",
              "      <th></th>\n",
              "    </tr>\n",
              "  </thead>\n",
              "  <tbody>\n",
              "    <tr>\n",
              "      <th>0</th>\n",
              "      <td>36954</td>\n",
              "    </tr>\n",
              "    <tr>\n",
              "      <th>1</th>\n",
              "      <td>2772</td>\n",
              "    </tr>\n",
              "    <tr>\n",
              "      <th>2</th>\n",
              "      <td>2106</td>\n",
              "    </tr>\n",
              "    <tr>\n",
              "      <th>3</th>\n",
              "      <td>1142</td>\n",
              "    </tr>\n",
              "    <tr>\n",
              "      <th>4</th>\n",
              "      <td>714</td>\n",
              "    </tr>\n",
              "  </tbody>\n",
              "</table>\n",
              "</div>\n",
              "      <button class=\"colab-df-convert\" onclick=\"convertToInteractive('df-9e2b9690-aa8a-4982-9633-4b8f55349df6')\"\n",
              "              title=\"Convert this dataframe to an interactive table.\"\n",
              "              style=\"display:none;\">\n",
              "        \n",
              "  <svg xmlns=\"http://www.w3.org/2000/svg\" height=\"24px\"viewBox=\"0 0 24 24\"\n",
              "       width=\"24px\">\n",
              "    <path d=\"M0 0h24v24H0V0z\" fill=\"none\"/>\n",
              "    <path d=\"M18.56 5.44l.94 2.06.94-2.06 2.06-.94-2.06-.94-.94-2.06-.94 2.06-2.06.94zm-11 1L8.5 8.5l.94-2.06 2.06-.94-2.06-.94L8.5 2.5l-.94 2.06-2.06.94zm10 10l.94 2.06.94-2.06 2.06-.94-2.06-.94-.94-2.06-.94 2.06-2.06.94z\"/><path d=\"M17.41 7.96l-1.37-1.37c-.4-.4-.92-.59-1.43-.59-.52 0-1.04.2-1.43.59L10.3 9.45l-7.72 7.72c-.78.78-.78 2.05 0 2.83L4 21.41c.39.39.9.59 1.41.59.51 0 1.02-.2 1.41-.59l7.78-7.78 2.81-2.81c.8-.78.8-2.07 0-2.86zM5.41 20L4 18.59l7.72-7.72 1.47 1.35L5.41 20z\"/>\n",
              "  </svg>\n",
              "      </button>\n",
              "      \n",
              "  <style>\n",
              "    .colab-df-container {\n",
              "      display:flex;\n",
              "      flex-wrap:wrap;\n",
              "      gap: 12px;\n",
              "    }\n",
              "\n",
              "    .colab-df-convert {\n",
              "      background-color: #E8F0FE;\n",
              "      border: none;\n",
              "      border-radius: 50%;\n",
              "      cursor: pointer;\n",
              "      display: none;\n",
              "      fill: #1967D2;\n",
              "      height: 32px;\n",
              "      padding: 0 0 0 0;\n",
              "      width: 32px;\n",
              "    }\n",
              "\n",
              "    .colab-df-convert:hover {\n",
              "      background-color: #E2EBFA;\n",
              "      box-shadow: 0px 1px 2px rgba(60, 64, 67, 0.3), 0px 1px 3px 1px rgba(60, 64, 67, 0.15);\n",
              "      fill: #174EA6;\n",
              "    }\n",
              "\n",
              "    [theme=dark] .colab-df-convert {\n",
              "      background-color: #3B4455;\n",
              "      fill: #D2E3FC;\n",
              "    }\n",
              "\n",
              "    [theme=dark] .colab-df-convert:hover {\n",
              "      background-color: #434B5C;\n",
              "      box-shadow: 0px 1px 3px 1px rgba(0, 0, 0, 0.15);\n",
              "      filter: drop-shadow(0px 1px 2px rgba(0, 0, 0, 0.3));\n",
              "      fill: #FFFFFF;\n",
              "    }\n",
              "  </style>\n",
              "\n",
              "      <script>\n",
              "        const buttonEl =\n",
              "          document.querySelector('#df-9e2b9690-aa8a-4982-9633-4b8f55349df6 button.colab-df-convert');\n",
              "        buttonEl.style.display =\n",
              "          google.colab.kernel.accessAllowed ? 'block' : 'none';\n",
              "\n",
              "        async function convertToInteractive(key) {\n",
              "          const element = document.querySelector('#df-9e2b9690-aa8a-4982-9633-4b8f55349df6');\n",
              "          const dataTable =\n",
              "            await google.colab.kernel.invokeFunction('convertToInteractive',\n",
              "                                                     [key], {});\n",
              "          if (!dataTable) return;\n",
              "\n",
              "          const docLinkHtml = 'Like what you see? Visit the ' +\n",
              "            '<a target=\"_blank\" href=https://colab.research.google.com/notebooks/data_table.ipynb>data table notebook</a>'\n",
              "            + ' to learn more about interactive tables.';\n",
              "          element.innerHTML = '';\n",
              "          dataTable['output_type'] = 'display_data';\n",
              "          await google.colab.output.renderOutput(dataTable, element);\n",
              "          const docLink = document.createElement('div');\n",
              "          docLink.innerHTML = docLinkHtml;\n",
              "          element.appendChild(docLink);\n",
              "        }\n",
              "      </script>\n",
              "    </div>\n",
              "  </div>\n",
              "  "
            ]
          },
          "metadata": {},
          "execution_count": 13
        }
      ]
    },
    {
      "cell_type": "code",
      "source": [
        "df[df['previous']==0].groupby('campaign').agg({'campaign':['count']}).head() "
      ],
      "metadata": {
        "colab": {
          "base_uri": "https://localhost:8080/",
          "height": 269
        },
        "id": "k6HqFo-b6dNR",
        "outputId": "8444db97-1770-48d2-fb81-dc89c473e639"
      },
      "execution_count": 14,
      "outputs": [
        {
          "output_type": "execute_result",
          "data": {
            "text/plain": [
              "         campaign\n",
              "            count\n",
              "campaign         \n",
              "1           13529\n",
              "2           10229\n",
              "3            4608\n",
              "4            3097\n",
              "5            1508"
            ],
            "text/html": [
              "\n",
              "  <div id=\"df-46896ada-7bfd-463f-94a3-52f635f84301\">\n",
              "    <div class=\"colab-df-container\">\n",
              "      <div>\n",
              "<style scoped>\n",
              "    .dataframe tbody tr th:only-of-type {\n",
              "        vertical-align: middle;\n",
              "    }\n",
              "\n",
              "    .dataframe tbody tr th {\n",
              "        vertical-align: top;\n",
              "    }\n",
              "\n",
              "    .dataframe thead tr th {\n",
              "        text-align: left;\n",
              "    }\n",
              "\n",
              "    .dataframe thead tr:last-of-type th {\n",
              "        text-align: right;\n",
              "    }\n",
              "</style>\n",
              "<table border=\"1\" class=\"dataframe\">\n",
              "  <thead>\n",
              "    <tr>\n",
              "      <th></th>\n",
              "      <th>campaign</th>\n",
              "    </tr>\n",
              "    <tr>\n",
              "      <th></th>\n",
              "      <th>count</th>\n",
              "    </tr>\n",
              "    <tr>\n",
              "      <th>campaign</th>\n",
              "      <th></th>\n",
              "    </tr>\n",
              "  </thead>\n",
              "  <tbody>\n",
              "    <tr>\n",
              "      <th>1</th>\n",
              "      <td>13529</td>\n",
              "    </tr>\n",
              "    <tr>\n",
              "      <th>2</th>\n",
              "      <td>10229</td>\n",
              "    </tr>\n",
              "    <tr>\n",
              "      <th>3</th>\n",
              "      <td>4608</td>\n",
              "    </tr>\n",
              "    <tr>\n",
              "      <th>4</th>\n",
              "      <td>3097</td>\n",
              "    </tr>\n",
              "    <tr>\n",
              "      <th>5</th>\n",
              "      <td>1508</td>\n",
              "    </tr>\n",
              "  </tbody>\n",
              "</table>\n",
              "</div>\n",
              "      <button class=\"colab-df-convert\" onclick=\"convertToInteractive('df-46896ada-7bfd-463f-94a3-52f635f84301')\"\n",
              "              title=\"Convert this dataframe to an interactive table.\"\n",
              "              style=\"display:none;\">\n",
              "        \n",
              "  <svg xmlns=\"http://www.w3.org/2000/svg\" height=\"24px\"viewBox=\"0 0 24 24\"\n",
              "       width=\"24px\">\n",
              "    <path d=\"M0 0h24v24H0V0z\" fill=\"none\"/>\n",
              "    <path d=\"M18.56 5.44l.94 2.06.94-2.06 2.06-.94-2.06-.94-.94-2.06-.94 2.06-2.06.94zm-11 1L8.5 8.5l.94-2.06 2.06-.94-2.06-.94L8.5 2.5l-.94 2.06-2.06.94zm10 10l.94 2.06.94-2.06 2.06-.94-2.06-.94-.94-2.06-.94 2.06-2.06.94z\"/><path d=\"M17.41 7.96l-1.37-1.37c-.4-.4-.92-.59-1.43-.59-.52 0-1.04.2-1.43.59L10.3 9.45l-7.72 7.72c-.78.78-.78 2.05 0 2.83L4 21.41c.39.39.9.59 1.41.59.51 0 1.02-.2 1.41-.59l7.78-7.78 2.81-2.81c.8-.78.8-2.07 0-2.86zM5.41 20L4 18.59l7.72-7.72 1.47 1.35L5.41 20z\"/>\n",
              "  </svg>\n",
              "      </button>\n",
              "      \n",
              "  <style>\n",
              "    .colab-df-container {\n",
              "      display:flex;\n",
              "      flex-wrap:wrap;\n",
              "      gap: 12px;\n",
              "    }\n",
              "\n",
              "    .colab-df-convert {\n",
              "      background-color: #E8F0FE;\n",
              "      border: none;\n",
              "      border-radius: 50%;\n",
              "      cursor: pointer;\n",
              "      display: none;\n",
              "      fill: #1967D2;\n",
              "      height: 32px;\n",
              "      padding: 0 0 0 0;\n",
              "      width: 32px;\n",
              "    }\n",
              "\n",
              "    .colab-df-convert:hover {\n",
              "      background-color: #E2EBFA;\n",
              "      box-shadow: 0px 1px 2px rgba(60, 64, 67, 0.3), 0px 1px 3px 1px rgba(60, 64, 67, 0.15);\n",
              "      fill: #174EA6;\n",
              "    }\n",
              "\n",
              "    [theme=dark] .colab-df-convert {\n",
              "      background-color: #3B4455;\n",
              "      fill: #D2E3FC;\n",
              "    }\n",
              "\n",
              "    [theme=dark] .colab-df-convert:hover {\n",
              "      background-color: #434B5C;\n",
              "      box-shadow: 0px 1px 3px 1px rgba(0, 0, 0, 0.15);\n",
              "      filter: drop-shadow(0px 1px 2px rgba(0, 0, 0, 0.3));\n",
              "      fill: #FFFFFF;\n",
              "    }\n",
              "  </style>\n",
              "\n",
              "      <script>\n",
              "        const buttonEl =\n",
              "          document.querySelector('#df-46896ada-7bfd-463f-94a3-52f635f84301 button.colab-df-convert');\n",
              "        buttonEl.style.display =\n",
              "          google.colab.kernel.accessAllowed ? 'block' : 'none';\n",
              "\n",
              "        async function convertToInteractive(key) {\n",
              "          const element = document.querySelector('#df-46896ada-7bfd-463f-94a3-52f635f84301');\n",
              "          const dataTable =\n",
              "            await google.colab.kernel.invokeFunction('convertToInteractive',\n",
              "                                                     [key], {});\n",
              "          if (!dataTable) return;\n",
              "\n",
              "          const docLinkHtml = 'Like what you see? Visit the ' +\n",
              "            '<a target=\"_blank\" href=https://colab.research.google.com/notebooks/data_table.ipynb>data table notebook</a>'\n",
              "            + ' to learn more about interactive tables.';\n",
              "          element.innerHTML = '';\n",
              "          dataTable['output_type'] = 'display_data';\n",
              "          await google.colab.output.renderOutput(dataTable, element);\n",
              "          const docLink = document.createElement('div');\n",
              "          docLink.innerHTML = docLinkHtml;\n",
              "          element.appendChild(docLink);\n",
              "        }\n",
              "      </script>\n",
              "    </div>\n",
              "  </div>\n",
              "  "
            ]
          },
          "metadata": {},
          "execution_count": 14
        }
      ]
    },
    {
      "cell_type": "markdown",
      "source": [
        "## Insight Descriptive Statistics\n",
        "\n",
        "**A. Apakah ada kolom dengan tipe data kurang sesuai, atau nama kolom dan isinya kurang sesuai?**<br>\n",
        "Dari semua informasi di atas, terlihat bahwa data tersebut memiliki 17 feature/ kolom. Tipe data untuk masing-masing kolom sudah sesuai. Antara nama kolom dengan isinya juga sudah sesuai.\n",
        "<br>\n",
        "<br>\n",
        "**B. Apakah ada kolom yang memiliki nilai kosong? Jika ada, apa saja?**<br>\n",
        "Dari 17 kolom tidak ada satupun yang memiliki nilai kosong, sehingga tidak perlu ada preprocessing untuk missing values.\n",
        "<br>\n",
        "<br>\n",
        "**C. Apakah ada kolom yang memiliki nilai summary agak aneh?\n",
        "(min/mean/median/max/unique/top/freq)**<br>\n",
        "<br>\n",
        "**Kolom Numerik**<br>\n",
        "\n",
        "\n",
        "`Age`: Untuk kolom age tidak terlihat potensi skewed karena mean (40.9) dan mediannya (39.0) tidak berbeda signifikan.\n",
        "<br>\n",
        "\n",
        "`Balance`: Untuk kolom balance terlihat nilai mean (1362.3) sangat jauh di atas mediannya (448.0). Nilai minimum balance memiliki nilai aneh, yaitu nilai yang minus sebesar -8019.<br>\n",
        "\n",
        "`Day`: Untuk kolom day terlihat mean (15.8) dan median (16.0) hampir sama. Kemudian nilai minimum, maksimum, kuartil 1 dan 3 terlihat normal. <br>\n",
        "\n",
        "`Duration`: Untuk kolom duration terlihat bahwa nilai mean (258.2) lebih besar dari nilai median (180.0). <br>\n",
        "\n",
        "`Campaign`: Untuk kolom campaign nampak adanya kecenderungan positive skew, di mana nilai mean (2.7) lebih besar dibanding nilai median (2.0) <br>\n",
        "\n",
        "`Pdays`: Untuk kolom pdays terlihat data berkumpul di angka -1 (36954 dari 45211 records), yang artinya hampir semua client tidak pernah di hubungi sebelumnya. <br> \n",
        "\n",
        "`Previous`: Untuk kolom previous terlihat kebanyakan client (36954 dari 45211 records) belum pernah menerima campaign sebelumnya.<br>\n",
        "<br>\n",
        "<br>\n",
        "`Kolom Kategori`<br>\n",
        "`job` : terdapat 12 pekerjaan berbeda, mayoritas 'blue-collar' (21.5%, 9732/45211).<br>\n",
        "`marital` : lebih dari 50% klien sudah menikah.<br>\n",
        "`education` : lebih dari 50% secondary<br>\n",
        "`housing` : lebih dari 50% client memiliki pinjaman rumah.<br> \n",
        "`loan` : mayoritas client tidak memiliki personal loan.<br>\n",
        "`contact` : lebih dari 50% client menggunakan telepon seluler. <br>\n",
        "`month` : paling banyak di bulan May saat melakukan campaign.<br>\n",
        "`poutcome` : ~80% memiliki value 'unknown'<br>\n",
        "`y` : 88.3% client tidak membeli deposito."
      ],
      "metadata": {
        "id": "YaWmj0ff7OCy"
      }
    },
    {
      "cell_type": "markdown",
      "source": [
        "# 2. Univariate Analysis"
      ],
      "metadata": {
        "id": "Tz0ewwvyGx_E"
      }
    },
    {
      "cell_type": "markdown",
      "source": [
        "#### Numerical Data\n"
      ],
      "metadata": {
        "id": "q50_cRICKvJJ"
      }
    },
    {
      "cell_type": "markdown",
      "source": [
        "##### Age"
      ],
      "metadata": {
        "id": "Fpoi6bJ0Sqd3"
      }
    },
    {
      "cell_type": "code",
      "source": [
        "## Age ##\n",
        "\n",
        "Q1_age = np.quantile(df['age'], .25)\n",
        "Q3_age = np.quantile(df['age'], .75)\n",
        "IQR_age = Q3_age - Q1_age\n",
        "min_IQR_age = Q1_age - 1.5 * IQR_age\n",
        "max_IQR_age = Q3_age + 1.5 * IQR_age\n",
        "nilai_min_age = np.min(df['age'])\n",
        "nilai_max_age = np.max(df['age'])\n",
        "\n",
        "print('')\n",
        "print('A. Mencari outlier dari kolom age')\n",
        "print('1. nilai Q1 dari age =', Q1_age)\n",
        "print('2. nilai Q3 dari age =', Q3_age)\n",
        "print('3. nilai IQR dari age =', IQR_age)\n",
        "print('4. nilai min IQR dari age =', min_IQR_age)\n",
        "print('5. nilai max IQR dari age =', max_IQR_age)\n",
        "print('6. nilai min dari age =', nilai_min_age)\n",
        "print('7. nilai max dari age =', nilai_max_age)\n",
        "\n",
        "if (nilai_min_age < min_IQR_age):\n",
        "    print('Ditemukan low outlier!')\n",
        "else:\n",
        "    print('Tidak ditemukan low outlier!')  \n",
        "\n",
        "if (nilai_max_age > max_IQR_age):\n",
        "    print('Ditemukan high outlier!')\n",
        "else:\n",
        "    print('Tidak ditemukan high outlier!')"
      ],
      "metadata": {
        "id": "6feLLQGxSrpv",
        "colab": {
          "base_uri": "https://localhost:8080/"
        },
        "outputId": "4f207208-0d86-4678-d9f7-b603d996367f"
      },
      "execution_count": 15,
      "outputs": [
        {
          "output_type": "stream",
          "name": "stdout",
          "text": [
            "\n",
            "A. Mencari outlier dari kolom age\n",
            "1. nilai Q1 dari age = 33.0\n",
            "2. nilai Q3 dari age = 48.0\n",
            "3. nilai IQR dari age = 15.0\n",
            "4. nilai min IQR dari age = 10.5\n",
            "5. nilai max IQR dari age = 70.5\n",
            "6. nilai min dari age = 18\n",
            "7. nilai max dari age = 95\n",
            "Tidak ditemukan low outlier!\n",
            "Ditemukan high outlier!\n"
          ]
        }
      ]
    },
    {
      "cell_type": "markdown",
      "source": [
        "##### Day"
      ],
      "metadata": {
        "id": "WJ4WMmB3UhCR"
      }
    },
    {
      "cell_type": "code",
      "source": [
        "## Day ##\n",
        "\n",
        "Q1_day = np.quantile(df['day'], .25)\n",
        "Q3_day = np.quantile(df['day'], .75)\n",
        "IQR_day = Q3_day - Q1_day\n",
        "min_IQR_day = Q1_day - 1.5 * IQR_day\n",
        "max_IQR_day = Q3_day + 1.5 * IQR_day\n",
        "nilai_min_day = np.min(df['day'])\n",
        "nilai_max_day = np.max(df['day'])\n",
        "\n",
        "print('')\n",
        "print('A. Mencari outlier dari kolom day')\n",
        "print('1. nilai Q1 dari day =', Q1_day)\n",
        "print('2. nilai Q3 dari day =', Q3_day)\n",
        "print('3. nilai IQR dari day =', IQR_day)\n",
        "print('4. nilai min IQR dari day =', min_IQR_day)\n",
        "print('5. nilai max IQR dari day =', max_IQR_day)\n",
        "print('6. nilai min dari day =', nilai_min_day)\n",
        "print('7. nilai max dari day =', nilai_max_day)\n",
        "\n",
        "if (nilai_min_day < min_IQR_day):\n",
        "    print('Ditemukan low outlier!')\n",
        "else:\n",
        "    print('Tidak ditemukan low outlier!')  \n",
        "\n",
        "if (nilai_max_day > max_IQR_day):\n",
        "    print('Ditemukan high outlier!')\n",
        "else:\n",
        "    print('Tidak ditemukan high outlier!')"
      ],
      "metadata": {
        "colab": {
          "base_uri": "https://localhost:8080/"
        },
        "id": "qMtE8r9FUiui",
        "outputId": "0b7af68e-451f-4182-ffde-4158852bae9d"
      },
      "execution_count": 16,
      "outputs": [
        {
          "output_type": "stream",
          "name": "stdout",
          "text": [
            "\n",
            "A. Mencari outlier dari kolom day\n",
            "1. nilai Q1 dari day = 8.0\n",
            "2. nilai Q3 dari day = 21.0\n",
            "3. nilai IQR dari day = 13.0\n",
            "4. nilai min IQR dari day = -11.5\n",
            "5. nilai max IQR dari day = 40.5\n",
            "6. nilai min dari day = 1\n",
            "7. nilai max dari day = 31\n",
            "Tidak ditemukan low outlier!\n",
            "Tidak ditemukan high outlier!\n"
          ]
        }
      ]
    },
    {
      "cell_type": "markdown",
      "source": [
        "##### Balance"
      ],
      "metadata": {
        "id": "ZHXYTrSBNyOT"
      }
    },
    {
      "cell_type": "code",
      "source": [
        "## Balance ##\n",
        "Q1_balance = np.quantile(df['balance'], .25)\n",
        "Q3_balance = np.quantile(df['balance'], .75)\n",
        "IQR_balance = Q3_balance - Q1_balance\n",
        "min_IQR_balance = Q1_balance - 1.5 * IQR_balance\n",
        "max_IQR_balance = Q3_balance + 1.5 * IQR_balance\n",
        "nilai_min_balance = np.min(df['balance'])\n",
        "nilai_max_balance = np.max(df['balance'])\n",
        "\n",
        "print('')\n",
        "print('A. Mencari outlier dari kolom balance')\n",
        "print('1. nilai Q1 dari balance =', Q1_balance)\n",
        "print('2. nilai Q3 dari balance =', Q3_balance)\n",
        "print('3. nilai IQR dari balance =', IQR_balance)\n",
        "print('4. nilai min IQR dari balance =', min_IQR_balance)\n",
        "print('5. nilai max IQR dari balance =', max_IQR_balance)\n",
        "print('6. nilai min dari balance =', nilai_min_balance)\n",
        "print('7. nilai max dari balance =', nilai_max_balance)\n",
        "\n",
        "if (nilai_min_balance < min_IQR_balance):\n",
        "    print('Ditemukan low outlier!')\n",
        "else:\n",
        "    print('Tidak ditemukan low outlier!')  \n",
        "\n",
        "if (nilai_max_balance > max_IQR_balance):\n",
        "    print('Ditemukan high outlier!')\n",
        "else:\n",
        "    print('Tidak ditemukan high outlier!')"
      ],
      "metadata": {
        "colab": {
          "base_uri": "https://localhost:8080/"
        },
        "id": "z5uQw30fIQnv",
        "outputId": "69f652e6-3209-4f9c-8df3-33d1788ce29d"
      },
      "execution_count": 17,
      "outputs": [
        {
          "output_type": "stream",
          "name": "stdout",
          "text": [
            "\n",
            "A. Mencari outlier dari kolom balance\n",
            "1. nilai Q1 dari balance = 72.0\n",
            "2. nilai Q3 dari balance = 1428.0\n",
            "3. nilai IQR dari balance = 1356.0\n",
            "4. nilai min IQR dari balance = -1962.0\n",
            "5. nilai max IQR dari balance = 3462.0\n",
            "6. nilai min dari balance = -8019\n",
            "7. nilai max dari balance = 102127\n",
            "Ditemukan low outlier!\n",
            "Ditemukan high outlier!\n"
          ]
        }
      ]
    },
    {
      "cell_type": "markdown",
      "source": [
        "##### Duration"
      ],
      "metadata": {
        "id": "Wryd2ifSN8PF"
      }
    },
    {
      "cell_type": "code",
      "source": [
        "## Duration ##\n",
        "\n",
        "Q1_duration = np.quantile(df['duration'], .25)\n",
        "Q3_duration = np.quantile(df['duration'], .75)\n",
        "IQR_duration = Q3_duration - Q1_duration\n",
        "min_IQR_duration = Q1_duration - 1.5 * IQR_duration\n",
        "max_IQR_duration = Q3_duration + 1.5 * IQR_duration\n",
        "nilai_min_duration = np.min(df['duration'])\n",
        "nilai_max_duration = np.max(df['duration'])\n",
        "\n",
        "print('')\n",
        "print('A. Mencari outlier dari kolom duration')\n",
        "print('1. nilai Q1 dari duration =', Q1_duration)\n",
        "print('2. nilai Q3 dari duration =', Q3_duration)\n",
        "print('3. nilai IQR dari duration =', IQR_duration)\n",
        "print('4. nilai min IQR dari duration =', min_IQR_duration)\n",
        "print('5. nilai max IQR dari duration =', max_IQR_duration)\n",
        "print('6. nilai min dari duration =', nilai_min_duration)\n",
        "print('7. nilai max dari duration =', nilai_max_duration)\n",
        "\n",
        "if (nilai_min_duration < min_IQR_duration):\n",
        "    print('Ditemukan low outlier!')\n",
        "else:\n",
        "    print('Tidak ditemukan low outlier!')  \n",
        "\n",
        "if (nilai_max_duration > max_IQR_duration):\n",
        "    print('Ditemukan high outlier!')\n",
        "else:\n",
        "    print('Tidak ditemukan high outlier!')"
      ],
      "metadata": {
        "colab": {
          "base_uri": "https://localhost:8080/"
        },
        "id": "DTmGtt_sKEyK",
        "outputId": "bec0d729-ebe3-4edd-925a-e69671f03596"
      },
      "execution_count": 18,
      "outputs": [
        {
          "output_type": "stream",
          "name": "stdout",
          "text": [
            "\n",
            "A. Mencari outlier dari kolom duration\n",
            "1. nilai Q1 dari duration = 103.0\n",
            "2. nilai Q3 dari duration = 319.0\n",
            "3. nilai IQR dari duration = 216.0\n",
            "4. nilai min IQR dari duration = -221.0\n",
            "5. nilai max IQR dari duration = 643.0\n",
            "6. nilai min dari duration = 0\n",
            "7. nilai max dari duration = 4918\n",
            "Tidak ditemukan low outlier!\n",
            "Ditemukan high outlier!\n"
          ]
        }
      ]
    },
    {
      "cell_type": "markdown",
      "source": [
        "##### Campaign"
      ],
      "metadata": {
        "id": "6RtSTdVGODc4"
      }
    },
    {
      "cell_type": "code",
      "source": [
        "# Campaign #\n",
        "\n",
        "Q1_campaign = np.quantile(df['campaign'], .25)\n",
        "Q3_campaign = np.quantile(df['campaign'], .75)\n",
        "IQR_campaign = Q3_campaign - Q1_campaign\n",
        "min_IQR_campaign = Q1_campaign - 1.5 * IQR_campaign\n",
        "max_IQR_campaign = Q3_campaign + 1.5 * IQR_campaign\n",
        "nilai_min_campaign = np.min(df['campaign'])\n",
        "nilai_max_campaign = np.max(df['campaign'])\n",
        "\n",
        "print('')\n",
        "print('A. Mencari outlier dari kolom campaign')\n",
        "print('1. nilai Q1 dari campaign =', Q1_campaign)\n",
        "print('2. nilai Q3 dari campaign =', Q3_campaign)\n",
        "print('3. nilai IQR dari campaign =', IQR_campaign)\n",
        "print('4. nilai min IQR dari campaign =', min_IQR_campaign)\n",
        "print('5. nilai max IQR dari campaign =', max_IQR_campaign)\n",
        "print('6. nilai min dari campaign =', nilai_min_campaign)\n",
        "print('7. nilai max dari campaign =', nilai_max_campaign)\n",
        "\n",
        "if (nilai_min_campaign < min_IQR_campaign):\n",
        "    print('Ditemukan low outlier!')\n",
        "else:\n",
        "    print('Tidak ditemukan low outlier!')  \n",
        "\n",
        "if (nilai_max_campaign > max_IQR_campaign):\n",
        "    print('Ditemukan high outlier!')\n",
        "else:\n",
        "    print('Tidak ditemukan high outlier!')"
      ],
      "metadata": {
        "colab": {
          "base_uri": "https://localhost:8080/"
        },
        "id": "ee5Y-qrVMwEe",
        "outputId": "176624f5-ec63-4d99-a837-4ccb84582ee4"
      },
      "execution_count": 19,
      "outputs": [
        {
          "output_type": "stream",
          "name": "stdout",
          "text": [
            "\n",
            "A. Mencari outlier dari kolom campaign\n",
            "1. nilai Q1 dari campaign = 1.0\n",
            "2. nilai Q3 dari campaign = 3.0\n",
            "3. nilai IQR dari campaign = 2.0\n",
            "4. nilai min IQR dari campaign = -2.0\n",
            "5. nilai max IQR dari campaign = 6.0\n",
            "6. nilai min dari campaign = 1\n",
            "7. nilai max dari campaign = 63\n",
            "Tidak ditemukan low outlier!\n",
            "Ditemukan high outlier!\n"
          ]
        }
      ]
    },
    {
      "cell_type": "markdown",
      "source": [
        "##### Pdays"
      ],
      "metadata": {
        "id": "pZJocBMQQJxM"
      }
    },
    {
      "cell_type": "code",
      "source": [
        "# Pdays #\n",
        "\n",
        "Q1_pdays = np.quantile(df['pdays'], .25)\n",
        "Q3_pdays = np.quantile(df['pdays'], .75)\n",
        "IQR_pdays = Q3_pdays - Q1_pdays\n",
        "min_IQR_pdays = Q1_pdays - 1.5 * IQR_pdays\n",
        "max_IQR_pdays = Q3_pdays + 1.5 * IQR_pdays\n",
        "nilai_min_pdays = np.min(df['pdays'])\n",
        "nilai_max_pdays = np.max(df['pdays'])\n",
        "\n",
        "print('')\n",
        "print('A. Mencari outlier dari kolom pdays')\n",
        "print('1. nilai Q1 dari pdays =', Q1_pdays)\n",
        "print('2. nilai Q3 dari pdays =', Q3_pdays)\n",
        "print('3. nilai IQR dari pdays =', IQR_pdays)\n",
        "print('4. nilai min IQR dari pdays =', min_IQR_pdays)\n",
        "print('5. nilai max IQR dari pdays =', max_IQR_pdays)\n",
        "print('6. nilai min dari pdays =', nilai_min_pdays)\n",
        "print('7. nilai max dari pdays =', nilai_max_pdays)\n",
        "\n",
        "if (nilai_min_pdays < min_IQR_pdays):\n",
        "    print('Ditemukan low outlier!')\n",
        "else:\n",
        "    print('Tidak ditemukan low outlier!')  \n",
        "\n",
        "if (nilai_max_pdays > max_IQR_pdays):\n",
        "    print('Ditemukan high outlier!')\n",
        "else:\n",
        "    print('Tidak ditemukan high outlier!')"
      ],
      "metadata": {
        "colab": {
          "base_uri": "https://localhost:8080/"
        },
        "id": "y4DtWY-cQMCF",
        "outputId": "e2f8ebe2-8d20-43b5-daca-50021c5ab65e"
      },
      "execution_count": 20,
      "outputs": [
        {
          "output_type": "stream",
          "name": "stdout",
          "text": [
            "\n",
            "A. Mencari outlier dari kolom pdays\n",
            "1. nilai Q1 dari pdays = -1.0\n",
            "2. nilai Q3 dari pdays = -1.0\n",
            "3. nilai IQR dari pdays = 0.0\n",
            "4. nilai min IQR dari pdays = -1.0\n",
            "5. nilai max IQR dari pdays = -1.0\n",
            "6. nilai min dari pdays = -1\n",
            "7. nilai max dari pdays = 871\n",
            "Tidak ditemukan low outlier!\n",
            "Ditemukan high outlier!\n"
          ]
        }
      ]
    },
    {
      "cell_type": "markdown",
      "source": [
        "##### Previous"
      ],
      "metadata": {
        "id": "iG24qdUtSGyR"
      }
    },
    {
      "cell_type": "code",
      "source": [
        "# Previous\n",
        "\n",
        "Q1_previous = np.quantile(df['previous'], .25)\n",
        "Q3_previous = np.quantile(df['previous'], .75)\n",
        "IQR_previous = Q3_previous - Q1_previous\n",
        "min_IQR_previous = Q1_previous - 1.5 * IQR_previous\n",
        "max_IQR_previous = Q3_previous + 1.5 * IQR_previous\n",
        "nilai_min_previous = np.min(df['previous'])\n",
        "nilai_max_previous = np.max(df['previous'])\n",
        "\n",
        "print('')\n",
        "print('A. Mencari outlier dari kolom previous')\n",
        "print('1. nilai Q1 dari previous =', Q1_previous)\n",
        "print('2. nilai Q3 dari previous =', Q3_previous)\n",
        "print('3. nilai IQR dari previous =', IQR_previous)\n",
        "print('4. nilai min IQR dari previous =', min_IQR_previous)\n",
        "print('5. nilai max IQR dari previous =', max_IQR_previous)\n",
        "print('6. nilai min dari previous =', nilai_min_previous)\n",
        "print('7. nilai max dari previous =', nilai_max_previous)\n",
        "\n",
        "if (nilai_min_previous < min_IQR_previous):\n",
        "    print('Ditemukan low outlier!')\n",
        "else:\n",
        "    print('Tidak ditemukan low outlier!')  \n",
        "\n",
        "if (nilai_max_previous > max_IQR_previous):\n",
        "    print('Ditemukan high outlier!')\n",
        "else:\n",
        "    print('Tidak ditemukan high outlier!')"
      ],
      "metadata": {
        "colab": {
          "base_uri": "https://localhost:8080/"
        },
        "id": "HlDiaLANSJbd",
        "outputId": "a71ba08a-eeb3-4a4d-fc3d-d9433b6a439f"
      },
      "execution_count": 21,
      "outputs": [
        {
          "output_type": "stream",
          "name": "stdout",
          "text": [
            "\n",
            "A. Mencari outlier dari kolom previous\n",
            "1. nilai Q1 dari previous = 0.0\n",
            "2. nilai Q3 dari previous = 0.0\n",
            "3. nilai IQR dari previous = 0.0\n",
            "4. nilai min IQR dari previous = 0.0\n",
            "5. nilai max IQR dari previous = 0.0\n",
            "6. nilai min dari previous = 0\n",
            "7. nilai max dari previous = 275\n",
            "Tidak ditemukan low outlier!\n",
            "Ditemukan high outlier!\n"
          ]
        }
      ]
    },
    {
      "cell_type": "code",
      "source": [
        "plt.figure(figsize = (15,3))\n",
        "for i in range(0, len(nums)):\n",
        "    plt.subplot(1, len(nums), i+1)\n",
        "    sns.boxplot(y=df[nums[i]], color = 'gray', orient = 'v')\n",
        "    plt.tight_layout()"
      ],
      "metadata": {
        "colab": {
          "base_uri": "https://localhost:8080/",
          "height": 225
        },
        "id": "ldyYHJaAW-Re",
        "outputId": "9a0668ed-2473-44f8-fa75-a268efbd3797"
      },
      "execution_count": 22,
      "outputs": [
        {
          "output_type": "display_data",
          "data": {
            "text/plain": [
              "<Figure size 1080x216 with 7 Axes>"
            ],
            "image/png": "[encoded data removed]"
          },
          "metadata": {}
        }
      ]
    },
    {
      "cell_type": "code",
      "source": [
        "plt.figure(figsize = (20,3))\n",
        "for i in range(0, len(nums)):\n",
        "    plt.subplot(1, len(nums), i+1)\n",
        "    sns.distplot(df[nums[i]], color = 'gray')\n",
        "    plt.tight_layout()"
      ],
      "metadata": {
        "colab": {
          "base_uri": "https://localhost:8080/",
          "height": 488
        },
        "id": "xBMgqfuaW_KG",
        "outputId": "5028bfec-0d3c-49a8-abdd-7080d5184d99"
      },
      "execution_count": 23,
      "outputs": [
        {
          "output_type": "stream",
          "name": "stderr",
          "text": [
            "/usr/local/lib/python3.7/dist-packages/seaborn/distributions.py:2619: FutureWarning: `distplot` is a deprecated function and will be removed in a future version. Please adapt your code to use either `displot` (a figure-level function with similar flexibility) or `histplot` (an axes-level function for histograms).\n",
            "  warnings.warn(msg, FutureWarning)\n",
            "/usr/local/lib/python3.7/dist-packages/seaborn/distributions.py:2619: FutureWarning: `distplot` is a deprecated function and will be removed in a future version. Please adapt your code to use either `displot` (a figure-level function with similar flexibility) or `histplot` (an axes-level function for histograms).\n",
            "  warnings.warn(msg, FutureWarning)\n",
            "/usr/local/lib/python3.7/dist-packages/seaborn/distributions.py:2619: FutureWarning: `distplot` is a deprecated function and will be removed in a future version. Please adapt your code to use either `displot` (a figure-level function with similar flexibility) or `histplot` (an axes-level function for histograms).\n",
            "  warnings.warn(msg, FutureWarning)\n",
            "/usr/local/lib/python3.7/dist-packages/seaborn/distributions.py:2619: FutureWarning: `distplot` is a deprecated function and will be removed in a future version. Please adapt your code to use either `displot` (a figure-level function with similar flexibility) or `histplot` (an axes-level function for histograms).\n",
            "  warnings.warn(msg, FutureWarning)\n",
            "/usr/local/lib/python3.7/dist-packages/seaborn/distributions.py:2619: FutureWarning: `distplot` is a deprecated function and will be removed in a future version. Please adapt your code to use either `displot` (a figure-level function with similar flexibility) or `histplot` (an axes-level function for histograms).\n",
            "  warnings.warn(msg, FutureWarning)\n",
            "/usr/local/lib/python3.7/dist-packages/seaborn/distributions.py:2619: FutureWarning: `distplot` is a deprecated function and will be removed in a future version. Please adapt your code to use either `displot` (a figure-level function with similar flexibility) or `histplot` (an axes-level function for histograms).\n",
            "  warnings.warn(msg, FutureWarning)\n",
            "/usr/local/lib/python3.7/dist-packages/seaborn/distributions.py:2619: FutureWarning: `distplot` is a deprecated function and will be removed in a future version. Please adapt your code to use either `displot` (a figure-level function with similar flexibility) or `histplot` (an axes-level function for histograms).\n",
            "  warnings.warn(msg, FutureWarning)\n"
          ]
        },
        {
          "output_type": "display_data",
          "data": {
            "text/plain": [
              "<Figure size 1440x216 with 7 Axes>"
            ],
            "image/png": "[encoded data removed]"
          },
          "metadata": {}
        }
      ]
    },
    {
      "cell_type": "markdown",
      "source": [
        "#### Kategorikal Data"
      ],
      "metadata": {
        "id": "TM0XGGdaL5cP"
      }
    },
    {
      "cell_type": "code",
      "source": [
        "print('1. nilai unik dari job dan jumlahnya:')\n",
        "print(df['job'].value_counts())\n",
        "print('')\n",
        "print('2. nilai unik dari marital dan jumlahnya:')\n",
        "print(df['marital'].value_counts())\n",
        "print('')\n",
        "print('3. nilai unik dari education dan jumlahnya:')\n",
        "print(df['education'].value_counts())\n",
        "print('')\n",
        "print('4. nilai unik dari default dan jumlahnya:')\n",
        "print(df['default'].value_counts())\n",
        "print('')\n",
        "print('5. nilai unik dari housing dan jumlahnya:')\n",
        "print(df['housing'].value_counts())\n",
        "print('')\n",
        "print('6. nilai unik dari loan dan jumlahnya:')\n",
        "print(df['loan'].value_counts())\n",
        "print('')\n",
        "print('7. nilai unik dari contact dan jumlahnya:')\n",
        "print(df['contact'].value_counts())\n",
        "print('')\n",
        "print('8. nilai unik dari contact dan jumlahnya:')\n",
        "print(df['month'].value_counts())\n",
        "print('')\n",
        "print('9. nilai unik dari poutcome dan jumlahnya:')\n",
        "print(df['poutcome'].value_counts())\n",
        "print('')\n",
        "print('10. nilai unik dari y dan jumlahnya:')\n",
        "print(df['y'].value_counts())\n",
        "print('')"
      ],
      "metadata": {
        "colab": {
          "base_uri": "https://localhost:8080/"
        },
        "id": "XbWZTw8XKaC5",
        "outputId": "677ec75f-09e9-480d-d1fe-8c1e3df550e0"
      },
      "execution_count": 24,
      "outputs": [
        {
          "output_type": "stream",
          "name": "stdout",
          "text": [
            "1. nilai unik dari job dan jumlahnya:\n",
            "blue-collar      9732\n",
            "management       9458\n",
            "technician       7597\n",
            "admin.           5171\n",
            "services         4154\n",
            "retired          2264\n",
            "self-employed    1579\n",
            "entrepreneur     1487\n",
            "unemployed       1303\n",
            "housemaid        1240\n",
            "student           938\n",
            "unknown           288\n",
            "Name: job, dtype: int64\n",
            "\n",
            "2. nilai unik dari marital dan jumlahnya:\n",
            "married     27214\n",
            "single      12790\n",
            "divorced     5207\n",
            "Name: marital, dtype: int64\n",
            "\n",
            "3. nilai unik dari education dan jumlahnya:\n",
            "secondary    23202\n",
            "tertiary     13301\n",
            "primary       6851\n",
            "unknown       1857\n",
            "Name: education, dtype: int64\n",
            "\n",
            "4. nilai unik dari default dan jumlahnya:\n",
            "no     44396\n",
            "yes      815\n",
            "Name: default, dtype: int64\n",
            "\n",
            "5. nilai unik dari housing dan jumlahnya:\n",
            "yes    25130\n",
            "no     20081\n",
            "Name: housing, dtype: int64\n",
            "\n",
            "6. nilai unik dari loan dan jumlahnya:\n",
            "no     37967\n",
            "yes     7244\n",
            "Name: loan, dtype: int64\n",
            "\n",
            "7. nilai unik dari contact dan jumlahnya:\n",
            "cellular     29285\n",
            "unknown      13020\n",
            "telephone     2906\n",
            "Name: contact, dtype: int64\n",
            "\n",
            "8. nilai unik dari contact dan jumlahnya:\n",
            "may    13766\n",
            "jul     6895\n",
            "aug     6247\n",
            "jun     5341\n",
            "nov     3970\n",
            "apr     2932\n",
            "feb     2649\n",
            "jan     1403\n",
            "oct      738\n",
            "sep      579\n",
            "mar      477\n",
            "dec      214\n",
            "Name: month, dtype: int64\n",
            "\n",
            "9. nilai unik dari poutcome dan jumlahnya:\n",
            "unknown    36959\n",
            "failure     4901\n",
            "other       1840\n",
            "success     1511\n",
            "Name: poutcome, dtype: int64\n",
            "\n",
            "10. nilai unik dari y dan jumlahnya:\n",
            "no     39922\n",
            "yes     5289\n",
            "Name: y, dtype: int64\n",
            "\n"
          ]
        }
      ]
    },
    {
      "cell_type": "code",
      "source": [
        "plt.figure(figsize=(18,80))\n",
        "for idx, col in enumerate(cats):\n",
        "    plt.subplot(10,1,idx + 1)\n",
        "    ax = sns.countplot(data = df, y = df[col] ,order = df[col].value_counts().index);\n",
        "    plt.ylabel(col, fontsize = 14)\n",
        "    plt.xlabel('Count', fontsize = 14)"
      ],
      "metadata": {
        "colab": {
          "base_uri": "https://localhost:8080/",
          "height": 1000
        },
        "id": "pwNVhOG2XWiE",
        "outputId": "d0c76712-ceb0-446d-ddbb-3f98602ca103"
      },
      "execution_count": 25,
      "outputs": [
        {
          "output_type": "display_data",
          "data": {
            "text/plain": [
              "<Figure size 1296x5760 with 10 Axes>"
            ],
            "image/png": "[encoded data removed]"
          },
          "metadata": {}
        }
      ]
    },
    {
      "cell_type": "code",
      "source": [
        "plt.figure(figsize=(7,4))\n",
        "ax = sns.countplot(data = df, x = df['month'], hue = df['y'],\n",
        "                   order = ['jan', 'feb', 'mar', 'apr', 'may', 'jun', 'jul', 'aug', 'sep', \n",
        "                            'oct', 'nov', 'dec'])\n",
        "plt.xlabel('Month', fontsize = 14)\n",
        "plt.ylabel('Count', fontsize = 14)"
      ],
      "metadata": {
        "colab": {
          "base_uri": "https://localhost:8080/",
          "height": 300
        },
        "id": "2a-DVG-6p0Ve",
        "outputId": "873f5547-e96d-4dab-e990-755339006dbd"
      },
      "execution_count": 26,
      "outputs": [
        {
          "output_type": "execute_result",
          "data": {
            "text/plain": [
              "Text(0, 0.5, 'Count')"
            ]
          },
          "metadata": {},
          "execution_count": 26
        },
        {
          "output_type": "display_data",
          "data": {
            "text/plain": [
              "<Figure size 504x288 with 1 Axes>"
            ],
            "image/png": "[encoded data removed]"
          },
          "metadata": {}
        }
      ]
    },
    {
      "cell_type": "markdown",
      "source": [
        "## Insight Univariate Analysis\n",
        "Berdasarkan visualisasi dari distribusi tabel <br><br>\n",
        "\n",
        "`Numerical` <br><br>\n",
        "\n",
        "`Age`: <br>\n",
        "1. skew positif = mean > modus/median\n",
        "2. tidak ditemukan low outlier\n",
        "3. ditemukan high outlier = ada yang nilainya jauh diatas normal\n",
        "<br>\n",
        "\n",
        "`Day` : <br>\n",
        "1. normal distribution\n",
        "2. tidak ditemukan low outlier dan high outlier\n",
        "<br>\n",
        "\n",
        "`Balance` : <br>\n",
        "1. skew positif = mean > modus/median\n",
        "2. ditemukan low outlier = ada yang nilainya jauh dibawah normal\n",
        "3. ditemukan high outlier = ada yang nilainya jauh diatas normal\n",
        "<br>\n",
        "\n",
        "`Duration` : <br>\n",
        "1. skew positif = mean > modus/median\n",
        "2. tidak ditemukan low outlier = tidak ada yang nilainya jauh dibawah normal\n",
        "3. ditemukan high outlier = ada yang nilainya jauh diatas normal\n",
        "<br>\n",
        "\n",
        "`Campaign` : <br>\n",
        "1. skew positif = mean > modus/median\n",
        "2. tidak ditemukan low outlier = tidak ada yang nilainya jauh dibawah normal\n",
        "3. ditemukan high outlier = ada yang nilainya jauh diatas normal\n",
        "<br>\n",
        "\n",
        "`Pdays` : <br>\n",
        "1. skew positif = mean > modus/median\n",
        "2. tidak ditemukan low outlier = tidak ada yang nilainya jauh dibawah normal\n",
        "3. ditemukan high outlier = ada yang nilainya jauh diatas normal\n",
        "<br>\n",
        "\n",
        "`Previous` : <br>\n",
        "1. skew positif = mean > modus/median\n",
        "2. tidak ditemukan low outlier = tidak ada yang nilainya jauh dibawah normal\n",
        "3. ditemukan high outlier = ada yang nilainya jauh diatas normal\n",
        "<br><br>\n",
        "\n",
        "`Categorical` <br><br>\n",
        "\n",
        "`Job` : top 3 nya ‘blue-collar’, ‘management’, dan ‘technician’ (masing-masing memiliki nilai di atas 7000 record). terdapat ‘unknown’ job dengan jumlah record di bawah 500 <br>\n",
        "\n",
        "`Marital` : ‘married’ menempati posisi tertinggi dengan jumlah records > 25,000, ‘single’ dan ‘divorced’ berada pada posisi kedua dan ketiga <br>\n",
        "\n",
        "`Education` : ‘secondary’ menempati posisi tertinggi dengan > 20,000 records, diikuti dengan ‘tertiary’, ‘primary’, dan ‘unknown’. ‘unknown’ < 2,500 record <br>\n",
        "\n",
        "`Default` : hampir semua records memiliki value ‘no’ <br>\n",
        "\n",
        "`Housing` : posisi pertama ‘yes’ dengan jumlah record sekitar 25,000, sisanya ‘no’. distribusi keduanya cukup seimbang <br>\n",
        "\n",
        "`Loan` : ‘no’ menempati posisi pertama (jumlah record > 35,000), sisanya ‘yes’ <br>\n",
        "\n",
        "`Contact` : ‘cellular’ menempati posisi pertama (jumlah record > 25,000), siikuti ‘unknown’ dan ‘telephone’. jumlah ‘unknown’ cukup banyak, sekitar 13,000 record <br>\n",
        "\n",
        "`Month` : ‘May’ menempati posisi pertama (jumlah record > 12,000), diikuti ‘jul’ dan ‘aug’ <br>\n",
        "\n",
        "`Poutcome` : ‘unknown’ menempati posisi tertinggi dengan jumlah record > 35,000. Jumlah ‘success’ < 2,500 <br>\n",
        "\n",
        "`y` : ‘no’ berada di posisi tertinggi, dengan jumlah record sekitar 40,000. ‘yes’ sektar 5,000 record. Kolom ini memiliki class-imbalance, kemungkinan besar akan dilakukan oversampling pada tahap selanjutnya"
      ],
      "metadata": {
        "id": "lxbAWJqmYNG8"
      }
    },
    {
      "cell_type": "markdown",
      "source": [
        "# 3. Multivariate Analysis"
      ],
      "metadata": {
        "id": "L_OZEzuJaFTF"
      }
    },
    {
      "cell_type": "markdown",
      "source": [
        "## Heatmap Correlation"
      ],
      "metadata": {
        "id": "p3U6XTJZaY3R"
      }
    },
    {
      "cell_type": "code",
      "source": [
        "sns.heatmap(df.corr(), cmap='YlGnBu', annot=True, fmt='.2f')"
      ],
      "metadata": {
        "colab": {
          "base_uri": "https://localhost:8080/",
          "height": 326
        },
        "id": "usQOjceQaJNp",
        "outputId": "33ed582d-1640-48cf-99a6-e624d67d896c"
      },
      "execution_count": 27,
      "outputs": [
        {
          "output_type": "execute_result",
          "data": {
            "text/plain": [
              "<matplotlib.axes._subplots.AxesSubplot at 0x7f1b21be2450>"
            ]
          },
          "metadata": {},
          "execution_count": 27
        },
        {
          "output_type": "display_data",
          "data": {
            "text/plain": [
              "<Figure size 432x288 with 2 Axes>"
            ],
            "image/png": "[encoded data removed]"
          },
          "metadata": {}
        }
      ]
    },
    {
      "cell_type": "markdown",
      "source": [
        "### Quotation for correlation\n",
        "Interpretasi korelasi antar dua variabel\n",
        "(Sarwono:2006)\n",
        "\n",
        ">0 : Tidak ada korelasi antara dua variabel<br>\n",
        ">0 – 0,25 : Korelasi sangat lemah<br>\n",
        ">0,25 – 0,5 : Korelasi cukup<br>\n",
        ">0,5 – 0,75 : Korelasi kuat<br>\n",
        ">0,75 – 0,99 : Korelasi sangat kuat<br>\n",
        "1 : Korelasi hubungan sempurna positif<br>\n",
        "-1 : Korelasi hubungan sempurna negatif<br>"
      ],
      "metadata": {
        "id": "NUV7YeyQbZVn"
      }
    },
    {
      "cell_type": "markdown",
      "source": [
        "### Insight Heatmap Correlation\n",
        " * Target output yaitu `y` sebagai variabel target / variabel dependent karena variabel `y`adalah hasil prediksi dari variabel bebas lainnya dan hasilnya akan selalu berubah menyesuaikan variabel bebas\n",
        " * Tidak ada korelasi yang kuat antara target `y` dengan masing-masing feature yang ada\n",
        " * Kemungkinan besar tidak ada data yang redundant (tidak ada yang memiliki korelasi dengan nilai >0.7)\n",
        "\n",
        "**Korelasi hasil heatmap**\n",
        "\n",
        "Dapat disimpulkan bahwa telemarketer tidak banyak melakukan campaign terhadap client sehingga `pdays` dan`previous` memiliki korelasi cukup kuat positif sebesar 0.45"
      ],
      "metadata": {
        "id": "rT91APhCbHmz"
      }
    },
    {
      "cell_type": "markdown",
      "source": [
        "## Pairplot"
      ],
      "metadata": {
        "id": "ka6-RLm3gu5g"
      }
    },
    {
      "cell_type": "code",
      "source": [
        "#Pairplot with sample 500\n",
        "sns.set_style(\"darkgrid\")\n",
        "sns.pairplot(df, diag_kind='kde', hue='y')"
      ],
      "metadata": {
        "id": "BpFJLawPgyOb"
      },
      "execution_count": null,
      "outputs": []
    },
    {
      "cell_type": "markdown",
      "source": [
        "Berdasarkan grafik diatas dapat disimpulkan bahwa :\n",
        "\n",
        "1. Client yang memiliki umur dibawah 60 tahun lebih banyak untuk dihubungi \n",
        "selama campaign\n",
        "2. Client yang memiliki rata-rata saldo tahunan dibawah 20.000 euro lebih banyak dihubungi selama campaign\n",
        "3. Lama durasi telemarketer menghubungi client pada masa campaign kurang dari 1000 detik atau sekitar kurang dari 16 menit\n",
        "4. Sebagian besar client yang membuka akun deposito memiliki durasi telfon relatif lebih lama dari pada yang tidak membuka akun deposito."
      ],
      "metadata": {
        "id": "nRRQxcB8jS6p"
      }
    },
    {
      "cell_type": "code",
      "source": [
        "# Atribut 'y' diubah menjadi bilangan biner dengan keterangan 1 = 'yes' dan 0 = 'no'\n",
        "df1 = pd.read_csv('https://raw.githubusercontent.com/ChangCorp/finalproject/main/train_delimited_comma.csv')\n",
        "df1['y'] =  df1[\"y\"].map({'yes' : 1, 'no' : 0})\n",
        "df1"
      ],
      "metadata": {
        "id": "u6p-vbkqq3X0"
      },
      "execution_count": null,
      "outputs": []
    },
    {
      "cell_type": "markdown",
      "source": [
        "## Category Plot"
      ],
      "metadata": {
        "id": "-5bZR7GIjlUC"
      }
    },
    {
      "cell_type": "code",
      "source": [
        "cats_categorical=['job','marital','default','education','housing','loan','contact']"
      ],
      "metadata": {
        "id": "M-n1Bv6jxDmR"
      },
      "execution_count": null,
      "outputs": []
    },
    {
      "cell_type": "code",
      "source": [
        "plt.figure(figsize=(18,80))\n",
        "for idx, col in enumerate(cats_categorical):\n",
        "    plt.subplot(10,1,idx + 1)\n",
        "    ax = sns.countplot(data = df, y = df[col] ,order = df[col].value_counts().index);\n",
        "    plt.ylabel(col, fontsize = 14)\n",
        "    plt.xlabel('y', fontsize = 14)"
      ],
      "metadata": {
        "id": "_PoJmRmHvSeF"
      },
      "execution_count": null,
      "outputs": []
    },
    {
      "cell_type": "code",
      "source": [
        "#Penambahan kolom 'age_group'\n",
        "#Rata-rata umur manusia > 70 tahun. \n",
        "#Maybe depositonya untuk anak cucu sanak saudara :D\n",
        "\n",
        "df1.loc[df1['age']<20, 'age_group'] = '<20'\n",
        "df1.loc[df1['age'].between(21,30), 'age_group'] = '20-30'\n",
        "df1.loc[df1['age'].between(31,40), 'age_group'] = '30-40'\n",
        "df1.loc[df1['age'].between(41,50), 'age_group'] = '40-50'\n",
        "df1.loc[df1['age'].between(51,60), 'age_group'] = '50-60'\n",
        "df1.loc[df1['age'].between(61,70), 'age_group'] = '60-70'\n",
        "df1.loc[df1['age']>70, 'age_group'] = '>70'\n",
        "\n",
        "df"
      ],
      "metadata": {
        "id": "ehvpaL5jlSwr"
      },
      "execution_count": null,
      "outputs": []
    },
    {
      "cell_type": "code",
      "source": [
        "sns.countplot(data=df1,x='age_group',hue='y')"
      ],
      "metadata": {
        "id": "YBiIthlW5I-0"
      },
      "execution_count": null,
      "outputs": []
    },
    {
      "cell_type": "code",
      "source": [
        "#Penambahan kolom 'balance_group'\n",
        "\n",
        "df1.loc[df1['balance']>=0, 'balance_group'] = 'positive_balance'\n",
        "df1.loc[df1['balance']<=0, 'balance_group'] = 'negative_balance'\n"
      ],
      "metadata": {
        "id": "_v7gBuzx6XJ6"
      },
      "execution_count": null,
      "outputs": []
    },
    {
      "cell_type": "code",
      "source": [
        "sns.countplot(data=df1,x='balance_group',hue='y')"
      ],
      "metadata": {
        "id": "7qrx9bUW8qcc"
      },
      "execution_count": null,
      "outputs": []
    },
    {
      "cell_type": "markdown",
      "source": [
        "### Category vs Target"
      ],
      "metadata": {
        "id": "W7wkBQt-A72P"
      }
    },
    {
      "cell_type": "code",
      "source": [
        "# melihat hubungan fitur-fitur kategorikal dengan calon target pemodelan (y)\n",
        "for i in range(0, len(cats_categorical)):\n",
        "    plt.subplot(3, 3, i+1) \n",
        "    sns.kdeplot(data=df1, x='y', hue=features[i])\n",
        "    #plt.xlabel(features[i])\n",
        "    plt.tight_layout()"
      ],
      "metadata": {
        "id": "p_jrGbelr1cx"
      },
      "execution_count": null,
      "outputs": []
    },
    {
      "cell_type": "markdown",
      "source": [
        "### Insight Category Plot\n",
        "\n",
        "1. Klien dengan rentang umur 20 - 50 adalah klien yang paling banyak tertarik terhadap campaign deposito\n",
        "2. Status menikah, pendidikan 'secondary', memiliki pinjaman KPR, tidak memiliki hutang di bank, penggunaan HP tertarik dengan produk deposito\n",
        "3. Klien yang memiliki rata-rata saldo negatif, berarti memiliki hutang sehingga kurang tertarik dengan penawaran campaign\n"
      ],
      "metadata": {
        "id": "uxzqc0Bx1wRE"
      }
    },
    {
      "cell_type": "markdown",
      "source": [
        "## Insight Multivariate Analysis\n",
        "**A. Bagaimana korelasi antara masing-masing feature dan label. Kira-kira feature mana\n",
        "saja yang paling relevan dan harus dipertahankan?**\n",
        "<br>\n",
        "\n",
        "A. Korelasi antar feature\n",
        " * Kolom `pdays` dengan `previous` memiliki korelasi cukup kuat positif (0.45)\n",
        " * Kolom `duration` dengan `y` memiliki korelasi cukup kuat positif (0.39)\n",
        " * Kolom `day` dengan `campaign` memiliki korelasi lemah positif (0.16)\n",
        " * Kolom `pdays` dengan `y` memiliki korelasi lemah positif (0.10)\n",
        " * Kolom `balance` dengan `age` memiliki korelasi lemah positif (0.10)\n",
        "\n",
        "<br>\n",
        "\n",
        "Feature yang paling relevan dan harus dipertahankan adalah \n",
        " 1. `Duration`\n",
        " 2. `Pdays`\n",
        " 3. `Previous`\n",
        " 4. `Balance`\n",
        " 5. `Age`\n",
        " 6. `Day`\n",
        " 7. `Campaign`\n",
        "<br>\n",
        "\n",
        "**B. Bagaimana korelasi antar-feature, apakah ada pola yang menarik? Apa yang perlu dilakukan terhadap feature itu?**<br>\n",
        "\n",
        "1. Terdapat korelasi yang cukup kuat positif dengan nilai paling tinggi (0.45) diantara feature yang lain, yaitu `pdays` dengan `previous` <br>\n",
        "2. Klien yang paling tertarik dengan produk deposito adalah klien dengan status <br>\n",
        "  a. menikah<br>\n",
        "  b. pendidikan 'secondary'<br>\n",
        "  c. tidak memiliki pinjaman KPR<br>\n",
        "  d. tidak memiliki hutang di bank<br>\n",
        "  e. menggunakan celullar/HP <br>\n",
        "\n",
        "3. Kemungkinan besar tidak ada data yang redundant (tidak ada yang memiliki korelasi dengan nilai >0.7)"
      ],
      "metadata": {
        "id": "I3rf9ixmyWoZ"
      }
    },
    {
      "cell_type": "markdown",
      "source": [
        "## Business Insight\n",
        "\n",
        "1. Klien dengan rentang umur 20 - 50 adalah klien yang paling banyak tertarik terhadap campaign deposito\n",
        "2. Klien yang paling tertarik dengan produk deposito adalah klien dengan status <br>\n",
        "  a. menikah<br>\n",
        "  b. pendidikan 'secondary'<br>\n",
        "  c. tidak memiliki pinjaman KPR<br>\n",
        "  d. tidak memiliki hutang di bank<br>\n",
        "  e. menggunakan celullar/HP <br>\n",
        "3. Klien yang memiliki rata-rata saldo negatif, berarti memiliki hutang sehingga kurang tertarik dengan penawaran campaign"
      ],
      "metadata": {
        "id": "VnXL0uYVyeVi"
      }
    }
  ]
}